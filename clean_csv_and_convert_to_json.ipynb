{
 "cells": [
  {
   "cell_type": "code",
   "execution_count": 1,
   "id": "b60134d4",
   "metadata": {},
   "outputs": [],
   "source": [
    "import csv\n",
    "import json\n",
    "import os\n",
    "import pandas as pd"
   ]
  },
  {
   "cell_type": "code",
   "execution_count": 2,
   "id": "e6170784",
   "metadata": {},
   "outputs": [],
   "source": [
    "# csv file paths\n",
    "\n",
    "energy_path = 'csv_files/Energy_Sector.csv'\n",
    "estate_path = 'csv_files/Estate_Sector.csv'\n",
    "finance_path = 'csv_files/Financial_Sector.csv'\n",
    "health_path = 'csv_files/healthcare_data.csv'\n",
    "tech_path = 'csv_files/Technology_Sector.csv'\n"
   ]
  },
  {
   "cell_type": "code",
   "execution_count": 3,
   "id": "aa1e5907",
   "metadata": {},
   "outputs": [
    {
     "ename": "FileNotFoundError",
     "evalue": "[Errno 2] No such file or directory: 'csv_files/Energy_Sector.csv'",
     "output_type": "error",
     "traceback": [
      "\u001b[0;31m---------------------------------------------------------------------------\u001b[0m",
      "\u001b[0;31mFileNotFoundError\u001b[0m                         Traceback (most recent call last)",
      "\u001b[0;32m/var/folders/0g/ztp01mqs1rl4g8txj3fsr0rw0000gn/T/ipykernel_17049/3601221824.py\u001b[0m in \u001b[0;36m<module>\u001b[0;34m\u001b[0m\n\u001b[0;32m----> 1\u001b[0;31m \u001b[0menergy_df\u001b[0m \u001b[0;34m=\u001b[0m \u001b[0mpd\u001b[0m\u001b[0;34m.\u001b[0m\u001b[0mread_csv\u001b[0m\u001b[0;34m(\u001b[0m\u001b[0menergy_path\u001b[0m\u001b[0;34m)\u001b[0m\u001b[0;34m\u001b[0m\u001b[0;34m\u001b[0m\u001b[0m\n\u001b[0m\u001b[1;32m      2\u001b[0m \u001b[0menergy_reduced\u001b[0m \u001b[0;34m=\u001b[0m \u001b[0menergy_df\u001b[0m\u001b[0;34m[\u001b[0m\u001b[0;34m[\u001b[0m\u001b[0;34m\"Date\"\u001b[0m\u001b[0;34m,\u001b[0m \u001b[0;34m\"Name\"\u001b[0m\u001b[0;34m,\u001b[0m \u001b[0;34m\"Open\"\u001b[0m\u001b[0;34m]\u001b[0m\u001b[0;34m]\u001b[0m\u001b[0;34m\u001b[0m\u001b[0;34m\u001b[0m\u001b[0m\n\u001b[1;32m      3\u001b[0m \u001b[0;34m\u001b[0m\u001b[0m\n\u001b[1;32m      4\u001b[0m \u001b[0menergy_csv_path\u001b[0m \u001b[0;34m=\u001b[0m \u001b[0;34m'csv/energy.csv'\u001b[0m\u001b[0;34m\u001b[0m\u001b[0;34m\u001b[0m\u001b[0m\n\u001b[1;32m      5\u001b[0m \u001b[0;34m\u001b[0m\u001b[0m\n",
      "\u001b[0;32m/opt/anaconda3/lib/python3.9/site-packages/pandas/util/_decorators.py\u001b[0m in \u001b[0;36mwrapper\u001b[0;34m(*args, **kwargs)\u001b[0m\n\u001b[1;32m    309\u001b[0m                     \u001b[0mstacklevel\u001b[0m\u001b[0;34m=\u001b[0m\u001b[0mstacklevel\u001b[0m\u001b[0;34m,\u001b[0m\u001b[0;34m\u001b[0m\u001b[0;34m\u001b[0m\u001b[0m\n\u001b[1;32m    310\u001b[0m                 )\n\u001b[0;32m--> 311\u001b[0;31m             \u001b[0;32mreturn\u001b[0m \u001b[0mfunc\u001b[0m\u001b[0;34m(\u001b[0m\u001b[0;34m*\u001b[0m\u001b[0margs\u001b[0m\u001b[0;34m,\u001b[0m \u001b[0;34m**\u001b[0m\u001b[0mkwargs\u001b[0m\u001b[0;34m)\u001b[0m\u001b[0;34m\u001b[0m\u001b[0;34m\u001b[0m\u001b[0m\n\u001b[0m\u001b[1;32m    312\u001b[0m \u001b[0;34m\u001b[0m\u001b[0m\n\u001b[1;32m    313\u001b[0m         \u001b[0;32mreturn\u001b[0m \u001b[0mwrapper\u001b[0m\u001b[0;34m\u001b[0m\u001b[0;34m\u001b[0m\u001b[0m\n",
      "\u001b[0;32m/opt/anaconda3/lib/python3.9/site-packages/pandas/io/parsers/readers.py\u001b[0m in \u001b[0;36mread_csv\u001b[0;34m(filepath_or_buffer, sep, delimiter, header, names, index_col, usecols, squeeze, prefix, mangle_dupe_cols, dtype, engine, converters, true_values, false_values, skipinitialspace, skiprows, skipfooter, nrows, na_values, keep_default_na, na_filter, verbose, skip_blank_lines, parse_dates, infer_datetime_format, keep_date_col, date_parser, dayfirst, cache_dates, iterator, chunksize, compression, thousands, decimal, lineterminator, quotechar, quoting, doublequote, escapechar, comment, encoding, encoding_errors, dialect, error_bad_lines, warn_bad_lines, on_bad_lines, delim_whitespace, low_memory, memory_map, float_precision, storage_options)\u001b[0m\n\u001b[1;32m    676\u001b[0m     \u001b[0mkwds\u001b[0m\u001b[0;34m.\u001b[0m\u001b[0mupdate\u001b[0m\u001b[0;34m(\u001b[0m\u001b[0mkwds_defaults\u001b[0m\u001b[0;34m)\u001b[0m\u001b[0;34m\u001b[0m\u001b[0;34m\u001b[0m\u001b[0m\n\u001b[1;32m    677\u001b[0m \u001b[0;34m\u001b[0m\u001b[0m\n\u001b[0;32m--> 678\u001b[0;31m     \u001b[0;32mreturn\u001b[0m \u001b[0m_read\u001b[0m\u001b[0;34m(\u001b[0m\u001b[0mfilepath_or_buffer\u001b[0m\u001b[0;34m,\u001b[0m \u001b[0mkwds\u001b[0m\u001b[0;34m)\u001b[0m\u001b[0;34m\u001b[0m\u001b[0;34m\u001b[0m\u001b[0m\n\u001b[0m\u001b[1;32m    679\u001b[0m \u001b[0;34m\u001b[0m\u001b[0m\n\u001b[1;32m    680\u001b[0m \u001b[0;34m\u001b[0m\u001b[0m\n",
      "\u001b[0;32m/opt/anaconda3/lib/python3.9/site-packages/pandas/io/parsers/readers.py\u001b[0m in \u001b[0;36m_read\u001b[0;34m(filepath_or_buffer, kwds)\u001b[0m\n\u001b[1;32m    573\u001b[0m \u001b[0;34m\u001b[0m\u001b[0m\n\u001b[1;32m    574\u001b[0m     \u001b[0;31m# Create the parser.\u001b[0m\u001b[0;34m\u001b[0m\u001b[0;34m\u001b[0m\u001b[0m\n\u001b[0;32m--> 575\u001b[0;31m     \u001b[0mparser\u001b[0m \u001b[0;34m=\u001b[0m \u001b[0mTextFileReader\u001b[0m\u001b[0;34m(\u001b[0m\u001b[0mfilepath_or_buffer\u001b[0m\u001b[0;34m,\u001b[0m \u001b[0;34m**\u001b[0m\u001b[0mkwds\u001b[0m\u001b[0;34m)\u001b[0m\u001b[0;34m\u001b[0m\u001b[0;34m\u001b[0m\u001b[0m\n\u001b[0m\u001b[1;32m    576\u001b[0m \u001b[0;34m\u001b[0m\u001b[0m\n\u001b[1;32m    577\u001b[0m     \u001b[0;32mif\u001b[0m \u001b[0mchunksize\u001b[0m \u001b[0;32mor\u001b[0m \u001b[0miterator\u001b[0m\u001b[0;34m:\u001b[0m\u001b[0;34m\u001b[0m\u001b[0;34m\u001b[0m\u001b[0m\n",
      "\u001b[0;32m/opt/anaconda3/lib/python3.9/site-packages/pandas/io/parsers/readers.py\u001b[0m in \u001b[0;36m__init__\u001b[0;34m(self, f, engine, **kwds)\u001b[0m\n\u001b[1;32m    930\u001b[0m \u001b[0;34m\u001b[0m\u001b[0m\n\u001b[1;32m    931\u001b[0m         \u001b[0mself\u001b[0m\u001b[0;34m.\u001b[0m\u001b[0mhandles\u001b[0m\u001b[0;34m:\u001b[0m \u001b[0mIOHandles\u001b[0m \u001b[0;34m|\u001b[0m \u001b[0;32mNone\u001b[0m \u001b[0;34m=\u001b[0m \u001b[0;32mNone\u001b[0m\u001b[0;34m\u001b[0m\u001b[0;34m\u001b[0m\u001b[0m\n\u001b[0;32m--> 932\u001b[0;31m         \u001b[0mself\u001b[0m\u001b[0;34m.\u001b[0m\u001b[0m_engine\u001b[0m \u001b[0;34m=\u001b[0m \u001b[0mself\u001b[0m\u001b[0;34m.\u001b[0m\u001b[0m_make_engine\u001b[0m\u001b[0;34m(\u001b[0m\u001b[0mf\u001b[0m\u001b[0;34m,\u001b[0m \u001b[0mself\u001b[0m\u001b[0;34m.\u001b[0m\u001b[0mengine\u001b[0m\u001b[0;34m)\u001b[0m\u001b[0;34m\u001b[0m\u001b[0;34m\u001b[0m\u001b[0m\n\u001b[0m\u001b[1;32m    933\u001b[0m \u001b[0;34m\u001b[0m\u001b[0m\n\u001b[1;32m    934\u001b[0m     \u001b[0;32mdef\u001b[0m \u001b[0mclose\u001b[0m\u001b[0;34m(\u001b[0m\u001b[0mself\u001b[0m\u001b[0;34m)\u001b[0m\u001b[0;34m:\u001b[0m\u001b[0;34m\u001b[0m\u001b[0;34m\u001b[0m\u001b[0m\n",
      "\u001b[0;32m/opt/anaconda3/lib/python3.9/site-packages/pandas/io/parsers/readers.py\u001b[0m in \u001b[0;36m_make_engine\u001b[0;34m(self, f, engine)\u001b[0m\n\u001b[1;32m   1214\u001b[0m             \u001b[0;31m# \"Union[str, PathLike[str], ReadCsvBuffer[bytes], ReadCsvBuffer[str]]\"\u001b[0m\u001b[0;34m\u001b[0m\u001b[0;34m\u001b[0m\u001b[0m\n\u001b[1;32m   1215\u001b[0m             \u001b[0;31m# , \"str\", \"bool\", \"Any\", \"Any\", \"Any\", \"Any\", \"Any\"\u001b[0m\u001b[0;34m\u001b[0m\u001b[0;34m\u001b[0m\u001b[0m\n\u001b[0;32m-> 1216\u001b[0;31m             self.handles = get_handle(  # type: ignore[call-overload]\n\u001b[0m\u001b[1;32m   1217\u001b[0m                 \u001b[0mf\u001b[0m\u001b[0;34m,\u001b[0m\u001b[0;34m\u001b[0m\u001b[0;34m\u001b[0m\u001b[0m\n\u001b[1;32m   1218\u001b[0m                 \u001b[0mmode\u001b[0m\u001b[0;34m,\u001b[0m\u001b[0;34m\u001b[0m\u001b[0;34m\u001b[0m\u001b[0m\n",
      "\u001b[0;32m/opt/anaconda3/lib/python3.9/site-packages/pandas/io/common.py\u001b[0m in \u001b[0;36mget_handle\u001b[0;34m(path_or_buf, mode, encoding, compression, memory_map, is_text, errors, storage_options)\u001b[0m\n\u001b[1;32m    784\u001b[0m         \u001b[0;32mif\u001b[0m \u001b[0mioargs\u001b[0m\u001b[0;34m.\u001b[0m\u001b[0mencoding\u001b[0m \u001b[0;32mand\u001b[0m \u001b[0;34m\"b\"\u001b[0m \u001b[0;32mnot\u001b[0m \u001b[0;32min\u001b[0m \u001b[0mioargs\u001b[0m\u001b[0;34m.\u001b[0m\u001b[0mmode\u001b[0m\u001b[0;34m:\u001b[0m\u001b[0;34m\u001b[0m\u001b[0;34m\u001b[0m\u001b[0m\n\u001b[1;32m    785\u001b[0m             \u001b[0;31m# Encoding\u001b[0m\u001b[0;34m\u001b[0m\u001b[0;34m\u001b[0m\u001b[0m\n\u001b[0;32m--> 786\u001b[0;31m             handle = open(\n\u001b[0m\u001b[1;32m    787\u001b[0m                 \u001b[0mhandle\u001b[0m\u001b[0;34m,\u001b[0m\u001b[0;34m\u001b[0m\u001b[0;34m\u001b[0m\u001b[0m\n\u001b[1;32m    788\u001b[0m                 \u001b[0mioargs\u001b[0m\u001b[0;34m.\u001b[0m\u001b[0mmode\u001b[0m\u001b[0;34m,\u001b[0m\u001b[0;34m\u001b[0m\u001b[0;34m\u001b[0m\u001b[0m\n",
      "\u001b[0;31mFileNotFoundError\u001b[0m: [Errno 2] No such file or directory: 'csv_files/Energy_Sector.csv'"
     ]
    }
   ],
   "source": [
    "energy_df = pd.read_csv(energy_path)\n",
    "energy_reduced = energy_df[[\"Date\", \"Name\", \"Open\"]]\n",
    "\n",
    "energy_csv_path = 'csv/energy.csv'\n",
    "\n",
    "# Save dataframe to CSV file\n",
    "energy_reduced.to_csv(energy_csv_path, index=False)"
   ]
  },
  {
   "cell_type": "code",
   "execution_count": null,
   "id": "8c881e91",
   "metadata": {},
   "outputs": [],
   "source": [
    "estate_df = pd.read_csv(estate_path)\n",
    "estate_reduced = estate_df[[\"Date\", \"Name\", \"Open\"]]\n",
    "\n",
    "estate_csv_path = 'csv/estate.csv'\n",
    "\n",
    "# Save dataframe to CSV file\n",
    "estate_reduced.to_csv(estate_csv_path, index=False)"
   ]
  },
  {
   "cell_type": "code",
   "execution_count": null,
   "id": "27c825f9",
   "metadata": {},
   "outputs": [],
   "source": [
    "finance_df = pd.read_csv(finance_path)\n",
    "finance_reduced = finance_df[[\"Date\", \"Name\", \"Open\"]]\n",
    "\n",
    "finance_csv_path = 'csv/finance.csv'\n",
    "\n",
    "# Save dataframe to CSV file\n",
    "finance_reduced.to_csv(finance_csv_path, index=False)"
   ]
  },
  {
   "cell_type": "code",
   "execution_count": null,
   "id": "ae100d18",
   "metadata": {},
   "outputs": [],
   "source": [
    "health_df = pd.read_csv(health_path)\n",
    "health_reduced = health_df[[\"Date\", \"Name\", \"Open\"]]\n",
    "\n",
    "\n",
    "health_csv_path = 'csv/health.csv'\n",
    "\n",
    "# Save dataframe to CSV file\n",
    "health_reduced.to_csv(health_csv_path, index=False)"
   ]
  },
  {
   "cell_type": "code",
   "execution_count": null,
   "id": "58639a31",
   "metadata": {},
   "outputs": [],
   "source": [
    "tech_df = pd.read_csv(tech_path)\n",
    "tech_reduced = tech_df[[\"Date\", \"Name\", \"Open\"]]\n",
    "\n",
    "\n",
    "tech_csv_path = 'csv/tech.csv'\n",
    "\n",
    "# Save dataframe to CSV file\n",
    "tech_reduced.to_csv(tech_csv_path, index=False)"
   ]
  },
  {
   "cell_type": "code",
   "execution_count": null,
   "id": "1b680094",
   "metadata": {},
   "outputs": [],
   "source": [
    "csv_energy_path = 'csv/Energy.csv'\n",
    "csv_estate_path = 'csv/Estate.csv'\n",
    "csv_finance_path = 'csv/Finance.csv'\n",
    "csv_health_path = 'csv/health.csv'\n",
    "csv_tech_path = 'csv/Tech.csv'\n",
    "\n",
    "\n",
    "energy_json = 'json/energy.json'\n",
    "estate_json = 'json/estate.json'\n",
    "finance_json = 'json/finance.json'\n",
    "health_json = 'json/health.json'\n",
    "tech_json = 'json/tech.json'"
   ]
  },
  {
   "cell_type": "code",
   "execution_count": null,
   "id": "1f4ff229",
   "metadata": {},
   "outputs": [],
   "source": [
    "# Read CSV file and convert to list of dictionaries\n",
    "with open(csv_energy_path, 'r') as energy_file:\n",
    "    reader = csv.reader(energy_file)\n",
    "    headers = next(reader)\n",
    "    rows = []\n",
    "    for row in reader:\n",
    "        rows.append(dict(zip(headers, row)))\n",
    "\n",
    "# Write JSON file\n",
    "with open(energy_json, 'w') as energy_json:\n",
    "    json.dump(rows, energy_json)"
   ]
  },
  {
   "cell_type": "code",
   "execution_count": null,
   "id": "86f22942",
   "metadata": {},
   "outputs": [],
   "source": [
    "# Read CSV file and convert to list of dictionaries\n",
    "with open(csv_estate_path, 'r') as estate_file:\n",
    "    reader = csv.reader(estate_file)\n",
    "    headers = next(reader)\n",
    "    rows = []\n",
    "    for row in reader:\n",
    "        rows.append(dict(zip(headers, row)))\n",
    "\n",
    "# Write JSON file\n",
    "with open(estate_json, 'w') as estate_json:\n",
    "    json.dump(rows, estate_json)"
   ]
  },
  {
   "cell_type": "code",
   "execution_count": null,
   "id": "6b7940b1",
   "metadata": {},
   "outputs": [],
   "source": [
    "# Read CSV file and convert to list of dictionaries\n",
    "with open(csv_finance_path, 'r') as finance_file:\n",
    "    reader = csv.reader(finance_file)\n",
    "    headers = next(reader)\n",
    "    rows = []\n",
    "    for row in reader:\n",
    "        rows.append(dict(zip(headers, row)))\n",
    "\n",
    "# Write JSON file\n",
    "with open(finance_json, 'w') as finance_json:\n",
    "    json.dump(rows, finance_json)"
   ]
  },
  {
   "cell_type": "code",
   "execution_count": null,
   "id": "7568550c",
   "metadata": {},
   "outputs": [],
   "source": [
    "# Read CSV file and convert to list of dictionaries\n",
    "with open(csv_health_path, 'r') as health_file:\n",
    "    reader = csv.reader(health_file)\n",
    "    headers = next(reader)\n",
    "    rows = []\n",
    "    for row in reader:\n",
    "        rows.append(dict(zip(headers, row)))\n",
    "\n",
    "# Write JSON file\n",
    "with open(health_json, 'w') as health_json:\n",
    "    json.dump(rows, health_json)"
   ]
  },
  {
   "cell_type": "code",
   "execution_count": null,
   "id": "bc8b7093",
   "metadata": {},
   "outputs": [],
   "source": [
    "# Read CSV file and convert to list of dictionaries\n",
    "with open(csv_tech_path, 'r') as tech_file:\n",
    "    reader = csv.reader(tech_file)\n",
    "    headers = next(reader)\n",
    "    rows = []\n",
    "    for row in reader:\n",
    "        rows.append(dict(zip(headers, row)))\n",
    "\n",
    "# Write JSON file\n",
    "with open(tech_json, 'w') as tech_json:\n",
    "    json.dump(rows, tech_json)"
   ]
  },
  {
   "cell_type": "code",
   "execution_count": null,
   "id": "e91e454f",
   "metadata": {},
   "outputs": [],
   "source": []
  },
  {
   "cell_type": "code",
   "execution_count": null,
   "id": "2d821506",
   "metadata": {},
   "outputs": [],
   "source": []
  }
 ],
 "metadata": {
  "kernelspec": {
   "display_name": "Python 3 (ipykernel)",
   "language": "python",
   "name": "python3"
  },
  "language_info": {
   "codemirror_mode": {
    "name": "ipython",
    "version": 3
   },
   "file_extension": ".py",
   "mimetype": "text/x-python",
   "name": "python",
   "nbconvert_exporter": "python",
   "pygments_lexer": "ipython3",
   "version": "3.9.13"
  }
 },
 "nbformat": 4,
 "nbformat_minor": 5
}

{
 "cells": [
  {
   "cell_type": "code",
   "execution_count": 1,
   "id": "cefbfc6d",
   "metadata": {},
   "outputs": [],
   "source": [
    "#Dependencies\n",
    "import pandas as pd\n",
    "import numpy as np\n",
    "import requests\n",
    "import json\n",
    "import yfinance as yf"
   ]
  },
  {
   "cell_type": "code",
   "execution_count": null,
   "id": "b51ea6fd",
   "metadata": {},
   "outputs": [],
   "source": []
  },
  {
   "cell_type": "code",
   "execution_count": 3,
   "id": "c524b69d",
   "metadata": {},
   "outputs": [
    {
     "name": "stdout",
     "output_type": "stream",
     "text": [
      "                          Symbol                             Name        Open\n",
      "2020-01-03 00:00:00-05:00    JNJ                Johnson & Johnson  131.831127\n",
      "2020-01-03 00:00:00-05:00    UNH  UnitedHealth Group Incorporated  274.199445\n",
      "2020-01-03 00:00:00-05:00    NVO                 Novo Nordisk A/S   54.118358\n",
      "2020-01-03 00:00:00-05:00    LLY            Eli Lilly and Company  123.734523\n",
      "2020-01-03 00:00:00-05:00    MRK                Merck & Co., Inc.   77.863454\n"
     ]
    }
   ],
   "source": [
    "#Healthcare Sector\n",
    "#request etflist ticker data from yfinance dated 1-3,2020\n",
    "tickers = ['JNJ', 'UNH', 'NVO', 'LLY', 'MRK']\n",
    "\n",
    "data = {}\n",
    "\n",
    "for ticker in tickers:\n",
    "    try:\n",
    "        stock = yf.Ticker(ticker)\n",
    "        hist1 = stock.history(period='4y')\n",
    "        data[ticker] = pd.DataFrame({'Symbol': [ticker],\n",
    "                                      'Name': [stock.info['longName']],\n",
    "                                      'Open': [hist1.iloc[-827]['Open']]},\n",
    "                                      index=[hist1.index[-827]])\n",
    "    except IndexError:\n",
    "        data[ticker] = pd.DataFrame({'Symbol': [ticker],\n",
    "                                      'Name': [None],\n",
    "                                      'Open': [None]},\n",
    "                                      index=[None])\n",
    "\n",
    "df1 = pd.concat(data.values())\n",
    "print(df1)"
   ]
  },
  {
   "cell_type": "code",
   "execution_count": 37,
   "id": "efc2fb6e",
   "metadata": {},
   "outputs": [
    {
     "name": "stdout",
     "output_type": "stream",
     "text": [
      "                          Symbol                             Name        Open\n",
      "2020-03-02 00:00:00-05:00    JNJ                Johnson & Johnson  124.609742\n",
      "2020-03-02 00:00:00-05:00    UNH  UnitedHealth Group Incorporated  245.631305\n",
      "2020-03-02 00:00:00-05:00    NVO                 Novo Nordisk A/S   57.161391\n",
      "2020-03-02 00:00:00-05:00    LLY            Eli Lilly and Company  121.932244\n",
      "2020-03-02 00:00:00-05:00    MRK                Merck & Co., Inc.   66.228606\n"
     ]
    }
   ],
   "source": [
    "#Healthcare Sector\n",
    "#request etflist ticker data from yfinance dated 3-2,2020\n",
    "tickers = ['JNJ', 'UNH', 'NVO', 'LLY', 'MRK']\n",
    "\n",
    "data = {}\n",
    "\n",
    "for ticker in tickers:\n",
    "    try:\n",
    "        stock = yf.Ticker(ticker)\n",
    "        hist2 = stock.history(period='4y')\n",
    "        data[ticker] = pd.DataFrame({'Symbol': [ticker],\n",
    "                                      'Name': [stock.info['longName']],\n",
    "                                      'Open': [hist2.iloc[-788]['Open']]},\n",
    "                                      index=[hist2.index[-788]])\n",
    "    except IndexError:\n",
    "        data[ticker] = pd.DataFrame({'Symbol': [ticker],\n",
    "                                      'Name': [None],\n",
    "                                      'Open': [None]},\n",
    "                                      index=[None])\n",
    "\n",
    "df2 = pd.concat(data.values())\n",
    "print(df2)"
   ]
  },
  {
   "cell_type": "code",
   "execution_count": 40,
   "id": "eb2093ce",
   "metadata": {},
   "outputs": [
    {
     "name": "stdout",
     "output_type": "stream",
     "text": [
      "                          Symbol                             Name        Open\n",
      "2020-05-01 00:00:00-04:00    JNJ                Johnson & Johnson  138.329954\n",
      "2020-05-01 00:00:00-04:00    UNH  UnitedHealth Group Incorporated  276.460874\n",
      "2020-05-01 00:00:00-04:00    NVO                 Novo Nordisk A/S   60.860574\n",
      "2020-05-01 00:00:00-04:00    LLY            Eli Lilly and Company  146.731046\n",
      "2020-05-01 00:00:00-04:00    MRK                Merck & Co., Inc.   68.273460\n"
     ]
    }
   ],
   "source": [
    "#Healthcare Sector\n",
    "#request etflist ticker data from yfinance dated 5-1,2020\n",
    "tickers = ['JNJ', 'UNH', 'NVO', 'LLY', 'MRK']\n",
    "\n",
    "data = {}\n",
    "\n",
    "for ticker in tickers:\n",
    "    try:\n",
    "        stock = yf.Ticker(ticker)\n",
    "        hist3 = stock.history(period='4y')\n",
    "        data[ticker] = pd.DataFrame({'Symbol': [ticker],\n",
    "                                      'Name': [stock.info['longName']],\n",
    "                                      'Open': [hist3.iloc[-745]['Open']]},\n",
    "                                      index=[hist3.index[-745]])\n",
    "    except IndexError:\n",
    "        data[ticker] = pd.DataFrame({'Symbol': [ticker],\n",
    "                                      'Name': [None],\n",
    "                                      'Open': [None]},\n",
    "                                      index=[None])\n",
    "\n",
    "df3 = pd.concat(data.values())\n",
    "print(df3)"
   ]
  },
  {
   "cell_type": "code",
   "execution_count": 41,
   "id": "4e96315a",
   "metadata": {},
   "outputs": [
    {
     "name": "stdout",
     "output_type": "stream",
     "text": [
      "                          Symbol                             Name        Open\n",
      "2020-07-01 00:00:00-04:00    JNJ                Johnson & Johnson  130.975497\n",
      "2020-07-01 00:00:00-04:00    UNH  UnitedHealth Group Incorporated  284.814523\n",
      "2020-07-01 00:00:00-04:00    NVO                 Novo Nordisk A/S   61.621334\n",
      "2020-07-01 00:00:00-04:00    LLY            Eli Lilly and Company  157.587512\n",
      "2020-07-01 00:00:00-04:00    MRK                Merck & Co., Inc.   67.568309\n"
     ]
    }
   ],
   "source": [
    "#Healthcare Sector\n",
    "#request etflist ticker data from yfinance dated 7-1,2020\n",
    "tickers = ['JNJ', 'UNH', 'NVO', 'LLY', 'MRK']\n",
    "\n",
    "data = {}\n",
    "\n",
    "for ticker in tickers:\n",
    "    try:\n",
    "        stock = yf.Ticker(ticker)\n",
    "        hist4 = stock.history(period='4y')\n",
    "        data[ticker] = pd.DataFrame({'Symbol': [ticker],\n",
    "                                      'Name': [stock.info['longName']],\n",
    "                                      'Open': [hist4.iloc[-703]['Open']]},\n",
    "                                      index=[hist4.index[-703]])\n",
    "    except IndexError:\n",
    "        data[ticker] = pd.DataFrame({'Symbol': [ticker],\n",
    "                                      'Name': [None],\n",
    "                                      'Open': [None]},\n",
    "                                      index=[None])\n",
    "\n",
    "df4 = pd.concat(data.values())\n",
    "print(df4)"
   ]
  },
  {
   "cell_type": "code",
   "execution_count": 42,
   "id": "86f379ca",
   "metadata": {},
   "outputs": [
    {
     "name": "stdout",
     "output_type": "stream",
     "text": [
      "                          Symbol                             Name        Open\n",
      "2020-09-01 00:00:00-04:00    JNJ                Johnson & Johnson  144.198792\n",
      "2020-09-01 00:00:00-04:00    UNH  UnitedHealth Group Incorporated  298.610955\n",
      "2020-09-01 00:00:00-04:00    NVO                 Novo Nordisk A/S   64.115056\n",
      "2020-09-01 00:00:00-04:00    LLY            Eli Lilly and Company  143.215909\n",
      "2020-09-01 00:00:00-04:00    MRK                Merck & Co., Inc.   74.479598\n"
     ]
    }
   ],
   "source": [
    "#Healthcare Sector\n",
    "#request etflist ticker data from yfinance dated 9-1,2020\n",
    "tickers = ['JNJ', 'UNH', 'NVO', 'LLY', 'MRK']\n",
    "\n",
    "data = {}\n",
    "\n",
    "for ticker in tickers:\n",
    "    try:\n",
    "        stock = yf.Ticker(ticker)\n",
    "        hist5 = stock.history(period='4y')\n",
    "        data[ticker] = pd.DataFrame({'Symbol': [ticker],\n",
    "                                      'Name': [stock.info['longName']],\n",
    "                                      'Open': [hist5.iloc[-660]['Open']]},\n",
    "                                      index=[hist5.index[-660]])\n",
    "    except IndexError:\n",
    "        data[ticker] = pd.DataFrame({'Symbol': [ticker],\n",
    "                                      'Name': [None],\n",
    "                                      'Open': [None]},\n",
    "                                      index=[None])\n",
    "\n",
    "df5 = pd.concat(data.values())\n",
    "print(df5)"
   ]
  },
  {
   "cell_type": "code",
   "execution_count": 44,
   "id": "1481c41b",
   "metadata": {},
   "outputs": [
    {
     "name": "stdout",
     "output_type": "stream",
     "text": [
      "                          Symbol                             Name        Open\n",
      "2020-11-02 00:00:00-05:00    JNJ                Johnson & Johnson  130.244682\n",
      "2020-11-02 00:00:00-05:00    UNH  UnitedHealth Group Incorporated  302.238901\n",
      "2020-11-02 00:00:00-05:00    NVO                 Novo Nordisk A/S   62.006635\n",
      "2020-11-02 00:00:00-05:00    LLY            Eli Lilly and Company  127.729192\n",
      "2020-11-02 00:00:00-05:00    MRK                Merck & Co., Inc.   67.198335\n"
     ]
    }
   ],
   "source": [
    "#Healthcare Sector\n",
    "#request etflist ticker data from yfinance dated 11-2,2020\n",
    "tickers = ['JNJ', 'UNH', 'NVO', 'LLY', 'MRK']\n",
    "\n",
    "data = {}\n",
    "\n",
    "for ticker in tickers:\n",
    "    try:\n",
    "        stock = yf.Ticker(ticker)\n",
    "        hist6 = stock.history(period='4y')\n",
    "        data[ticker] = pd.DataFrame({'Symbol': [ticker],\n",
    "                                      'Name': [stock.info['longName']],\n",
    "                                      'Open': [hist6.iloc[-617]['Open']]},\n",
    "                                      index=[hist6.index[-617]])\n",
    "    except IndexError:\n",
    "        data[ticker] = pd.DataFrame({'Symbol': [ticker],\n",
    "                                      'Name': [None],\n",
    "                                      'Open': [None]},\n",
    "                                      index=[None])\n",
    "\n",
    "df6 = pd.concat(data.values())\n",
    "print(df6)"
   ]
  },
  {
   "cell_type": "code",
   "execution_count": 50,
   "id": "9ca07e60",
   "metadata": {},
   "outputs": [
    {
     "name": "stdout",
     "output_type": "stream",
     "text": [
      "                          Symbol                             Name        Open\n",
      "2021-01-04 00:00:00-05:00    JNJ                Johnson & Johnson  148.380899\n",
      "2021-01-04 00:00:00-05:00    UNH  UnitedHealth Group Incorporated  340.980116\n",
      "2021-01-04 00:00:00-05:00    NVO                 Novo Nordisk A/S   68.226467\n",
      "2021-01-04 00:00:00-05:00    LLY            Eli Lilly and Company  163.722032\n",
      "2021-01-04 00:00:00-05:00    MRK                Merck & Co., Inc.   72.645884\n"
     ]
    }
   ],
   "source": [
    "#Healthcare Sector\n",
    "#request etflist ticker data from yfinance dated 1-4,2021\n",
    "tickers = ['JNJ', 'UNH', 'NVO', 'LLY', 'MRK']\n",
    "\n",
    "data = {}\n",
    "\n",
    "for ticker in tickers:\n",
    "    try:\n",
    "        stock = yf.Ticker(ticker)\n",
    "        hist7 = stock.history(period='4y')\n",
    "        data[ticker] = pd.DataFrame({'Symbol': [ticker],\n",
    "                                      'Name': [stock.info['longName']],\n",
    "                                      'Open': [hist7.iloc[-575]['Open']]},\n",
    "                                      index=[hist7.index[-575]])\n",
    "    except IndexError:\n",
    "        data[ticker] = pd.DataFrame({'Symbol': [ticker],\n",
    "                                      'Name': [None],\n",
    "                                      'Open': [None]},\n",
    "                                      index=[None])\n",
    "\n",
    "df7 = pd.concat(data.values())\n",
    "print(df7)"
   ]
  },
  {
   "cell_type": "code",
   "execution_count": 66,
   "id": "f0defd90",
   "metadata": {},
   "outputs": [
    {
     "name": "stdout",
     "output_type": "stream",
     "text": [
      "                          Symbol                             Name       Open\n",
      "2021-03-01 00:00:00-05:00    JNJ                Johnson & Johnson  64.858601\n",
      "2021-03-01 00:00:00-05:00    UNH  UnitedHealth Group Incorporated  64.858601\n",
      "2021-03-01 00:00:00-05:00    NVO                 Novo Nordisk A/S  64.858601\n",
      "2021-03-01 00:00:00-05:00    LLY            Eli Lilly and Company  64.858601\n",
      "2021-03-01 00:00:00-05:00    MRK                Merck & Co., Inc.  64.858601\n"
     ]
    }
   ],
   "source": [
    "#Healthcare Sector\n",
    "#request etflist ticker data from yfinance dated 3-1021\n",
    "tickers = ['JNJ', 'UNH', 'NVO', 'LLY', 'MRK']\n",
    "\n",
    "data = {}\n",
    "\n",
    "for ticker in tickers:\n",
    "    try:\n",
    "        stock = yf.Ticker(ticker)\n",
    "        hist8 = stock.history(period='4y')\n",
    "        data[ticker] = pd.DataFrame({'Symbol': [ticker],\n",
    "                                      'Name': [stock.info['longName']],\n",
    "                                      'Open': [hist8.iloc[-537]['Open']]},\n",
    "                                      index=[hist8.index[-537]])\n",
    "    except IndexError:\n",
    "        data[ticker] = pd.DataFrame({'Symbol': [ticker],\n",
    "                                      'Name': [None],\n",
    "                                      'Open': [None]},\n",
    "                                      index=[None])\n",
    "\n",
    "df8 = pd.concat(data.values())\n",
    "print(df8)"
   ]
  },
  {
   "cell_type": "code",
   "execution_count": 70,
   "id": "097d64ea",
   "metadata": {},
   "outputs": [
    {
     "name": "stdout",
     "output_type": "stream",
     "text": [
      "                          Symbol                             Name        Open\n",
      "2021-05-03 00:00:00-04:00    JNJ                Johnson & Johnson  155.345289\n",
      "2021-05-03 00:00:00-04:00    UNH  UnitedHealth Group Incorporated  390.436212\n",
      "2021-05-03 00:00:00-04:00    NVO                 Novo Nordisk A/S   72.981350\n",
      "2021-05-03 00:00:00-04:00    LLY            Eli Lilly and Company  177.994372\n",
      "2021-05-03 00:00:00-04:00    MRK                Merck & Co., Inc.   66.366851\n"
     ]
    }
   ],
   "source": [
    "#Healthcare Sector\n",
    "#request etflist ticker data from yfinance dated 5-3-1021\n",
    "tickers = ['JNJ', 'UNH', 'NVO', 'LLY', 'MRK']\n",
    "\n",
    "data = {}\n",
    "\n",
    "for ticker in tickers:\n",
    "    try:\n",
    "        stock = yf.Ticker(ticker)\n",
    "        hist9 = stock.history(period='4y')\n",
    "        data[ticker] = pd.DataFrame({'Symbol': [ticker],\n",
    "                                      'Name': [stock.info['longName']],\n",
    "                                      'Open': [hist9.iloc[-493]['Open']]},\n",
    "                                      index=[hist9.index[-493]])\n",
    "    except IndexError:\n",
    "        data[ticker] = pd.DataFrame({'Symbol': [ticker],\n",
    "                                      'Name': [None],\n",
    "                                      'Open': [None]},\n",
    "                                      index=[None])\n",
    "\n",
    "df9 = pd.concat(data.values())\n",
    "print(df9)"
   ]
  },
  {
   "cell_type": "code",
   "execution_count": 76,
   "id": "a84210f4",
   "metadata": {},
   "outputs": [
    {
     "name": "stdout",
     "output_type": "stream",
     "text": [
      "                          Symbol                             Name        Open\n",
      "2021-07-01 00:00:00-04:00    JNJ                Johnson & Johnson  157.403725\n",
      "2021-07-01 00:00:00-04:00    UNH  UnitedHealth Group Incorporated  392.872731\n",
      "2021-07-01 00:00:00-04:00    NVO                 Novo Nordisk A/S   81.836713\n",
      "2021-07-01 00:00:00-04:00    LLY            Eli Lilly and Company  224.230867\n",
      "2021-07-01 00:00:00-04:00    MRK                Merck & Co., Inc.   73.352701\n"
     ]
    }
   ],
   "source": [
    "#Healthcare Sector\n",
    "#request etflist ticker data from yfinance dated 7-1-1021\n",
    "tickers = ['JNJ', 'UNH', 'NVO', 'LLY', 'MRK']\n",
    "\n",
    "data = {}\n",
    "\n",
    "for ticker in tickers:\n",
    "    try:\n",
    "        stock = yf.Ticker(ticker)\n",
    "        hist10 = stock.history(period='4y')\n",
    "        data[ticker] = pd.DataFrame({'Symbol': [ticker],\n",
    "                                      'Name': [stock.info['longName']],\n",
    "                                      'Open': [hist10.iloc[-451]['Open']]},\n",
    "                                      index=[hist10.index[-451]])\n",
    "    except IndexError:\n",
    "        data[ticker] = pd.DataFrame({'Symbol': [ticker],\n",
    "                                      'Name': [None],\n",
    "                                      'Open': [None]},\n",
    "                                      index=[None])\n",
    "\n",
    "df10 = pd.concat(data.values())\n",
    "print(df10)"
   ]
  },
  {
   "cell_type": "code",
   "execution_count": 81,
   "id": "c1b2668e",
   "metadata": {},
   "outputs": [
    {
     "name": "stdout",
     "output_type": "stream",
     "text": [
      "                          Symbol                             Name        Open\n",
      "2021-09-01 00:00:00-04:00    JNJ                Johnson & Johnson  166.182007\n",
      "2021-09-01 00:00:00-04:00    UNH  UnitedHealth Group Incorporated  407.052202\n",
      "2021-09-01 00:00:00-04:00    NVO                 Novo Nordisk A/S   97.666130\n",
      "2021-09-01 00:00:00-04:00    LLY            Eli Lilly and Company  253.408740\n",
      "2021-09-01 00:00:00-04:00    MRK                Merck & Co., Inc.   72.001837\n"
     ]
    }
   ],
   "source": [
    "#Healthcare Sector\n",
    "#request etflist ticker data from yfinance dated 9-1-1021\n",
    "tickers = ['JNJ', 'UNH', 'NVO', 'LLY', 'MRK']\n",
    "\n",
    "data = {}\n",
    "\n",
    "for ticker in tickers:\n",
    "    try:\n",
    "        stock = yf.Ticker(ticker)\n",
    "        hist11 = stock.history(period='4y')\n",
    "        data[ticker] = pd.DataFrame({'Symbol': [ticker],\n",
    "                                      'Name': [stock.info['longName']],\n",
    "                                      'Open': [hist11.iloc[-408]['Open']]},\n",
    "                                      index=[hist11.index[-408]])\n",
    "    except IndexError:\n",
    "        data[ticker] = pd.DataFrame({'Symbol': [ticker],\n",
    "                                      'Name': [None],\n",
    "                                      'Open': [None]},\n",
    "                                      index=[None])\n",
    "\n",
    "df11 = pd.concat(data.values())\n",
    "print(df11)"
   ]
  },
  {
   "cell_type": "code",
   "execution_count": 86,
   "id": "bcf04603",
   "metadata": {},
   "outputs": [
    {
     "name": "stdout",
     "output_type": "stream",
     "text": [
      "                          Symbol                             Name        Open\n",
      "2021-11-01 00:00:00-04:00    JNJ                Johnson & Johnson  156.820442\n",
      "2021-11-01 00:00:00-04:00    UNH  UnitedHealth Group Incorporated  452.884980\n",
      "2021-11-01 00:00:00-04:00    NVO                 Novo Nordisk A/S  107.097513\n",
      "2021-11-01 00:00:00-04:00    LLY            Eli Lilly and Company  250.046813\n",
      "2021-11-01 00:00:00-04:00    MRK                Merck & Co., Inc.   83.922552\n"
     ]
    }
   ],
   "source": [
    "#Healthcare Sector\n",
    "#request etflist ticker data from yfinance dated 11-1-1021\n",
    "tickers = ['JNJ', 'UNH', 'NVO', 'LLY', 'MRK']\n",
    "\n",
    "data = {}\n",
    "\n",
    "for ticker in tickers:\n",
    "    try:\n",
    "        stock = yf.Ticker(ticker)\n",
    "        hist12 = stock.history(period='4y')\n",
    "        data[ticker] = pd.DataFrame({'Symbol': [ticker],\n",
    "                                      'Name': [stock.info['longName']],\n",
    "                                      'Open': [hist12.iloc[-366]['Open']]},\n",
    "                                      index=[hist12.index[-366]])\n",
    "    except IndexError:\n",
    "        data[ticker] = pd.DataFrame({'Symbol': [ticker],\n",
    "                                      'Name': [None],\n",
    "                                      'Open': [None]},\n",
    "                                      index=[None])\n",
    "\n",
    "df12 = pd.concat(data.values())\n",
    "print(df12)"
   ]
  },
  {
   "cell_type": "code",
   "execution_count": 94,
   "id": "05c09955",
   "metadata": {},
   "outputs": [
    {
     "name": "stdout",
     "output_type": "stream",
     "text": [
      "                          Symbol                             Name        Open\n",
      "2022-01-03 00:00:00-05:00    JNJ                Johnson & Johnson  164.668090\n",
      "2022-01-03 00:00:00-05:00    UNH  UnitedHealth Group Incorporated  491.925492\n",
      "2022-01-03 00:00:00-05:00    NVO                 Novo Nordisk A/S  107.165934\n",
      "2022-01-03 00:00:00-05:00    LLY            Eli Lilly and Company  269.837084\n",
      "2022-01-03 00:00:00-05:00    MRK                Merck & Co., Inc.   73.682694\n"
     ]
    }
   ],
   "source": [
    "#Healthcare Sector\n",
    "#request etflist ticker data from yfinance dated 1-3-2022\n",
    "tickers = ['JNJ', 'UNH', 'NVO', 'LLY', 'MRK']\n",
    "\n",
    "data = {}\n",
    "\n",
    "for ticker in tickers:\n",
    "    try:\n",
    "        stock = yf.Ticker(ticker)\n",
    "        hist13 = stock.history(period='4y')\n",
    "        data[ticker] = pd.DataFrame({'Symbol': [ticker],\n",
    "                                      'Name': [stock.info['longName']],\n",
    "                                      'Open': [hist13.iloc[-323]['Open']]},\n",
    "                                      index=[hist13.index[-323]])\n",
    "    except IndexError:\n",
    "        data[ticker] = pd.DataFrame({'Symbol': [ticker],\n",
    "                                      'Name': [None],\n",
    "                                      'Open': [None]},\n",
    "                                      index=[None])\n",
    "\n",
    "df13 = pd.concat(data.values())\n",
    "print(df13)"
   ]
  },
  {
   "cell_type": "code",
   "execution_count": 101,
   "id": "37dbac85",
   "metadata": {},
   "outputs": [
    {
     "name": "stdout",
     "output_type": "stream",
     "text": [
      "                          Symbol                             Name        Open\n",
      "2022-03-01 00:00:00-05:00    JNJ                Johnson & Johnson  158.744045\n",
      "2022-03-01 00:00:00-05:00    UNH  UnitedHealth Group Incorporated  463.285594\n",
      "2022-03-01 00:00:00-05:00    NVO                 Novo Nordisk A/S  101.595060\n",
      "2022-03-01 00:00:00-05:00    LLY            Eli Lilly and Company  244.450742\n",
      "2022-03-01 00:00:00-05:00    MRK                Merck & Co., Inc.   73.605725\n"
     ]
    }
   ],
   "source": [
    "#Healthcare Sector\n",
    "#request etflist ticker data from yfinance dated 3-1-2022\n",
    "tickers = ['JNJ', 'UNH', 'NVO', 'LLY', 'MRK']\n",
    "\n",
    "data = {}\n",
    "\n",
    "for ticker in tickers:\n",
    "    try:\n",
    "        stock = yf.Ticker(ticker)\n",
    "        hist14 = stock.history(period='4y')\n",
    "        data[ticker] = pd.DataFrame({'Symbol': [ticker],\n",
    "                                      'Name': [stock.info['longName']],\n",
    "                                      'Open': [hist14.iloc[-284]['Open']]},\n",
    "                                      index=[hist14.index[-284]])\n",
    "    except IndexError:\n",
    "        data[ticker] = pd.DataFrame({'Symbol': [ticker],\n",
    "                                      'Name': [None],\n",
    "                                      'Open': [None]},\n",
    "                                      index=[None])\n",
    "\n",
    "df14 = pd.concat(data.values())\n",
    "print(df14)"
   ]
  },
  {
   "cell_type": "code",
   "execution_count": 106,
   "id": "143220a6",
   "metadata": {},
   "outputs": [
    {
     "name": "stdout",
     "output_type": "stream",
     "text": [
      "                          Symbol                             Name        Open\n",
      "2022-05-02 00:00:00-04:00    JNJ                Johnson & Johnson  175.714797\n",
      "2022-05-02 00:00:00-04:00    UNH  UnitedHealth Group Incorporated  504.048089\n",
      "2022-05-02 00:00:00-04:00    NVO                 Novo Nordisk A/S  112.220309\n",
      "2022-05-02 00:00:00-04:00    LLY            Eli Lilly and Company  287.572256\n",
      "2022-05-02 00:00:00-04:00    MRK                Merck & Co., Inc.   86.122721\n"
     ]
    }
   ],
   "source": [
    "#Healthcare Sector\n",
    "#request etflist ticker data from yfinance dated 5-2-2022\n",
    "tickers = ['JNJ', 'UNH', 'NVO', 'LLY', 'MRK']\n",
    "\n",
    "data = {}\n",
    "\n",
    "for ticker in tickers:\n",
    "    try:\n",
    "        stock = yf.Ticker(ticker)\n",
    "        hist15 = stock.history(period='4y')\n",
    "        data[ticker] = pd.DataFrame({'Symbol': [ticker],\n",
    "                                      'Name': [stock.info['longName']],\n",
    "                                      'Open': [hist15.iloc[-241]['Open']]},\n",
    "                                      index=[hist15.index[-241]])\n",
    "    except IndexError:\n",
    "        data[ticker] = pd.DataFrame({'Symbol': [ticker],\n",
    "                                      'Name': [None],\n",
    "                                      'Open': [None]},\n",
    "                                      index=[None])\n",
    "\n",
    "df15 = pd.concat(data.values())\n",
    "print(df15)"
   ]
  },
  {
   "cell_type": "code",
   "execution_count": 108,
   "id": "eaa20ac7",
   "metadata": {},
   "outputs": [
    {
     "name": "stdout",
     "output_type": "stream",
     "text": [
      "                          Symbol                             Name        Open\n",
      "2022-07-01 00:00:00-04:00    JNJ                Johnson & Johnson  173.884594\n",
      "2022-07-01 00:00:00-04:00    UNH  UnitedHealth Group Incorporated  507.340936\n",
      "2022-07-01 00:00:00-04:00    NVO                 Novo Nordisk A/S  108.273401\n",
      "2022-07-01 00:00:00-04:00    LLY            Eli Lilly and Company  320.889895\n",
      "2022-07-01 00:00:00-04:00    MRK                Merck & Co., Inc.   89.352526\n"
     ]
    }
   ],
   "source": [
    "#Healthcare Sector\n",
    "#request etflist ticker data from yfinance dated 7-1-2022\n",
    "tickers = ['JNJ', 'UNH', 'NVO', 'LLY', 'MRK']\n",
    "\n",
    "data = {}\n",
    "\n",
    "for ticker in tickers:\n",
    "    try:\n",
    "        stock = yf.Ticker(ticker)\n",
    "        hist16 = stock.history(period='4y')\n",
    "        data[ticker] = pd.DataFrame({'Symbol': [ticker],\n",
    "                                      'Name': [stock.info['longName']],\n",
    "                                      'Open': [hist16.iloc[-199]['Open']]},\n",
    "                                      index=[hist16.index[-199]])\n",
    "    except IndexError:\n",
    "        data[ticker] = pd.DataFrame({'Symbol': [ticker],\n",
    "                                      'Name': [None],\n",
    "                                      'Open': [None]},\n",
    "                                      index=[None])\n",
    "\n",
    "df16 = pd.concat(data.values())\n",
    "print(df16)"
   ]
  },
  {
   "cell_type": "code",
   "execution_count": 112,
   "id": "5d98a55d",
   "metadata": {},
   "outputs": [
    {
     "name": "stdout",
     "output_type": "stream",
     "text": [
      "                          Symbol                             Name        Open\n",
      "2022-09-01 00:00:00-04:00    JNJ                Johnson & Johnson  159.308538\n",
      "2022-09-01 00:00:00-04:00    UNH  UnitedHealth Group Incorporated  514.282873\n",
      "2022-09-01 00:00:00-04:00    NVO                 Novo Nordisk A/S  104.205045\n",
      "2022-09-01 00:00:00-04:00    LLY            Eli Lilly and Company  299.194696\n",
      "2022-09-01 00:00:00-04:00    MRK                Merck & Co., Inc.   83.813246\n"
     ]
    }
   ],
   "source": [
    "#Healthcare Sector\n",
    "#request etflist ticker data from yfinance dated 9-1-2022\n",
    "tickers = ['JNJ', 'UNH', 'NVO', 'LLY', 'MRK']\n",
    "\n",
    "data = {}\n",
    "\n",
    "for ticker in tickers:\n",
    "    try:\n",
    "        stock = yf.Ticker(ticker)\n",
    "        hist17 = stock.history(period='4y')\n",
    "        data[ticker] = pd.DataFrame({'Symbol': [ticker],\n",
    "                                      'Name': [stock.info['longName']],\n",
    "                                      'Open': [hist17.iloc[-156]['Open']]},\n",
    "                                      index=[hist17.index[-156]])\n",
    "    except IndexError:\n",
    "        data[ticker] = pd.DataFrame({'Symbol': [ticker],\n",
    "                                      'Name': [None],\n",
    "                                      'Open': [None]},\n",
    "                                      index=[None])\n",
    "\n",
    "df17 = pd.concat(data.values())\n",
    "print(df17)"
   ]
  },
  {
   "cell_type": "code",
   "execution_count": 117,
   "id": "b586be1d",
   "metadata": {},
   "outputs": [
    {
     "name": "stdout",
     "output_type": "stream",
     "text": [
      "                          Symbol                             Name        Open\n",
      "2022-11-01 00:00:00-04:00    JNJ                Johnson & Johnson  171.708729\n",
      "2022-11-01 00:00:00-04:00    UNH  UnitedHealth Group Incorporated  551.330689\n",
      "2022-11-01 00:00:00-04:00    NVO                 Novo Nordisk A/S  107.568094\n",
      "2022-11-01 00:00:00-04:00    LLY            Eli Lilly and Company  343.755816\n",
      "2022-11-01 00:00:00-04:00    MRK                Merck & Co., Inc.   99.297188\n"
     ]
    }
   ],
   "source": [
    "#Healthcare Sector\n",
    "#request etflist ticker data from yfinance dated 9-1-2022\n",
    "tickers = ['JNJ', 'UNH', 'NVO', 'LLY', 'MRK']\n",
    "\n",
    "data = {}\n",
    "\n",
    "for ticker in tickers:\n",
    "    try:\n",
    "        stock = yf.Ticker(ticker)\n",
    "        hist18 = stock.history(period='4y')\n",
    "        data[ticker] = pd.DataFrame({'Symbol': [ticker],\n",
    "                                      'Name': [stock.info['longName']],\n",
    "                                      'Open': [hist18.iloc[-114]['Open']]},\n",
    "                                      index=[hist18.index[-114]])\n",
    "    except IndexError:\n",
    "        data[ticker] = pd.DataFrame({'Symbol': [ticker],\n",
    "                                      'Name': [None],\n",
    "                                      'Open': [None]},\n",
    "                                      index=[None])\n",
    "\n",
    "df18 = pd.concat(data.values())\n",
    "print(df18)"
   ]
  },
  {
   "cell_type": "code",
   "execution_count": 128,
   "id": "f71d852f",
   "metadata": {},
   "outputs": [
    {
     "name": "stdout",
     "output_type": "stream",
     "text": [
      "                          Symbol                             Name        Open\n",
      "2023-01-03 00:00:00-05:00    JNJ                Johnson & Johnson  174.902039\n",
      "2023-01-03 00:00:00-05:00    UNH  UnitedHealth Group Incorporated  523.266273\n",
      "2023-01-03 00:00:00-05:00    NVO                 Novo Nordisk A/S  136.178856\n",
      "2023-01-03 00:00:00-05:00    LLY            Eli Lilly and Company  365.078851\n",
      "2023-01-03 00:00:00-05:00    MRK                Merck & Co., Inc.  109.647695\n"
     ]
    }
   ],
   "source": [
    "#Healthcare Sector\n",
    "#request etflist ticker data from yfinance dated 1-3-2023\n",
    "tickers = ['JNJ', 'UNH', 'NVO', 'LLY', 'MRK']\n",
    "\n",
    "data = {}\n",
    "\n",
    "for ticker in tickers:\n",
    "    try:\n",
    "        stock = yf.Ticker(ticker)\n",
    "        hist19 = stock.history(period='4y')\n",
    "        data[ticker] = pd.DataFrame({'Symbol': [ticker],\n",
    "                                      'Name': [stock.info['longName']],\n",
    "                                      'Open': [hist19.iloc[-72]['Open']]},\n",
    "                                      index=[hist19.index[-72]])\n",
    "    except IndexError:\n",
    "        data[ticker] = pd.DataFrame({'Symbol': [ticker],\n",
    "                                      'Name': [None],\n",
    "                                      'Open': [None]},\n",
    "                                      index=[None])\n",
    "\n",
    "df19 = pd.concat(data.values())\n",
    "print(df19)"
   ]
  },
  {
   "cell_type": "code",
   "execution_count": 132,
   "id": "94dd7e8a",
   "metadata": {},
   "outputs": [
    {
     "name": "stdout",
     "output_type": "stream",
     "text": [
      "                          Symbol                             Name        Open\n",
      "2023-03-01 00:00:00-05:00    JNJ                Johnson & Johnson  153.009995\n",
      "2023-03-01 00:00:00-05:00    UNH  UnitedHealth Group Incorporated  471.929085\n",
      "2023-03-01 00:00:00-05:00    NVO                 Novo Nordisk A/S  141.476398\n",
      "2023-03-01 00:00:00-05:00    LLY            Eli Lilly and Company  310.000000\n",
      "2023-03-01 00:00:00-05:00    MRK                Merck & Co., Inc.  105.228412\n"
     ]
    }
   ],
   "source": [
    "#Healthcare Sector\n",
    "#request etflist ticker data from yfinance dated 3-1-2023\n",
    "tickers = ['JNJ', 'UNH', 'NVO', 'LLY', 'MRK']\n",
    "\n",
    "data = {}\n",
    "\n",
    "for ticker in tickers:\n",
    "    try:\n",
    "        stock = yf.Ticker(ticker)\n",
    "        hist20 = stock.history(period='4y')\n",
    "        data[ticker] = pd.DataFrame({'Symbol': [ticker],\n",
    "                                      'Name': [stock.info['longName']],\n",
    "                                      'Open': [hist20.iloc[-33]['Open']]},\n",
    "                                      index=[hist20.index[-33]])\n",
    "    except IndexError:\n",
    "        data[ticker] = pd.DataFrame({'Symbol': [ticker],\n",
    "                                      'Name': [None],\n",
    "                                      'Open': [None]},\n",
    "                                      index=[None])\n",
    "\n",
    "df20 = pd.concat(data.values())\n",
    "print(df20)"
   ]
  },
  {
   "cell_type": "code",
   "execution_count": null,
   "id": "7d220f51",
   "metadata": {},
   "outputs": [],
   "source": []
  },
  {
   "cell_type": "code",
   "execution_count": null,
   "id": "eac7c412",
   "metadata": {},
   "outputs": [],
   "source": [
    "\n",
    "pld\n",
    "\tamt\n",
    "\teqix\n",
    "\tcci\n",
    "\tpsa\n"
   ]
  },
  {
   "cell_type": "code",
   "execution_count": 133,
   "id": "8ff4373a",
   "metadata": {},
   "outputs": [
    {
     "name": "stdout",
     "output_type": "stream",
     "text": [
      "                          Symbol                        Name        Open\n",
      "2020-01-03 00:00:00-05:00    PLD              Prologis, Inc.   80.945722\n",
      "2020-01-03 00:00:00-05:00    AMT  American Tower Corporation  211.827931\n",
      "2020-01-03 00:00:00-05:00   EQIX               Equinix, Inc.  545.360915\n",
      "2020-01-03 00:00:00-05:00    CCI           Crown Castle Inc.  126.235111\n",
      "2020-01-03 00:00:00-05:00    PSA              Public Storage  183.464990\n"
     ]
    }
   ],
   "source": [
    "#Real Estate Sector\n",
    "#request etflist ticker data from yfinance dated 1-3,2020\n",
    "tickers = ['PLD', 'AMT', 'EQIX', 'CCI', 'PSA']\n",
    "\n",
    "data = {}\n",
    "\n",
    "for ticker in tickers:\n",
    "    try:\n",
    "        stock = yf.Ticker(ticker)\n",
    "        hist1 = stock.history(period='4y')\n",
    "        data[ticker] = pd.DataFrame({'Symbol': [ticker],\n",
    "                                      'Name': [stock.info['longName']],\n",
    "                                      'Open': [hist1.iloc[-827]['Open']]},\n",
    "                                      index=[hist1.index[-827]])\n",
    "    except IndexError:\n",
    "        data[ticker] = pd.DataFrame({'Symbol': [ticker],\n",
    "                                      'Name': [None],\n",
    "                                      'Open': [None]},\n",
    "                                      index=[None])\n",
    "\n",
    "df21 = pd.concat(data.values())\n",
    "print(df21)"
   ]
  },
  {
   "cell_type": "code",
   "execution_count": 134,
   "id": "bd103af1",
   "metadata": {},
   "outputs": [
    {
     "name": "stdout",
     "output_type": "stream",
     "text": [
      "                          Symbol                        Name        Open\n",
      "2020-03-02 00:00:00-05:00    PLD              Prologis, Inc.   78.310698\n",
      "2020-03-02 00:00:00-05:00    AMT  American Tower Corporation  213.196295\n",
      "2020-03-02 00:00:00-05:00   EQIX               Equinix, Inc.  549.913002\n",
      "2020-03-02 00:00:00-05:00    CCI           Crown Castle Inc.  128.995542\n",
      "2020-03-02 00:00:00-05:00    PSA              Public Storage  182.769861\n"
     ]
    }
   ],
   "source": [
    "#Real Estate Sector\n",
    "#request etflist ticker data from yfinance dated 3-2,2020\n",
    "tickers = ['PLD', 'AMT', 'EQIX', 'CCI', 'PSA']\n",
    "\n",
    "data = {}\n",
    "\n",
    "for ticker in tickers:\n",
    "    try:\n",
    "        stock = yf.Ticker(ticker)\n",
    "        hist2 = stock.history(period='4y')\n",
    "        data[ticker] = pd.DataFrame({'Symbol': [ticker],\n",
    "                                      'Name': [stock.info['longName']],\n",
    "                                      'Open': [hist2.iloc[-788]['Open']]},\n",
    "                                      index=[hist2.index[-788]])\n",
    "    except IndexError:\n",
    "        data[ticker] = pd.DataFrame({'Symbol': [ticker],\n",
    "                                      'Name': [None],\n",
    "                                      'Open': [None]},\n",
    "                                      index=[None])\n",
    "\n",
    "df22 = pd.concat(data.values())\n",
    "print(df22)"
   ]
  },
  {
   "cell_type": "code",
   "execution_count": 136,
   "id": "95dd0b26",
   "metadata": {},
   "outputs": [
    {
     "name": "stdout",
     "output_type": "stream",
     "text": [
      "                          Symbol                        Name        Open\n",
      "2020-05-01 00:00:00-04:00    PLD              Prologis, Inc.   81.424485\n",
      "2020-05-01 00:00:00-04:00    AMT  American Tower Corporation  218.022321\n",
      "2020-05-01 00:00:00-04:00   EQIX               Equinix, Inc.  637.898459\n",
      "2020-05-01 00:00:00-04:00    CCI           Crown Castle Inc.  141.797411\n",
      "2020-05-01 00:00:00-04:00    PSA              Public Storage  158.246641\n"
     ]
    }
   ],
   "source": [
    "#Real Estate Sector\n",
    "#request etflist ticker data from yfinance dated 5-1,2020\n",
    "tickers = ['PLD', 'AMT', 'EQIX', 'CCI', 'PSA']\n",
    "\n",
    "data = {}\n",
    "\n",
    "for ticker in tickers:\n",
    "    try:\n",
    "        stock = yf.Ticker(ticker)\n",
    "        hist3 = stock.history(period='4y')\n",
    "        data[ticker] = pd.DataFrame({'Symbol': [ticker],\n",
    "                                      'Name': [stock.info['longName']],\n",
    "                                      'Open': [hist3.iloc[-745]['Open']]},\n",
    "                                      index=[hist3.index[-745]])\n",
    "    except IndexError:\n",
    "        data[ticker] = pd.DataFrame({'Symbol': [ticker],\n",
    "                                      'Name': [None],\n",
    "                                      'Open': [None]},\n",
    "                                      index=[None])\n",
    "\n",
    "df23 = pd.concat(data.values())\n",
    "print(df23)"
   ]
  },
  {
   "cell_type": "code",
   "execution_count": 137,
   "id": "d872008d",
   "metadata": {},
   "outputs": [
    {
     "name": "stdout",
     "output_type": "stream",
     "text": [
      "                          Symbol                        Name        Open\n",
      "2020-07-01 00:00:00-04:00    PLD              Prologis, Inc.   87.724562\n",
      "2020-07-01 00:00:00-04:00    AMT  American Tower Corporation  243.415064\n",
      "2020-07-01 00:00:00-04:00   EQIX               Equinix, Inc.  671.713272\n",
      "2020-07-01 00:00:00-04:00    CCI           Crown Castle Inc.  152.741212\n",
      "2020-07-01 00:00:00-04:00    PSA              Public Storage  169.951373\n"
     ]
    }
   ],
   "source": [
    "#Real Estate Sector\n",
    "#request etflist ticker data from yfinance dated 7-1,2020\n",
    "tickers = ['PLD', 'AMT', 'EQIX', 'CCI', 'PSA']\n",
    "\n",
    "data = {}\n",
    "\n",
    "for ticker in tickers:\n",
    "    try:\n",
    "        stock = yf.Ticker(ticker)\n",
    "        hist4 = stock.history(period='4y')\n",
    "        data[ticker] = pd.DataFrame({'Symbol': [ticker],\n",
    "                                      'Name': [stock.info['longName']],\n",
    "                                      'Open': [hist4.iloc[-703]['Open']]},\n",
    "                                      index=[hist4.index[-703]])\n",
    "    except IndexError:\n",
    "        data[ticker] = pd.DataFrame({'Symbol': [ticker],\n",
    "                                      'Name': [None],\n",
    "                                      'Open': [None]},\n",
    "                                      index=[None])\n",
    "\n",
    "df24 = pd.concat(data.values())\n",
    "print(df24)"
   ]
  },
  {
   "cell_type": "code",
   "execution_count": 138,
   "id": "2e7bf32b",
   "metadata": {},
   "outputs": [
    {
     "name": "stdout",
     "output_type": "stream",
     "text": [
      "                          Symbol                        Name        Open\n",
      "2020-09-01 00:00:00-04:00    PLD              Prologis, Inc.   95.435162\n",
      "2020-09-01 00:00:00-04:00    AMT  American Tower Corporation  233.202331\n",
      "2020-09-01 00:00:00-04:00   EQIX               Equinix, Inc.  757.561320\n",
      "2020-09-01 00:00:00-04:00    CCI           Crown Castle Inc.  147.811459\n",
      "2020-09-01 00:00:00-04:00    PSA              Public Storage  187.685135\n"
     ]
    }
   ],
   "source": [
    "#Real Estate Sector\n",
    "#request etflist ticker data from yfinance dated 9-1,2020\n",
    "tickers = ['PLD', 'AMT', 'EQIX', 'CCI', 'PSA']\n",
    "\n",
    "data = {}\n",
    "\n",
    "for ticker in tickers:\n",
    "    try:\n",
    "        stock = yf.Ticker(ticker)\n",
    "        hist5 = stock.history(period='4y')\n",
    "        data[ticker] = pd.DataFrame({'Symbol': [ticker],\n",
    "                                      'Name': [stock.info['longName']],\n",
    "                                      'Open': [hist5.iloc[-660]['Open']]},\n",
    "                                      index=[hist5.index[-660]])\n",
    "    except IndexError:\n",
    "        data[ticker] = pd.DataFrame({'Symbol': [ticker],\n",
    "                                      'Name': [None],\n",
    "                                      'Open': [None]},\n",
    "                                      index=[None])\n",
    "\n",
    "df25 = pd.concat(data.values())\n",
    "print(df25)"
   ]
  },
  {
   "cell_type": "code",
   "execution_count": 139,
   "id": "c06085bc",
   "metadata": {},
   "outputs": [
    {
     "name": "stdout",
     "output_type": "stream",
     "text": [
      "                          Symbol                        Name        Open\n",
      "2020-11-02 00:00:00-05:00    PLD              Prologis, Inc.   95.014832\n",
      "2020-11-02 00:00:00-05:00    AMT  American Tower Corporation  219.373997\n",
      "2020-11-02 00:00:00-05:00   EQIX               Equinix, Inc.  709.710416\n",
      "2020-11-02 00:00:00-05:00    CCI           Crown Castle Inc.  144.301014\n",
      "2020-11-02 00:00:00-05:00    PSA              Public Storage  206.994105\n"
     ]
    }
   ],
   "source": [
    "#Real Estate Sector\n",
    "#request etflist ticker data from yfinance dated 11-2,2020\n",
    "tickers = ['PLD', 'AMT', 'EQIX', 'CCI', 'PSA']\n",
    "\n",
    "data = {}\n",
    "\n",
    "for ticker in tickers:\n",
    "    try:\n",
    "        stock = yf.Ticker(ticker)\n",
    "        hist6 = stock.history(period='4y')\n",
    "        data[ticker] = pd.DataFrame({'Symbol': [ticker],\n",
    "                                      'Name': [stock.info['longName']],\n",
    "                                      'Open': [hist6.iloc[-617]['Open']]},\n",
    "                                      index=[hist6.index[-617]])\n",
    "    except IndexError:\n",
    "        data[ticker] = pd.DataFrame({'Symbol': [ticker],\n",
    "                                      'Name': [None],\n",
    "                                      'Open': [None]},\n",
    "                                      index=[None])\n",
    "\n",
    "df26 = pd.concat(data.values())\n",
    "print(df26)"
   ]
  },
  {
   "cell_type": "code",
   "execution_count": 140,
   "id": "4f61dfbc",
   "metadata": {},
   "outputs": [
    {
     "name": "stdout",
     "output_type": "stream",
     "text": [
      "                          Symbol                        Name        Open\n",
      "2021-01-04 00:00:00-05:00    PLD              Prologis, Inc.   94.459793\n",
      "2021-01-04 00:00:00-05:00    AMT  American Tower Corporation  214.427070\n",
      "2021-01-04 00:00:00-05:00   EQIX               Equinix, Inc.  691.139099\n",
      "2021-01-04 00:00:00-05:00    CCI           Crown Castle Inc.  146.360364\n",
      "2021-01-04 00:00:00-05:00    PSA              Public Storage  207.980620\n"
     ]
    }
   ],
   "source": [
    "#Real Estate Sector\n",
    "#request etflist ticker data from yfinance dated 1-4,2021\n",
    "tickers = ['PLD', 'AMT', 'EQIX', 'CCI', 'PSA']\n",
    "\n",
    "data = {}\n",
    "\n",
    "for ticker in tickers:\n",
    "    try:\n",
    "        stock = yf.Ticker(ticker)\n",
    "        hist7 = stock.history(period='4y')\n",
    "        data[ticker] = pd.DataFrame({'Symbol': [ticker],\n",
    "                                      'Name': [stock.info['longName']],\n",
    "                                      'Open': [hist7.iloc[-575]['Open']]},\n",
    "                                      index=[hist7.index[-575]])\n",
    "    except IndexError:\n",
    "        data[ticker] = pd.DataFrame({'Symbol': [ticker],\n",
    "                                      'Name': [None],\n",
    "                                      'Open': [None]},\n",
    "                                      index=[None])\n",
    "\n",
    "df27 = pd.concat(data.values())\n",
    "print(df27)"
   ]
  },
  {
   "cell_type": "code",
   "execution_count": 141,
   "id": "71aaffa0",
   "metadata": {},
   "outputs": [
    {
     "name": "stdout",
     "output_type": "stream",
     "text": [
      "                          Symbol                        Name       Open\n",
      "2021-03-01 00:00:00-05:00    PLD              Prologis, Inc.  64.858601\n",
      "2021-03-01 00:00:00-05:00    AMT  American Tower Corporation  64.858601\n",
      "2021-03-01 00:00:00-05:00   EQIX               Equinix, Inc.  64.858601\n",
      "2021-03-01 00:00:00-05:00    CCI           Crown Castle Inc.  64.858601\n",
      "2021-03-01 00:00:00-05:00    PSA              Public Storage  64.858601\n"
     ]
    }
   ],
   "source": [
    "#Real Estate Sector\n",
    "#request etflist ticker data from yfinance dated 3-2021\n",
    "tickers = ['PLD', 'AMT', 'EQIX', 'CCI', 'PSA']\n",
    "\n",
    "data = {}\n",
    "\n",
    "for ticker in tickers:\n",
    "    try:\n",
    "        stock = yf.Ticker(ticker)\n",
    "        hist7 = stock.history(period='4y')\n",
    "        data[ticker] = pd.DataFrame({'Symbol': [ticker],\n",
    "                                      'Name': [stock.info['longName']],\n",
    "                                      'Open': [hist8.iloc[-537]['Open']]},\n",
    "                                      index=[hist8.index[-537]])\n",
    "    except IndexError:\n",
    "        data[ticker] = pd.DataFrame({'Symbol': [ticker],\n",
    "                                      'Name': [None],\n",
    "                                      'Open': [None]},\n",
    "                                      index=[None])\n",
    "\n",
    "df28 = pd.concat(data.values())\n",
    "print(df28)"
   ]
  },
  {
   "cell_type": "code",
   "execution_count": 142,
   "id": "219b0290",
   "metadata": {},
   "outputs": [
    {
     "name": "stdout",
     "output_type": "stream",
     "text": [
      "                          Symbol                        Name        Open\n",
      "2021-05-03 00:00:00-04:00    PLD              Prologis, Inc.  111.554033\n",
      "2021-05-03 00:00:00-04:00    AMT  American Tower Corporation  242.120149\n",
      "2021-05-03 00:00:00-04:00   EQIX               Equinix, Inc.  696.482052\n",
      "2021-05-03 00:00:00-04:00    CCI           Crown Castle Inc.  176.268925\n",
      "2021-05-03 00:00:00-04:00    PSA              Public Storage  256.296484\n"
     ]
    }
   ],
   "source": [
    "#Real Estate Sector\n",
    "#request etflist ticker data from yfinance dated 5-3-2021\n",
    "tickers = ['PLD', 'AMT', 'EQIX', 'CCI', 'PSA']\n",
    "\n",
    "data = {}\n",
    "\n",
    "for ticker in tickers:\n",
    "    try:\n",
    "        stock = yf.Ticker(ticker)\n",
    "        hist9 = stock.history(period='4y')\n",
    "        data[ticker] = pd.DataFrame({'Symbol': [ticker],\n",
    "                                      'Name': [stock.info['longName']],\n",
    "                                      'Open': [hist9.iloc[-493]['Open']]},\n",
    "                                      index=[hist9.index[-493]])\n",
    "    except IndexError:\n",
    "        data[ticker] = pd.DataFrame({'Symbol': [ticker],\n",
    "                                      'Name': [None],\n",
    "                                      'Open': [None]},\n",
    "                                      index=[None])\n",
    "\n",
    "df29 = pd.concat(data.values())\n",
    "print(df29)"
   ]
  },
  {
   "cell_type": "code",
   "execution_count": 143,
   "id": "5e74e01b",
   "metadata": {},
   "outputs": [
    {
     "name": "stdout",
     "output_type": "stream",
     "text": [
      "                          Symbol                        Name        Open\n",
      "2021-07-01 00:00:00-04:00    PLD              Prologis, Inc.  114.704680\n",
      "2021-07-01 00:00:00-04:00    AMT  American Tower Corporation  257.342549\n",
      "2021-07-01 00:00:00-04:00   EQIX               Equinix, Inc.  776.690097\n",
      "2021-07-01 00:00:00-04:00    CCI           Crown Castle Inc.  182.871947\n",
      "2021-07-01 00:00:00-04:00    PSA              Public Storage  275.504212\n"
     ]
    }
   ],
   "source": [
    "#Real Estate Sector\n",
    "#request etflist ticker data from yfinance dated 7-1-2021\n",
    "tickers = ['PLD', 'AMT', 'EQIX', 'CCI', 'PSA']\n",
    "\n",
    "data = {}\n",
    "\n",
    "for ticker in tickers:\n",
    "    try:\n",
    "        stock = yf.Ticker(ticker)\n",
    "        hist10 = stock.history(period='4y')\n",
    "        data[ticker] = pd.DataFrame({'Symbol': [ticker],\n",
    "                                      'Name': [stock.info['longName']],\n",
    "                                      'Open': [hist10.iloc[-451]['Open']]},\n",
    "                                      index=[hist10.index[-451]])\n",
    "    except IndexError:\n",
    "        data[ticker] = pd.DataFrame({'Symbol': [ticker],\n",
    "                                      'Name': [None],\n",
    "                                      'Open': [None]},\n",
    "                                      index=[None])\n",
    "\n",
    "df30 = pd.concat(data.values())\n",
    "print(df30)"
   ]
  },
  {
   "cell_type": "code",
   "execution_count": null,
   "id": "120ad288",
   "metadata": {},
   "outputs": [],
   "source": [
    "#Real Estate Sector\n",
    "#request etflist ticker data from yfinance dated 9-1-2021\n",
    "tickers = ['PLD', 'AMT', 'EQIX', 'CCI', 'PSA']\n",
    "\n",
    "data = {}\n",
    "\n",
    "for ticker in tickers:\n",
    "    try:\n",
    "        stock = yf.Ticker(ticker)\n",
    "        hist11 = stock.history(period='4y')\n",
    "        data[ticker] = pd.DataFrame({'Symbol': [ticker],\n",
    "                                      'Name': [stock.info['longName']],\n",
    "                                      'Open': [hist11.iloc[-408]['Open']]},\n",
    "                                      index=[hist11.index[-408]])\n",
    "    except IndexError:\n",
    "        data[ticker] = pd.DataFrame({'Symbol': [ticker],\n",
    "                                      'Name': [None],\n",
    "                                      'Open': [None]},\n",
    "                                      index=[None])\n",
    "\n",
    "df31 = pd.concat(data.values())\n",
    "print(df31)"
   ]
  },
  {
   "cell_type": "code",
   "execution_count": 145,
   "id": "4ba8f311",
   "metadata": {},
   "outputs": [
    {
     "name": "stdout",
     "output_type": "stream",
     "text": [
      "                          Symbol                        Name        Open\n",
      "2021-11-01 00:00:00-04:00    PLD              Prologis, Inc.  140.084827\n",
      "2021-11-01 00:00:00-04:00    AMT  American Tower Corporation  272.238461\n",
      "2021-11-01 00:00:00-04:00   EQIX               Equinix, Inc.  814.593310\n",
      "2021-11-01 00:00:00-04:00    CCI           Crown Castle Inc.  171.091491\n",
      "2021-11-01 00:00:00-04:00    PSA              Public Storage  306.859245\n"
     ]
    }
   ],
   "source": [
    "#Real Estate Sector\n",
    "#request etflist ticker data from yfinance dated 11-1-1021\n",
    "tickers = ['PLD', 'AMT', 'EQIX', 'CCI', 'PSA']\n",
    "\n",
    "data = {}\n",
    "\n",
    "for ticker in tickers:\n",
    "    try:\n",
    "        stock = yf.Ticker(ticker)\n",
    "        hist12 = stock.history(period='4y')\n",
    "        data[ticker] = pd.DataFrame({'Symbol': [ticker],\n",
    "                                      'Name': [stock.info['longName']],\n",
    "                                      'Open': [hist12.iloc[-366]['Open']]},\n",
    "                                      index=[hist12.index[-366]])\n",
    "    except IndexError:\n",
    "        data[ticker] = pd.DataFrame({'Symbol': [ticker],\n",
    "                                      'Name': [None],\n",
    "                                      'Open': [None]},\n",
    "                                      index=[None])\n",
    "\n",
    "df32 = pd.concat(data.values())\n",
    "print(df32)"
   ]
  },
  {
   "cell_type": "code",
   "execution_count": 146,
   "id": "3664d039",
   "metadata": {},
   "outputs": [
    {
     "name": "stdout",
     "output_type": "stream",
     "text": [
      "                          Symbol                        Name        Open\n",
      "2022-01-03 00:00:00-05:00    PLD              Prologis, Inc.  163.059300\n",
      "2022-01-03 00:00:00-05:00    AMT  American Tower Corporation  282.788967\n",
      "2022-01-03 00:00:00-05:00   EQIX               Equinix, Inc.  826.308434\n",
      "2022-01-03 00:00:00-05:00    CCI           Crown Castle Inc.  198.998696\n",
      "2022-01-03 00:00:00-05:00    PSA              Public Storage  346.241377\n"
     ]
    }
   ],
   "source": [
    "#Real Estate Sector\n",
    "#request etflist ticker data from yfinance dated 1-3-2022\n",
    "tickers = ['PLD', 'AMT', 'EQIX', 'CCI', 'PSA']\n",
    "\n",
    "data = {}\n",
    "\n",
    "for ticker in tickers:\n",
    "    try:\n",
    "        stock = yf.Ticker(ticker)\n",
    "        hist13 = stock.history(period='4y')\n",
    "        data[ticker] = pd.DataFrame({'Symbol': [ticker],\n",
    "                                      'Name': [stock.info['longName']],\n",
    "                                      'Open': [hist13.iloc[-323]['Open']]},\n",
    "                                      index=[hist13.index[-323]])\n",
    "    except IndexError:\n",
    "        data[ticker] = pd.DataFrame({'Symbol': [ticker],\n",
    "                                      'Name': [None],\n",
    "                                      'Open': [None]},\n",
    "                                      index=[None])\n",
    "\n",
    "df33 = pd.concat(data.values())\n",
    "print(df33)"
   ]
  },
  {
   "cell_type": "code",
   "execution_count": 147,
   "id": "3b86ac94",
   "metadata": {},
   "outputs": [
    {
     "name": "stdout",
     "output_type": "stream",
     "text": [
      "                          Symbol                        Name        Open\n",
      "2022-03-01 00:00:00-05:00    PLD              Prologis, Inc.  142.025955\n",
      "2022-03-01 00:00:00-05:00    AMT  American Tower Corporation  220.528369\n",
      "2022-03-01 00:00:00-05:00   EQIX               Equinix, Inc.  695.153262\n",
      "2022-03-01 00:00:00-05:00    CCI           Crown Castle Inc.  159.579800\n",
      "2022-03-01 00:00:00-05:00    PSA              Public Storage  331.630670\n"
     ]
    }
   ],
   "source": [
    "#Real Estate Sector\n",
    "#request etflist ticker data from yfinance dated 3-1-2022\n",
    "tickers = ['PLD', 'AMT', 'EQIX', 'CCI', 'PSA']\n",
    "\n",
    "data = {}\n",
    "\n",
    "for ticker in tickers:\n",
    "    try:\n",
    "        stock = yf.Ticker(ticker)\n",
    "        hist14 = stock.history(period='4y')\n",
    "        data[ticker] = pd.DataFrame({'Symbol': [ticker],\n",
    "                                      'Name': [stock.info['longName']],\n",
    "                                      'Open': [hist14.iloc[-284]['Open']]},\n",
    "                                      index=[hist14.index[-284]])\n",
    "    except IndexError:\n",
    "        data[ticker] = pd.DataFrame({'Symbol': [ticker],\n",
    "                                      'Name': [None],\n",
    "                                      'Open': [None]},\n",
    "                                      index=[None])\n",
    "\n",
    "df34 = pd.concat(data.values())\n",
    "print(df34)"
   ]
  },
  {
   "cell_type": "code",
   "execution_count": 148,
   "id": "4602c041",
   "metadata": {},
   "outputs": [
    {
     "name": "stdout",
     "output_type": "stream",
     "text": [
      "                          Symbol                        Name        Open\n",
      "2022-05-02 00:00:00-04:00    PLD              Prologis, Inc.  156.590414\n",
      "2022-05-02 00:00:00-04:00    AMT  American Tower Corporation  234.717880\n",
      "2022-05-02 00:00:00-04:00   EQIX               Equinix, Inc.  708.165191\n",
      "2022-05-02 00:00:00-04:00    CCI           Crown Castle Inc.  179.053213\n",
      "2022-05-02 00:00:00-04:00    PSA              Public Storage  348.567139\n"
     ]
    }
   ],
   "source": [
    "#Real Estate Sector\n",
    "#request etflist ticker data from yfinance dated 5-2-2022\n",
    "tickers = ['PLD', 'AMT', 'EQIX', 'CCI', 'PSA']\n",
    "\n",
    "data = {}\n",
    "\n",
    "for ticker in tickers:\n",
    "    try:\n",
    "        stock = yf.Ticker(ticker)\n",
    "        hist15 = stock.history(period='4y')\n",
    "        data[ticker] = pd.DataFrame({'Symbol': [ticker],\n",
    "                                      'Name': [stock.info['longName']],\n",
    "                                      'Open': [hist15.iloc[-241]['Open']]},\n",
    "                                      index=[hist15.index[-241]])\n",
    "    except IndexError:\n",
    "        data[ticker] = pd.DataFrame({'Symbol': [ticker],\n",
    "                                      'Name': [None],\n",
    "                                      'Open': [None]},\n",
    "                                      index=[None])\n",
    "\n",
    "df35 = pd.concat(data.values())\n",
    "print(df35)"
   ]
  },
  {
   "cell_type": "code",
   "execution_count": 149,
   "id": "52caba40",
   "metadata": {},
   "outputs": [
    {
     "name": "stdout",
     "output_type": "stream",
     "text": [
      "                          Symbol                        Name        Open\n",
      "2022-07-01 00:00:00-04:00    PLD              Prologis, Inc.  115.521457\n",
      "2022-07-01 00:00:00-04:00    AMT  American Tower Corporation  248.979849\n",
      "2022-07-01 00:00:00-04:00   EQIX               Equinix, Inc.  645.729724\n",
      "2022-07-01 00:00:00-04:00    CCI           Crown Castle Inc.  162.505930\n",
      "2022-07-01 00:00:00-04:00    PSA              Public Storage  293.346585\n"
     ]
    }
   ],
   "source": [
    "#Real Estate Sector\n",
    "#request etflist ticker data from yfinance dated 7-1-2022\n",
    "tickers = ['PLD', 'AMT', 'EQIX', 'CCI', 'PSA']\n",
    "\n",
    "data = {}\n",
    "\n",
    "for ticker in tickers:\n",
    "    try:\n",
    "        stock = yf.Ticker(ticker)\n",
    "        hist16 = stock.history(period='4y')\n",
    "        data[ticker] = pd.DataFrame({'Symbol': [ticker],\n",
    "                                      'Name': [stock.info['longName']],\n",
    "                                      'Open': [hist16.iloc[-199]['Open']]},\n",
    "                                      index=[hist16.index[-199]])\n",
    "    except IndexError:\n",
    "        data[ticker] = pd.DataFrame({'Symbol': [ticker],\n",
    "                                      'Name': [None],\n",
    "                                      'Open': [None]},\n",
    "                                      index=[None])\n",
    "\n",
    "df36 = pd.concat(data.values())\n",
    "print(df36)"
   ]
  },
  {
   "cell_type": "code",
   "execution_count": 150,
   "id": "d516d1d8",
   "metadata": {},
   "outputs": [
    {
     "name": "stdout",
     "output_type": "stream",
     "text": [
      "                          Symbol                        Name        Open\n",
      "2022-09-01 00:00:00-04:00    PLD              Prologis, Inc.  120.930570\n",
      "2022-09-01 00:00:00-04:00    AMT  American Tower Corporation  247.424508\n",
      "2022-09-01 00:00:00-04:00   EQIX               Equinix, Inc.  641.778363\n",
      "2022-09-01 00:00:00-04:00    CCI           Crown Castle Inc.  164.840875\n",
      "2022-09-01 00:00:00-04:00    PSA              Public Storage  321.076544\n"
     ]
    }
   ],
   "source": [
    "#Real Estate Sector\n",
    "#request etflist ticker data from yfinance dated 9-1-2022\n",
    "tickers = ['PLD', 'AMT', 'EQIX', 'CCI', 'PSA']\n",
    "\n",
    "data = {}\n",
    "\n",
    "for ticker in tickers:\n",
    "    try:\n",
    "        stock = yf.Ticker(ticker)\n",
    "        hist17 = stock.history(period='4y')\n",
    "        data[ticker] = pd.DataFrame({'Symbol': [ticker],\n",
    "                                      'Name': [stock.info['longName']],\n",
    "                                      'Open': [hist17.iloc[-156]['Open']]},\n",
    "                                      index=[hist17.index[-156]])\n",
    "    except IndexError:\n",
    "        data[ticker] = pd.DataFrame({'Symbol': [ticker],\n",
    "                                      'Name': [None],\n",
    "                                      'Open': [None]},\n",
    "                                      index=[None])\n",
    "\n",
    "df37 = pd.concat(data.values())\n",
    "print(df37)"
   ]
  },
  {
   "cell_type": "code",
   "execution_count": 151,
   "id": "1adc5a2b",
   "metadata": {},
   "outputs": [
    {
     "name": "stdout",
     "output_type": "stream",
     "text": [
      "                          Symbol                        Name        Open\n",
      "2022-11-01 00:00:00-04:00    PLD              Prologis, Inc.  110.644599\n",
      "2022-11-01 00:00:00-04:00    AMT  American Tower Corporation  206.337353\n",
      "2022-11-01 00:00:00-04:00   EQIX               Equinix, Inc.  567.374275\n",
      "2022-11-01 00:00:00-04:00    CCI           Crown Castle Inc.  131.521864\n",
      "2022-11-01 00:00:00-04:00    PSA              Public Storage  305.726197\n"
     ]
    }
   ],
   "source": [
    "#Real Estate Sector\n",
    "#request etflist ticker data from yfinance dated 9-1-2022\n",
    "tickers = ['PLD', 'AMT', 'EQIX', 'CCI', 'PSA']\n",
    "\n",
    "data = {}\n",
    "\n",
    "for ticker in tickers:\n",
    "    try:\n",
    "        stock = yf.Ticker(ticker)\n",
    "        hist18 = stock.history(period='4y')\n",
    "        data[ticker] = pd.DataFrame({'Symbol': [ticker],\n",
    "                                      'Name': [stock.info['longName']],\n",
    "                                      'Open': [hist18.iloc[-114]['Open']]},\n",
    "                                      index=[hist18.index[-114]])\n",
    "    except IndexError:\n",
    "        data[ticker] = pd.DataFrame({'Symbol': [ticker],\n",
    "                                      'Name': [None],\n",
    "                                      'Open': [None]},\n",
    "                                      index=[None])\n",
    "\n",
    "df38 = pd.concat(data.values())\n",
    "print(df38)"
   ]
  },
  {
   "cell_type": "code",
   "execution_count": 152,
   "id": "5574c468",
   "metadata": {},
   "outputs": [
    {
     "name": "stdout",
     "output_type": "stream",
     "text": [
      "                          Symbol                        Name        Open\n",
      "2023-01-03 00:00:00-05:00    PLD              Prologis, Inc.  113.153711\n",
      "2023-01-03 00:00:00-05:00    AMT  American Tower Corporation  212.419773\n",
      "2023-01-03 00:00:00-05:00   EQIX               Equinix, Inc.  660.093532\n",
      "2023-01-03 00:00:00-05:00    CCI           Crown Castle Inc.  135.269144\n",
      "2023-01-03 00:00:00-05:00    PSA              Public Storage  278.168144\n"
     ]
    }
   ],
   "source": [
    "#Real Estate Sector\n",
    "#request etflist ticker data from yfinance dated 1-3-2023\n",
    "tickers = ['PLD', 'AMT', 'EQIX', 'CCI', 'PSA']\n",
    "\n",
    "data = {}\n",
    "\n",
    "for ticker in tickers:\n",
    "    try:\n",
    "        stock = yf.Ticker(ticker)\n",
    "        hist19 = stock.history(period='4y')\n",
    "        data[ticker] = pd.DataFrame({'Symbol': [ticker],\n",
    "                                      'Name': [stock.info['longName']],\n",
    "                                      'Open': [hist19.iloc[-72]['Open']]},\n",
    "                                      index=[hist19.index[-72]])\n",
    "    except IndexError:\n",
    "        data[ticker] = pd.DataFrame({'Symbol': [ticker],\n",
    "                                      'Name': [None],\n",
    "                                      'Open': [None]},\n",
    "                                      index=[None])\n",
    "\n",
    "df39 = pd.concat(data.values())\n",
    "print(df39)"
   ]
  },
  {
   "cell_type": "code",
   "execution_count": 153,
   "id": "e8e88856",
   "metadata": {},
   "outputs": [
    {
     "name": "stdout",
     "output_type": "stream",
     "text": [
      "                          Symbol                        Name        Open\n",
      "2023-03-01 00:00:00-05:00    PLD              Prologis, Inc.  120.867385\n",
      "2023-03-01 00:00:00-05:00    AMT  American Tower Corporation  195.068850\n",
      "2023-03-01 00:00:00-05:00   EQIX               Equinix, Inc.  681.499613\n",
      "2023-03-01 00:00:00-05:00    CCI           Crown Castle Inc.  128.511118\n",
      "2023-03-01 00:00:00-05:00    PSA              Public Storage  292.874223\n"
     ]
    }
   ],
   "source": [
    "#Real Estate Sector\n",
    "#request etflist ticker data from yfinance dated 3-1-2023\n",
    "tickers = ['PLD', 'AMT', 'EQIX', 'CCI', 'PSA']\n",
    "\n",
    "data = {}\n",
    "\n",
    "for ticker in tickers:\n",
    "    try:\n",
    "        stock = yf.Ticker(ticker)\n",
    "        hist20 = stock.history(period='4y')\n",
    "        data[ticker] = pd.DataFrame({'Symbol': [ticker],\n",
    "                                      'Name': [stock.info['longName']],\n",
    "                                      'Open': [hist20.iloc[-33]['Open']]},\n",
    "                                      index=[hist20.index[-33]])\n",
    "    except IndexError:\n",
    "        data[ticker] = pd.DataFrame({'Symbol': [ticker],\n",
    "                                      'Name': [None],\n",
    "                                      'Open': [None]},\n",
    "                                      index=[None])\n",
    "\n",
    "df40 = pd.concat(data.values())\n",
    "print(df40)"
   ]
  },
  {
   "cell_type": "code",
   "execution_count": null,
   "id": "dc641594",
   "metadata": {},
   "outputs": [],
   "source": []
  },
  {
   "cell_type": "code",
   "execution_count": null,
   "id": "eedd916a",
   "metadata": {},
   "outputs": [],
   "source": [
    "#Information Technology Sector\n",
    "aapl\n",
    "\tmfst\n",
    "\tnvda\n",
    "\ttsm\n",
    "\tavgo"
   ]
  },
  {
   "cell_type": "code",
   "execution_count": 156,
   "id": "e127b1e5",
   "metadata": {},
   "outputs": [
    {
     "name": "stdout",
     "output_type": "stream",
     "text": [
      "                          Symbol  \\\n",
      "2020-01-03 00:00:00-05:00   AAPL   \n",
      "2020-01-03 00:00:00-05:00   MSFT   \n",
      "2020-01-03 00:00:00-05:00   NVDA   \n",
      "2020-01-03 00:00:00-05:00    TSM   \n",
      "2020-01-03 00:00:00-05:00   AVGO   \n",
      "\n",
      "                                                                        Name  \\\n",
      "2020-01-03 00:00:00-05:00                                         Apple Inc.   \n",
      "2020-01-03 00:00:00-05:00                              Microsoft Corporation   \n",
      "2020-01-03 00:00:00-05:00                                 NVIDIA Corporation   \n",
      "2020-01-03 00:00:00-05:00  Taiwan Semiconductor Manufacturing Company Lim...   \n",
      "2020-01-03 00:00:00-05:00                                      Broadcom Inc.   \n",
      "\n",
      "                                 Open  \n",
      "2020-01-03 00:00:00-05:00   72.666856  \n",
      "2020-01-03 00:00:00-05:00  153.531397  \n",
      "2020-01-03 00:00:00-05:00   58.562252  \n",
      "2020-01-03 00:00:00-05:00   55.059416  \n",
      "2020-01-03 00:00:00-05:00  283.654076  \n"
     ]
    }
   ],
   "source": [
    "#Information Technology Sector\n",
    "#request etflist ticker data from yfinance dated 1-3,2020\n",
    "tickers = ['AAPL', 'MSFT', 'NVDA', 'TSM', 'AVGO']\n",
    "\n",
    "data = {}\n",
    "\n",
    "for ticker in tickers:\n",
    "    try:\n",
    "        stock = yf.Ticker(ticker)\n",
    "        hist1 = stock.history(period='4y')\n",
    "        data[ticker] = pd.DataFrame({'Symbol': [ticker],\n",
    "                                      'Name': [stock.info['longName']],\n",
    "                                      'Open': [hist1.iloc[-827]['Open']]},\n",
    "                                      index=[hist1.index[-827]])\n",
    "    except IndexError:\n",
    "        data[ticker] = pd.DataFrame({'Symbol': [ticker],\n",
    "                                      'Name': [None],\n",
    "                                      'Open': [None]},\n",
    "                                      index=[None])\n",
    "\n",
    "df41 = pd.concat(data.values())\n",
    "print(df41)"
   ]
  },
  {
   "cell_type": "code",
   "execution_count": 157,
   "id": "ca3822ff",
   "metadata": {},
   "outputs": [
    {
     "name": "stdout",
     "output_type": "stream",
     "text": [
      "                          Symbol  \\\n",
      "2020-03-02 00:00:00-05:00   AAPL   \n",
      "2020-03-02 00:00:00-05:00   MSFT   \n",
      "2020-03-02 00:00:00-05:00   NVDA   \n",
      "2020-03-02 00:00:00-05:00    TSM   \n",
      "2020-03-02 00:00:00-05:00   AVGO   \n",
      "\n",
      "                                                                        Name  \\\n",
      "2020-03-02 00:00:00-05:00                                         Apple Inc.   \n",
      "2020-03-02 00:00:00-05:00                              Microsoft Corporation   \n",
      "2020-03-02 00:00:00-05:00                                 NVIDIA Corporation   \n",
      "2020-03-02 00:00:00-05:00  Taiwan Semiconductor Manufacturing Company Lim...   \n",
      "2020-03-02 00:00:00-05:00                                      Broadcom Inc.   \n",
      "\n",
      "                                 Open  \n",
      "2020-03-02 00:00:00-05:00   69.194277  \n",
      "2020-03-02 00:00:00-05:00  160.747842  \n",
      "2020-03-02 00:00:00-05:00   69.015697  \n",
      "2020-03-02 00:00:00-05:00   50.764466  \n",
      "2020-03-02 00:00:00-05:00  247.249266  \n"
     ]
    }
   ],
   "source": [
    "#Information Technology Sector\n",
    "#request etflist ticker data from yfinance dated 3-2,2020\n",
    "tickers = ['AAPL', 'MSFT', 'NVDA', 'TSM', 'AVGO']\n",
    "\n",
    "data = {}\n",
    "\n",
    "for ticker in tickers:\n",
    "    try:\n",
    "        stock = yf.Ticker(ticker)\n",
    "        hist2 = stock.history(period='4y')\n",
    "        data[ticker] = pd.DataFrame({'Symbol': [ticker],\n",
    "                                      'Name': [stock.info['longName']],\n",
    "                                      'Open': [hist2.iloc[-788]['Open']]},\n",
    "                                      index=[hist2.index[-788]])\n",
    "    except IndexError:\n",
    "        data[ticker] = pd.DataFrame({'Symbol': [ticker],\n",
    "                                      'Name': [None],\n",
    "                                      'Open': [None]},\n",
    "                                      index=[None])\n",
    "\n",
    "df42 = pd.concat(data.values())\n",
    "print(df42)"
   ]
  },
  {
   "cell_type": "code",
   "execution_count": 158,
   "id": "d032d104",
   "metadata": {},
   "outputs": [
    {
     "name": "stdout",
     "output_type": "stream",
     "text": [
      "                          Symbol  \\\n",
      "2020-05-01 00:00:00-04:00   AAPL   \n",
      "2020-05-01 00:00:00-04:00   MSFT   \n",
      "2020-05-01 00:00:00-04:00   NVDA   \n",
      "2020-05-01 00:00:00-04:00    TSM   \n",
      "2020-05-01 00:00:00-04:00   AVGO   \n",
      "\n",
      "                                                                        Name  \\\n",
      "2020-05-01 00:00:00-04:00                                         Apple Inc.   \n",
      "2020-05-01 00:00:00-04:00                              Microsoft Corporation   \n",
      "2020-05-01 00:00:00-04:00                                 NVIDIA Corporation   \n",
      "2020-05-01 00:00:00-04:00  Taiwan Semiconductor Manufacturing Company Lim...   \n",
      "2020-05-01 00:00:00-04:00                                      Broadcom Inc.   \n",
      "\n",
      "                                 Open  \n",
      "2020-05-01 00:00:00-04:00   70.167423  \n",
      "2020-05-01 00:00:00-04:00  170.948340  \n",
      "2020-05-01 00:00:00-04:00   70.872554  \n",
      "2020-05-01 00:00:00-04:00   49.464678  \n",
      "2020-05-01 00:00:00-04:00  241.675872  \n"
     ]
    }
   ],
   "source": [
    "#Information Technology Sector\n",
    "#request etflist ticker data from yfinance dated 5-1,2020\n",
    "tickers = ['AAPL', 'MSFT', 'NVDA', 'TSM', 'AVGO']\n",
    "\n",
    "data = {}\n",
    "\n",
    "for ticker in tickers:\n",
    "    try:\n",
    "        stock = yf.Ticker(ticker)\n",
    "        hist3 = stock.history(period='4y')\n",
    "        data[ticker] = pd.DataFrame({'Symbol': [ticker],\n",
    "                                      'Name': [stock.info['longName']],\n",
    "                                      'Open': [hist3.iloc[-745]['Open']]},\n",
    "                                      index=[hist3.index[-745]])\n",
    "    except IndexError:\n",
    "        data[ticker] = pd.DataFrame({'Symbol': [ticker],\n",
    "                                      'Name': [None],\n",
    "                                      'Open': [None]},\n",
    "                                      index=[None])\n",
    "\n",
    "df43 = pd.concat(data.values())\n",
    "print(df43)"
   ]
  },
  {
   "cell_type": "code",
   "execution_count": 160,
   "id": "1b39e0e0",
   "metadata": {},
   "outputs": [
    {
     "name": "stdout",
     "output_type": "stream",
     "text": [
      "                          Symbol  \\\n",
      "2020-07-01 00:00:00-04:00   AAPL   \n",
      "2020-07-01 00:00:00-04:00   MSFT   \n",
      "2020-07-01 00:00:00-04:00   NVDA   \n",
      "2020-07-01 00:00:00-04:00    TSM   \n",
      "2020-07-01 00:00:00-04:00   AVGO   \n",
      "\n",
      "                                                                        Name  \\\n",
      "2020-07-01 00:00:00-04:00                                         Apple Inc.   \n",
      "2020-07-01 00:00:00-04:00                              Microsoft Corporation   \n",
      "2020-07-01 00:00:00-04:00                                 NVIDIA Corporation   \n",
      "2020-07-01 00:00:00-04:00  Taiwan Semiconductor Manufacturing Company Lim...   \n",
      "2020-07-01 00:00:00-04:00                                      Broadcom Inc.   \n",
      "\n",
      "                                 Open  \n",
      "2020-07-01 00:00:00-04:00   89.742818  \n",
      "2020-07-01 00:00:00-04:00  198.083948  \n",
      "2020-07-01 00:00:00-04:00   94.962938  \n",
      "2020-07-01 00:00:00-04:00   54.098128  \n",
      "2020-07-01 00:00:00-04:00  289.244553  \n"
     ]
    }
   ],
   "source": [
    "#Information Technology Sector\n",
    "#request etflist ticker data from yfinance dated 7-1,2020\n",
    "tickers = ['AAPL', 'MSFT', 'NVDA', 'TSM', 'AVGO']\n",
    "\n",
    "data = {}\n",
    "\n",
    "for ticker in tickers:\n",
    "    try:\n",
    "        stock = yf.Ticker(ticker)\n",
    "        hist4 = stock.history(period='4y')\n",
    "        data[ticker] = pd.DataFrame({'Symbol': [ticker],\n",
    "                                      'Name': [stock.info['longName']],\n",
    "                                      'Open': [hist4.iloc[-703]['Open']]},\n",
    "                                      index=[hist4.index[-703]])\n",
    "    except IndexError:\n",
    "        data[ticker] = pd.DataFrame({'Symbol': [ticker],\n",
    "                                      'Name': [None],\n",
    "                                      'Open': [None]},\n",
    "                                      index=[None])\n",
    "\n",
    "df44 = pd.concat(data.values())\n",
    "print(df44)"
   ]
  },
  {
   "cell_type": "code",
   "execution_count": 161,
   "id": "7ac69a45",
   "metadata": {},
   "outputs": [
    {
     "name": "stdout",
     "output_type": "stream",
     "text": [
      "                          Symbol  \\\n",
      "2020-09-01 00:00:00-04:00   AAPL   \n",
      "2020-09-01 00:00:00-04:00   MSFT   \n",
      "2020-09-01 00:00:00-04:00   NVDA   \n",
      "2020-09-01 00:00:00-04:00    TSM   \n",
      "2020-09-01 00:00:00-04:00   AVGO   \n",
      "\n",
      "                                                                        Name  \\\n",
      "2020-09-01 00:00:00-04:00                                         Apple Inc.   \n",
      "2020-09-01 00:00:00-04:00                              Microsoft Corporation   \n",
      "2020-09-01 00:00:00-04:00                                 NVIDIA Corporation   \n",
      "2020-09-01 00:00:00-04:00  Taiwan Semiconductor Manufacturing Company Lim...   \n",
      "2020-09-01 00:00:00-04:00                                      Broadcom Inc.   \n",
      "\n",
      "                                 Open  \n",
      "2020-09-01 00:00:00-04:00  130.759601  \n",
      "2020-09-01 00:00:00-04:00  220.428711  \n",
      "2020-09-01 00:00:00-04:00  134.493963  \n",
      "2020-09-01 00:00:00-04:00   76.081143  \n",
      "2020-09-01 00:00:00-04:00  321.270660  \n"
     ]
    }
   ],
   "source": [
    "#Information Technology Sector\n",
    "#request etflist ticker data from yfinance dated 9-1,2020\n",
    "tickers = ['AAPL', 'MSFT', 'NVDA', 'TSM', 'AVGO']\n",
    "\n",
    "data = {}\n",
    "\n",
    "for ticker in tickers:\n",
    "    try:\n",
    "        stock = yf.Ticker(ticker)\n",
    "        hist5 = stock.history(period='4y')\n",
    "        data[ticker] = pd.DataFrame({'Symbol': [ticker],\n",
    "                                      'Name': [stock.info['longName']],\n",
    "                                      'Open': [hist5.iloc[-660]['Open']]},\n",
    "                                      index=[hist5.index[-660]])\n",
    "    except IndexError:\n",
    "        data[ticker] = pd.DataFrame({'Symbol': [ticker],\n",
    "                                      'Name': [None],\n",
    "                                      'Open': [None]},\n",
    "                                      index=[None])\n",
    "\n",
    "df45 = pd.concat(data.values())\n",
    "print(df45)"
   ]
  },
  {
   "cell_type": "code",
   "execution_count": 162,
   "id": "3ea07ea2",
   "metadata": {},
   "outputs": [
    {
     "name": "stdout",
     "output_type": "stream",
     "text": [
      "                          Symbol  \\\n",
      "2020-11-02 00:00:00-05:00   AAPL   \n",
      "2020-11-02 00:00:00-05:00   MSFT   \n",
      "2020-11-02 00:00:00-05:00   NVDA   \n",
      "2020-11-02 00:00:00-05:00    TSM   \n",
      "2020-11-02 00:00:00-05:00   AVGO   \n",
      "\n",
      "                                                                        Name  \\\n",
      "2020-11-02 00:00:00-05:00                                         Apple Inc.   \n",
      "2020-11-02 00:00:00-05:00                              Microsoft Corporation   \n",
      "2020-11-02 00:00:00-05:00                                 NVIDIA Corporation   \n",
      "2020-11-02 00:00:00-05:00  Taiwan Semiconductor Manufacturing Company Lim...   \n",
      "2020-11-02 00:00:00-05:00                                      Broadcom Inc.   \n",
      "\n",
      "                                 Open  \n",
      "2020-11-02 00:00:00-05:00  107.465969  \n",
      "2020-11-02 00:00:00-05:00  199.686870  \n",
      "2020-11-02 00:00:00-05:00  126.290137  \n",
      "2020-11-02 00:00:00-05:00   80.750075  \n",
      "2020-11-02 00:00:00-05:00  328.868171  \n"
     ]
    }
   ],
   "source": [
    "#Information Technology Sector\n",
    "#request etflist ticker data from yfinance dated 11-2,2020\n",
    "tickers = tickers = ['AAPL', 'MSFT', 'NVDA', 'TSM', 'AVGO']\n",
    "\n",
    "data = {}\n",
    "\n",
    "for ticker in tickers:\n",
    "    try:\n",
    "        stock = yf.Ticker(ticker)\n",
    "        hist6 = stock.history(period='4y')\n",
    "        data[ticker] = pd.DataFrame({'Symbol': [ticker],\n",
    "                                      'Name': [stock.info['longName']],\n",
    "                                      'Open': [hist6.iloc[-617]['Open']]},\n",
    "                                      index=[hist6.index[-617]])\n",
    "    except IndexError:\n",
    "        data[ticker] = pd.DataFrame({'Symbol': [ticker],\n",
    "                                      'Name': [None],\n",
    "                                      'Open': [None]},\n",
    "                                      index=[None])\n",
    "\n",
    "df46 = pd.concat(data.values())\n",
    "print(df46)"
   ]
  },
  {
   "cell_type": "code",
   "execution_count": 163,
   "id": "57412c99",
   "metadata": {},
   "outputs": [
    {
     "name": "stdout",
     "output_type": "stream",
     "text": [
      "                          Symbol  \\\n",
      "2021-01-04 00:00:00-05:00   AAPL   \n",
      "2021-01-04 00:00:00-05:00   MSFT   \n",
      "2021-01-04 00:00:00-05:00   NVDA   \n",
      "2021-01-04 00:00:00-05:00    TSM   \n",
      "2021-01-04 00:00:00-05:00   AVGO   \n",
      "\n",
      "                                                                        Name  \\\n",
      "2021-01-04 00:00:00-05:00                                         Apple Inc.   \n",
      "2021-01-04 00:00:00-05:00                              Microsoft Corporation   \n",
      "2021-01-04 00:00:00-05:00                                 NVIDIA Corporation   \n",
      "2021-01-04 00:00:00-05:00  Taiwan Semiconductor Manufacturing Company Lim...   \n",
      "2021-01-04 00:00:00-05:00                                      Broadcom Inc.   \n",
      "\n",
      "                                 Open  \n",
      "2021-01-04 00:00:00-05:00  131.735065  \n",
      "2021-01-04 00:00:00-05:00  218.085367  \n",
      "2021-01-04 00:00:00-05:00  130.783615  \n",
      "2021-01-04 00:00:00-05:00  106.846210  \n",
      "2021-01-04 00:00:00-05:00  410.412156  \n"
     ]
    }
   ],
   "source": [
    "#Information Technology Sector\n",
    "#request etflist ticker data from yfinance dated 1-4,2021\n",
    "tickers = ['AAPL', 'MSFT', 'NVDA', 'TSM', 'AVGO']\n",
    "\n",
    "data = {}\n",
    "\n",
    "for ticker in tickers:\n",
    "    try:\n",
    "        stock = yf.Ticker(ticker)\n",
    "        hist7 = stock.history(period='4y')\n",
    "        data[ticker] = pd.DataFrame({'Symbol': [ticker],\n",
    "                                      'Name': [stock.info['longName']],\n",
    "                                      'Open': [hist7.iloc[-575]['Open']]},\n",
    "                                      index=[hist7.index[-575]])\n",
    "    except IndexError:\n",
    "        data[ticker] = pd.DataFrame({'Symbol': [ticker],\n",
    "                                      'Name': [None],\n",
    "                                      'Open': [None]},\n",
    "                                      index=[None])\n",
    "\n",
    "df47 = pd.concat(data.values())\n",
    "print(df47)"
   ]
  },
  {
   "cell_type": "code",
   "execution_count": 164,
   "id": "e6b419ff",
   "metadata": {},
   "outputs": [
    {
     "name": "stdout",
     "output_type": "stream",
     "text": [
      "                          Symbol  \\\n",
      "2021-03-01 00:00:00-05:00   AAPL   \n",
      "2021-03-01 00:00:00-05:00   MSFT   \n",
      "2021-03-01 00:00:00-05:00   NVDA   \n",
      "2021-03-01 00:00:00-05:00    TSM   \n",
      "2021-03-01 00:00:00-05:00   AVGO   \n",
      "\n",
      "                                                                        Name  \\\n",
      "2021-03-01 00:00:00-05:00                                         Apple Inc.   \n",
      "2021-03-01 00:00:00-05:00                              Microsoft Corporation   \n",
      "2021-03-01 00:00:00-05:00                                 NVIDIA Corporation   \n",
      "2021-03-01 00:00:00-05:00  Taiwan Semiconductor Manufacturing Company Lim...   \n",
      "2021-03-01 00:00:00-05:00                                      Broadcom Inc.   \n",
      "\n",
      "                                Open  \n",
      "2021-03-01 00:00:00-05:00  64.858601  \n",
      "2021-03-01 00:00:00-05:00  64.858601  \n",
      "2021-03-01 00:00:00-05:00  64.858601  \n",
      "2021-03-01 00:00:00-05:00  64.858601  \n",
      "2021-03-01 00:00:00-05:00  64.858601  \n"
     ]
    }
   ],
   "source": [
    "#Information Technology Sector\n",
    "#request etflist ticker data from yfinance dated 3-2021\n",
    "tickers = ['AAPL', 'MSFT', 'NVDA', 'TSM', 'AVGO']\n",
    "\n",
    "data = {}\n",
    "\n",
    "for ticker in tickers:\n",
    "    try:\n",
    "        stock = yf.Ticker(ticker)\n",
    "        hist7 = stock.history(period='4y')\n",
    "        data[ticker] = pd.DataFrame({'Symbol': [ticker],\n",
    "                                      'Name': [stock.info['longName']],\n",
    "                                      'Open': [hist8.iloc[-537]['Open']]},\n",
    "                                      index=[hist8.index[-537]])\n",
    "    except IndexError:\n",
    "        data[ticker] = pd.DataFrame({'Symbol': [ticker],\n",
    "                                      'Name': [None],\n",
    "                                      'Open': [None]},\n",
    "                                      index=[None])\n",
    "\n",
    "df48 = pd.concat(data.values())\n",
    "print(df48)"
   ]
  },
  {
   "cell_type": "code",
   "execution_count": 165,
   "id": "5220747c",
   "metadata": {},
   "outputs": [
    {
     "name": "stdout",
     "output_type": "stream",
     "text": [
      "                          Symbol  \\\n",
      "2021-05-03 00:00:00-04:00   AAPL   \n",
      "2021-05-03 00:00:00-04:00   MSFT   \n",
      "2021-05-03 00:00:00-04:00   NVDA   \n",
      "2021-05-03 00:00:00-04:00    TSM   \n",
      "2021-05-03 00:00:00-04:00   AVGO   \n",
      "\n",
      "                                                                        Name  \\\n",
      "2021-05-03 00:00:00-04:00                                         Apple Inc.   \n",
      "2021-05-03 00:00:00-04:00                              Microsoft Corporation   \n",
      "2021-05-03 00:00:00-04:00                                 NVIDIA Corporation   \n",
      "2021-05-03 00:00:00-04:00  Taiwan Semiconductor Manufacturing Company Lim...   \n",
      "2021-05-03 00:00:00-04:00                                      Broadcom Inc.   \n",
      "\n",
      "                                 Open  \n",
      "2021-05-03 00:00:00-04:00  130.469494  \n",
      "2021-05-03 00:00:00-04:00  248.910721  \n",
      "2021-05-03 00:00:00-04:00  151.003294  \n",
      "2021-05-03 00:00:00-04:00  113.021575  \n",
      "2021-05-03 00:00:00-04:00  432.845274  \n"
     ]
    }
   ],
   "source": [
    "#Information Technology Sector\n",
    "#request etflist ticker data from yfinance dated 5-3-2021\n",
    "tickers = ['AAPL', 'MSFT', 'NVDA', 'TSM', 'AVGO']\n",
    "\n",
    "data = {}\n",
    "\n",
    "for ticker in tickers:\n",
    "    try:\n",
    "        stock = yf.Ticker(ticker)\n",
    "        hist9 = stock.history(period='4y')\n",
    "        data[ticker] = pd.DataFrame({'Symbol': [ticker],\n",
    "                                      'Name': [stock.info['longName']],\n",
    "                                      'Open': [hist9.iloc[-493]['Open']]},\n",
    "                                      index=[hist9.index[-493]])\n",
    "    except IndexError:\n",
    "        data[ticker] = pd.DataFrame({'Symbol': [ticker],\n",
    "                                      'Name': [None],\n",
    "                                      'Open': [None]},\n",
    "                                      index=[None])\n",
    "\n",
    "d49 = pd.concat(data.values())\n",
    "print(df49)"
   ]
  },
  {
   "cell_type": "code",
   "execution_count": 166,
   "id": "8e537965",
   "metadata": {},
   "outputs": [
    {
     "name": "stdout",
     "output_type": "stream",
     "text": [
      "                          Symbol  \\\n",
      "2021-07-01 00:00:00-04:00   AAPL   \n",
      "2021-07-01 00:00:00-04:00   MSFT   \n",
      "2021-07-01 00:00:00-04:00   NVDA   \n",
      "2021-07-01 00:00:00-04:00    TSM   \n",
      "2021-07-01 00:00:00-04:00   AVGO   \n",
      "\n",
      "                                                                        Name  \\\n",
      "2021-07-01 00:00:00-04:00                                         Apple Inc.   \n",
      "2021-07-01 00:00:00-04:00                              Microsoft Corporation   \n",
      "2021-07-01 00:00:00-04:00                                 NVIDIA Corporation   \n",
      "2021-07-01 00:00:00-04:00  Taiwan Semiconductor Manufacturing Company Lim...   \n",
      "2021-07-01 00:00:00-04:00                                      Broadcom Inc.   \n",
      "\n",
      "                                 Open  \n",
      "2021-07-01 00:00:00-04:00  135.204522  \n",
      "2021-07-01 00:00:00-04:00  265.445048  \n",
      "2021-07-01 00:00:00-04:00  200.967803  \n",
      "2021-07-01 00:00:00-04:00  115.995239  \n",
      "2021-07-01 00:00:00-04:00  453.398193  \n"
     ]
    }
   ],
   "source": [
    "#Information Technology Sector\n",
    "#request etflist ticker data from yfinance dated 7-1-2021\n",
    "tickers = ['AAPL', 'MSFT', 'NVDA', 'TSM', 'AVGO']\n",
    "\n",
    "data = {}\n",
    "\n",
    "for ticker in tickers:\n",
    "    try:\n",
    "        stock = yf.Ticker(ticker)\n",
    "        hist10 = stock.history(period='4y')\n",
    "        data[ticker] = pd.DataFrame({'Symbol': [ticker],\n",
    "                                      'Name': [stock.info['longName']],\n",
    "                                      'Open': [hist10.iloc[-451]['Open']]},\n",
    "                                      index=[hist10.index[-451]])\n",
    "    except IndexError:\n",
    "        data[ticker] = pd.DataFrame({'Symbol': [ticker],\n",
    "                                      'Name': [None],\n",
    "                                      'Open': [None]},\n",
    "                                      index=[None])\n",
    "\n",
    "df50 = pd.concat(data.values())\n",
    "print(df50)"
   ]
  },
  {
   "cell_type": "code",
   "execution_count": 167,
   "id": "35721896",
   "metadata": {},
   "outputs": [
    {
     "name": "stdout",
     "output_type": "stream",
     "text": [
      "                          Symbol  \\\n",
      "2021-09-01 00:00:00-04:00   AAPL   \n",
      "2021-09-01 00:00:00-04:00   MSFT   \n",
      "2021-09-01 00:00:00-04:00   NVDA   \n",
      "2021-09-01 00:00:00-04:00    TSM   \n",
      "2021-09-01 00:00:00-04:00   AVGO   \n",
      "\n",
      "                                                                        Name  \\\n",
      "2021-09-01 00:00:00-04:00                                         Apple Inc.   \n",
      "2021-09-01 00:00:00-04:00                              Microsoft Corporation   \n",
      "2021-09-01 00:00:00-04:00                                 NVIDIA Corporation   \n",
      "2021-09-01 00:00:00-04:00  Taiwan Semiconductor Manufacturing Company Lim...   \n",
      "2021-09-01 00:00:00-04:00                                      Broadcom Inc.   \n",
      "\n",
      "                                 Open  \n",
      "2021-09-01 00:00:00-04:00  151.495390  \n",
      "2021-09-01 00:00:00-04:00  298.762139  \n",
      "2021-09-01 00:00:00-04:00  224.574305  \n",
      "2021-09-01 00:00:00-04:00  116.111146  \n",
      "2021-09-01 00:00:00-04:00  470.885478  \n"
     ]
    }
   ],
   "source": [
    "#Information Technology Sector\n",
    "#request etflist ticker data from yfinance dated 9-1-2021\n",
    "tickers = ['AAPL', 'MSFT', 'NVDA', 'TSM', 'AVGO']\n",
    "\n",
    "data = {}\n",
    "\n",
    "for ticker in tickers:\n",
    "    try:\n",
    "        stock = yf.Ticker(ticker)\n",
    "        hist11 = stock.history(period='4y')\n",
    "        data[ticker] = pd.DataFrame({'Symbol': [ticker],\n",
    "                                      'Name': [stock.info['longName']],\n",
    "                                      'Open': [hist11.iloc[-408]['Open']]},\n",
    "                                      index=[hist11.index[-408]])\n",
    "    except IndexError:\n",
    "        data[ticker] = pd.DataFrame({'Symbol': [ticker],\n",
    "                                      'Name': [None],\n",
    "                                      'Open': [None]},\n",
    "                                      index=[None])\n",
    "\n",
    "df51 = pd.concat(data.values())\n",
    "print(df51)"
   ]
  },
  {
   "cell_type": "code",
   "execution_count": 168,
   "id": "fbc517dc",
   "metadata": {},
   "outputs": [
    {
     "name": "stdout",
     "output_type": "stream",
     "text": [
      "                          Symbol  \\\n",
      "2021-11-01 00:00:00-04:00   AAPL   \n",
      "2021-11-01 00:00:00-04:00   MSFT   \n",
      "2021-11-01 00:00:00-04:00   NVDA   \n",
      "2021-11-01 00:00:00-04:00    TSM   \n",
      "2021-11-01 00:00:00-04:00   AVGO   \n",
      "\n",
      "                                                                        Name  \\\n",
      "2021-11-01 00:00:00-04:00                                         Apple Inc.   \n",
      "2021-11-01 00:00:00-04:00                              Microsoft Corporation   \n",
      "2021-11-01 00:00:00-04:00                                 NVIDIA Corporation   \n",
      "2021-11-01 00:00:00-04:00  Taiwan Semiconductor Manufacturing Company Lim...   \n",
      "2021-11-01 00:00:00-04:00                                      Broadcom Inc.   \n",
      "\n",
      "                                 Open  \n",
      "2021-11-01 00:00:00-04:00  147.688916  \n",
      "2021-11-01 00:00:00-04:00  326.865710  \n",
      "2021-11-01 00:00:00-04:00  256.175492  \n",
      "2021-11-01 00:00:00-04:00  110.148653  \n",
      "2021-11-01 00:00:00-04:00  506.900710  \n"
     ]
    }
   ],
   "source": [
    "#Information Technology Sector\n",
    "#request etflist ticker data from yfinance dated 11-1-1021\n",
    "tickers = ['AAPL', 'MSFT', 'NVDA', 'TSM', 'AVGO']\n",
    "\n",
    "data = {}\n",
    "\n",
    "for ticker in tickers:\n",
    "    try:\n",
    "        stock = yf.Ticker(ticker)\n",
    "        hist12 = stock.history(period='4y')\n",
    "        data[ticker] = pd.DataFrame({'Symbol': [ticker],\n",
    "                                      'Name': [stock.info['longName']],\n",
    "                                      'Open': [hist12.iloc[-366]['Open']]},\n",
    "                                      index=[hist12.index[-366]])\n",
    "    except IndexError:\n",
    "        data[ticker] = pd.DataFrame({'Symbol': [ticker],\n",
    "                                      'Name': [None],\n",
    "                                      'Open': [None]},\n",
    "                                      index=[None])\n",
    "\n",
    "df52 = pd.concat(data.values())\n",
    "print(df52)"
   ]
  },
  {
   "cell_type": "code",
   "execution_count": 170,
   "id": "2a27e751",
   "metadata": {},
   "outputs": [
    {
     "name": "stdout",
     "output_type": "stream",
     "text": [
      "                          Symbol  \\\n",
      "2022-01-03 00:00:00-05:00   AAPL   \n",
      "2022-01-03 00:00:00-05:00   MSFT   \n",
      "2022-01-03 00:00:00-05:00   NVDA   \n",
      "2022-01-03 00:00:00-05:00    TSM   \n",
      "2022-01-03 00:00:00-05:00   AVGO   \n",
      "\n",
      "                                                                        Name  \\\n",
      "2022-01-03 00:00:00-05:00                                         Apple Inc.   \n",
      "2022-01-03 00:00:00-05:00                              Microsoft Corporation   \n",
      "2022-01-03 00:00:00-05:00                                 NVIDIA Corporation   \n",
      "2022-01-03 00:00:00-05:00  Taiwan Semiconductor Manufacturing Company Lim...   \n",
      "2022-01-03 00:00:00-05:00                                      Broadcom Inc.   \n",
      "\n",
      "                                 Open  \n",
      "2022-01-03 00:00:00-05:00  176.534331  \n",
      "2022-01-03 00:00:00-05:00  331.406824  \n",
      "2022-01-03 00:00:00-05:00  297.820852  \n",
      "2022-01-03 00:00:00-05:00  120.877889  \n",
      "2022-01-03 00:00:00-05:00  640.944773  \n"
     ]
    }
   ],
   "source": [
    "#Information Technology Sector\n",
    "#request etflist ticker data from yfinance dated 1-3-2022\n",
    "tickers = ['AAPL', 'MSFT', 'NVDA', 'TSM', 'AVGO']\n",
    "\n",
    "data = {}\n",
    "\n",
    "for ticker in tickers:\n",
    "    try:\n",
    "        stock = yf.Ticker(ticker)\n",
    "        hist13 = stock.history(period='4y')\n",
    "        data[ticker] = pd.DataFrame({'Symbol': [ticker],\n",
    "                                      'Name': [stock.info['longName']],\n",
    "                                      'Open': [hist13.iloc[-323]['Open']]},\n",
    "                                      index=[hist13.index[-323]])\n",
    "    except IndexError:\n",
    "        data[ticker] = pd.DataFrame({'Symbol': [ticker],\n",
    "                                      'Name': [None],\n",
    "                                      'Open': [None]},\n",
    "                                      index=[None])\n",
    "\n",
    "df53 = pd.concat(data.values())\n",
    "print(df53)"
   ]
  },
  {
   "cell_type": "code",
   "execution_count": 171,
   "id": "7bc169fe",
   "metadata": {},
   "outputs": [
    {
     "name": "stdout",
     "output_type": "stream",
     "text": [
      "                          Symbol  \\\n",
      "2022-03-01 00:00:00-05:00   AAPL   \n",
      "2022-03-01 00:00:00-05:00   MSFT   \n",
      "2022-03-01 00:00:00-05:00   NVDA   \n",
      "2022-03-01 00:00:00-05:00    TSM   \n",
      "2022-03-01 00:00:00-05:00   AVGO   \n",
      "\n",
      "                                                                        Name  \\\n",
      "2022-03-01 00:00:00-05:00                                         Apple Inc.   \n",
      "2022-03-01 00:00:00-05:00                              Microsoft Corporation   \n",
      "2022-03-01 00:00:00-05:00                                 NVIDIA Corporation   \n",
      "2022-03-01 00:00:00-05:00  Taiwan Semiconductor Manufacturing Company Lim...   \n",
      "2022-03-01 00:00:00-05:00                                      Broadcom Inc.   \n",
      "\n",
      "                                 Open  \n",
      "2022-03-01 00:00:00-05:00  163.708299  \n",
      "2022-03-01 00:00:00-05:00  293.520459  \n",
      "2022-03-01 00:00:00-05:00  242.641847  \n",
      "2022-03-01 00:00:00-05:00  107.118086  \n",
      "2022-03-01 00:00:00-05:00  562.519699  \n"
     ]
    }
   ],
   "source": [
    "#Information Technology Sector\n",
    "#request etflist ticker data from yfinance dated 3-1-2022\n",
    "tickers = ['AAPL', 'MSFT', 'NVDA', 'TSM', 'AVGO']\n",
    "\n",
    "data = {}\n",
    "\n",
    "for ticker in tickers:\n",
    "    try:\n",
    "        stock = yf.Ticker(ticker)\n",
    "        hist14 = stock.history(period='4y')\n",
    "        data[ticker] = pd.DataFrame({'Symbol': [ticker],\n",
    "                                      'Name': [stock.info['longName']],\n",
    "                                      'Open': [hist14.iloc[-284]['Open']]},\n",
    "                                      index=[hist14.index[-284]])\n",
    "    except IndexError:\n",
    "        data[ticker] = pd.DataFrame({'Symbol': [ticker],\n",
    "                                      'Name': [None],\n",
    "                                      'Open': [None]},\n",
    "                                      index=[None])\n",
    "\n",
    "df54 = pd.concat(data.values())\n",
    "print(df54)"
   ]
  },
  {
   "cell_type": "code",
   "execution_count": 172,
   "id": "7de59e9e",
   "metadata": {},
   "outputs": [
    {
     "name": "stdout",
     "output_type": "stream",
     "text": [
      "                          Symbol  \\\n",
      "2022-05-02 00:00:00-04:00   AAPL   \n",
      "2022-05-02 00:00:00-04:00   MSFT   \n",
      "2022-05-02 00:00:00-04:00   NVDA   \n",
      "2022-05-02 00:00:00-04:00    TSM   \n",
      "2022-05-02 00:00:00-04:00   AVGO   \n",
      "\n",
      "                                                                        Name  \\\n",
      "2022-05-02 00:00:00-04:00                                         Apple Inc.   \n",
      "2022-05-02 00:00:00-04:00                              Microsoft Corporation   \n",
      "2022-05-02 00:00:00-04:00                                 NVIDIA Corporation   \n",
      "2022-05-02 00:00:00-04:00  Taiwan Semiconductor Manufacturing Company Lim...   \n",
      "2022-05-02 00:00:00-04:00                                      Broadcom Inc.   \n",
      "\n",
      "                                 Open  \n",
      "2022-05-02 00:00:00-04:00  155.766422  \n",
      "2022-05-02 00:00:00-04:00  275.012054  \n",
      "2022-05-02 00:00:00-04:00  185.236907  \n",
      "2022-05-02 00:00:00-04:00   90.510988  \n",
      "2022-05-02 00:00:00-04:00  539.546675  \n"
     ]
    }
   ],
   "source": [
    "#Information Technology Sector\n",
    "#request etflist ticker data from yfinance dated 5-2-2022\n",
    "tickers = ['AAPL', 'MSFT', 'NVDA', 'TSM', 'AVGO']\n",
    "\n",
    "data = {}\n",
    "\n",
    "for ticker in tickers:\n",
    "    try:\n",
    "        stock = yf.Ticker(ticker)\n",
    "        hist15 = stock.history(period='4y')\n",
    "        data[ticker] = pd.DataFrame({'Symbol': [ticker],\n",
    "                                      'Name': [stock.info['longName']],\n",
    "                                      'Open': [hist15.iloc[-241]['Open']]},\n",
    "                                      index=[hist15.index[-241]])\n",
    "    except IndexError:\n",
    "        data[ticker] = pd.DataFrame({'Symbol': [ticker],\n",
    "                                      'Name': [None],\n",
    "                                      'Open': [None]},\n",
    "                                      index=[None])\n",
    "\n",
    "df55 = pd.concat(data.values())\n",
    "print(df55)"
   ]
  },
  {
   "cell_type": "code",
   "execution_count": 173,
   "id": "99764895",
   "metadata": {},
   "outputs": [
    {
     "name": "stdout",
     "output_type": "stream",
     "text": [
      "                          Symbol  \\\n",
      "2022-07-01 00:00:00-04:00   AAPL   \n",
      "2022-07-01 00:00:00-04:00   MSFT   \n",
      "2022-07-01 00:00:00-04:00   NVDA   \n",
      "2022-07-01 00:00:00-04:00    TSM   \n",
      "2022-07-01 00:00:00-04:00   AVGO   \n",
      "\n",
      "                                                                        Name  \\\n",
      "2022-07-01 00:00:00-04:00                                         Apple Inc.   \n",
      "2022-07-01 00:00:00-04:00                              Microsoft Corporation   \n",
      "2022-07-01 00:00:00-04:00                                 NVIDIA Corporation   \n",
      "2022-07-01 00:00:00-04:00  Taiwan Semiconductor Manufacturing Company Lim...   \n",
      "2022-07-01 00:00:00-04:00                                      Broadcom Inc.   \n",
      "\n",
      "                                 Open  \n",
      "2022-07-01 00:00:00-04:00  135.419538  \n",
      "2022-07-01 00:00:00-04:00  254.490552  \n",
      "2022-07-01 00:00:00-04:00  148.882370  \n",
      "2022-07-01 00:00:00-04:00   77.747784  \n",
      "2022-07-01 00:00:00-04:00  468.120223  \n"
     ]
    }
   ],
   "source": [
    "#Information Technology Sector\n",
    "#request etflist ticker data from yfinance dated 7-1-2022\n",
    "tickers = ['AAPL', 'MSFT', 'NVDA', 'TSM', 'AVGO']\n",
    "\n",
    "data = {}\n",
    "\n",
    "for ticker in tickers:\n",
    "    try:\n",
    "        stock = yf.Ticker(ticker)\n",
    "        hist16 = stock.history(period='4y')\n",
    "        data[ticker] = pd.DataFrame({'Symbol': [ticker],\n",
    "                                      'Name': [stock.info['longName']],\n",
    "                                      'Open': [hist16.iloc[-199]['Open']]},\n",
    "                                      index=[hist16.index[-199]])\n",
    "    except IndexError:\n",
    "        data[ticker] = pd.DataFrame({'Symbol': [ticker],\n",
    "                                      'Name': [None],\n",
    "                                      'Open': [None]},\n",
    "                                      index=[None])\n",
    "\n",
    "df56 = pd.concat(data.values())\n",
    "print(df56)"
   ]
  },
  {
   "cell_type": "code",
   "execution_count": 174,
   "id": "de009ea9",
   "metadata": {},
   "outputs": [
    {
     "name": "stdout",
     "output_type": "stream",
     "text": [
      "                          Symbol  \\\n",
      "2022-09-01 00:00:00-04:00   AAPL   \n",
      "2022-09-01 00:00:00-04:00   MSFT   \n",
      "2022-09-01 00:00:00-04:00   NVDA   \n",
      "2022-09-01 00:00:00-04:00    TSM   \n",
      "2022-09-01 00:00:00-04:00   AVGO   \n",
      "\n",
      "                                                                        Name  \\\n",
      "2022-09-01 00:00:00-04:00                                         Apple Inc.   \n",
      "2022-09-01 00:00:00-04:00                              Microsoft Corporation   \n",
      "2022-09-01 00:00:00-04:00                                 NVIDIA Corporation   \n",
      "2022-09-01 00:00:00-04:00  Taiwan Semiconductor Manufacturing Company Lim...   \n",
      "2022-09-01 00:00:00-04:00                                      Broadcom Inc.   \n",
      "\n",
      "                                 Open  \n",
      "2022-09-01 00:00:00-04:00  156.142180  \n",
      "2022-09-01 00:00:00-04:00  257.497552  \n",
      "2022-09-01 00:00:00-04:00  141.987338  \n",
      "2022-09-01 00:00:00-04:00   80.118386  \n",
      "2022-09-01 00:00:00-04:00  479.896201  \n"
     ]
    }
   ],
   "source": [
    "#Information Technology Sector\n",
    "#request etflist ticker data from yfinance dated 9-1-2022\n",
    "tickers = ['AAPL', 'MSFT', 'NVDA', 'TSM', 'AVGO']\n",
    "\n",
    "data = {}\n",
    "\n",
    "for ticker in tickers:\n",
    "    try:\n",
    "        stock = yf.Ticker(ticker)\n",
    "        hist17 = stock.history(period='4y')\n",
    "        data[ticker] = pd.DataFrame({'Symbol': [ticker],\n",
    "                                      'Name': [stock.info['longName']],\n",
    "                                      'Open': [hist17.iloc[-156]['Open']]},\n",
    "                                      index=[hist17.index[-156]])\n",
    "    except IndexError:\n",
    "        data[ticker] = pd.DataFrame({'Symbol': [ticker],\n",
    "                                      'Name': [None],\n",
    "                                      'Open': [None]},\n",
    "                                      index=[None])\n",
    "\n",
    "df57= pd.concat(data.values())\n",
    "print(df57)"
   ]
  },
  {
   "cell_type": "code",
   "execution_count": 177,
   "id": "7851156f",
   "metadata": {},
   "outputs": [
    {
     "name": "stdout",
     "output_type": "stream",
     "text": [
      "                          Symbol  \\\n",
      "2022-11-01 00:00:00-04:00   AAPL   \n",
      "2022-11-01 00:00:00-04:00   MSFT   \n",
      "2022-11-01 00:00:00-04:00   NVDA   \n",
      "2022-11-01 00:00:00-04:00    TSM   \n",
      "2022-11-01 00:00:00-04:00   AVGO   \n",
      "\n",
      "                                                                        Name  \\\n",
      "2022-11-01 00:00:00-04:00                                         Apple Inc.   \n",
      "2022-11-01 00:00:00-04:00                              Microsoft Corporation   \n",
      "2022-11-01 00:00:00-04:00                                 NVIDIA Corporation   \n",
      "2022-11-01 00:00:00-04:00  Taiwan Semiconductor Manufacturing Company Lim...   \n",
      "2022-11-01 00:00:00-04:00                                      Broadcom Inc.   \n",
      "\n",
      "                                 Open  \n",
      "2022-11-01 00:00:00-04:00  154.587148  \n",
      "2022-11-01 00:00:00-04:00  233.356230  \n",
      "2022-11-01 00:00:00-04:00  138.051228  \n",
      "2022-11-01 00:00:00-04:00   62.577698  \n",
      "2022-11-01 00:00:00-04:00  468.490917  \n"
     ]
    }
   ],
   "source": [
    "#Information Technology Sector\n",
    "#request etflist ticker data from yfinance dated 11-1-2022\n",
    "tickers = ['AAPL', 'MSFT', 'NVDA', 'TSM', 'AVGO']\n",
    "\n",
    "data = {}\n",
    "\n",
    "for ticker in tickers:\n",
    "    try:\n",
    "        stock = yf.Ticker(ticker)\n",
    "        hist18 = stock.history(period='4y')\n",
    "        data[ticker] = pd.DataFrame({'Symbol': [ticker],\n",
    "                                      'Name': [stock.info['longName']],\n",
    "                                      'Open': [hist18.iloc[-114]['Open']]},\n",
    "                                      index=[hist18.index[-114]])\n",
    "    except IndexError:\n",
    "        data[ticker] = pd.DataFrame({'Symbol': [ticker],\n",
    "                                      'Name': [None],\n",
    "                                      'Open': [None]},\n",
    "                                      index=[None])\n",
    "\n",
    "df58 = pd.concat(data.values())\n",
    "print(df58)"
   ]
  },
  {
   "cell_type": "code",
   "execution_count": 179,
   "id": "b2f6a7c9",
   "metadata": {},
   "outputs": [
    {
     "name": "stdout",
     "output_type": "stream",
     "text": [
      "                          Symbol  \\\n",
      "2023-01-03 00:00:00-05:00   AAPL   \n",
      "2023-01-03 00:00:00-05:00   MSFT   \n",
      "2023-01-03 00:00:00-05:00   NVDA   \n",
      "2023-01-03 00:00:00-05:00    TSM   \n",
      "2023-01-03 00:00:00-05:00   AVGO   \n",
      "\n",
      "                                                                        Name  \\\n",
      "2023-01-03 00:00:00-05:00                                         Apple Inc.   \n",
      "2023-01-03 00:00:00-05:00                              Microsoft Corporation   \n",
      "2023-01-03 00:00:00-05:00                                 NVIDIA Corporation   \n",
      "2023-01-03 00:00:00-05:00  Taiwan Semiconductor Manufacturing Company Lim...   \n",
      "2023-01-03 00:00:00-05:00                                      Broadcom Inc.   \n",
      "\n",
      "                                 Open  \n",
      "2023-01-03 00:00:00-05:00  130.081382  \n",
      "2023-01-03 00:00:00-05:00  242.472686  \n",
      "2023-01-03 00:00:00-05:00  148.484777  \n",
      "2023-01-03 00:00:00-05:00   75.457188  \n",
      "2023-01-03 00:00:00-05:00  560.962477  \n"
     ]
    }
   ],
   "source": [
    "#Information Technology Sector\n",
    "#request etflist ticker data from yfinance dated 1-3-2023\n",
    "tickers = ['AAPL', 'MSFT', 'NVDA', 'TSM', 'AVGO']\n",
    "\n",
    "data = {}\n",
    "\n",
    "for ticker in tickers:\n",
    "    try:\n",
    "        stock = yf.Ticker(ticker)\n",
    "        hist19 = stock.history(period='4y')\n",
    "        data[ticker] = pd.DataFrame({'Symbol': [ticker],\n",
    "                                      'Name': [stock.info['longName']],\n",
    "                                      'Open': [hist19.iloc[-72]['Open']]},\n",
    "                                      index=[hist19.index[-72]])\n",
    "    except IndexError:\n",
    "        data[ticker] = pd.DataFrame({'Symbol': [ticker],\n",
    "                                      'Name': [None],\n",
    "                                      'Open': [None]},\n",
    "                                      index=[None])\n",
    "\n",
    "df59 = pd.concat(data.values())\n",
    "print(df59)"
   ]
  },
  {
   "cell_type": "code",
   "execution_count": 180,
   "id": "e160003c",
   "metadata": {},
   "outputs": [
    {
     "name": "stdout",
     "output_type": "stream",
     "text": [
      "                          Symbol  \\\n",
      "2023-03-01 00:00:00-05:00   AAPL   \n",
      "2023-03-01 00:00:00-05:00   MSFT   \n",
      "2023-03-01 00:00:00-05:00   NVDA   \n",
      "2023-03-01 00:00:00-05:00    TSM   \n",
      "2023-03-01 00:00:00-05:00   AVGO   \n",
      "\n",
      "                                                                        Name  \\\n",
      "2023-03-01 00:00:00-05:00                                         Apple Inc.   \n",
      "2023-03-01 00:00:00-05:00                              Microsoft Corporation   \n",
      "2023-03-01 00:00:00-05:00                                 NVIDIA Corporation   \n",
      "2023-03-01 00:00:00-05:00  Taiwan Semiconductor Manufacturing Company Lim...   \n",
      "2023-03-01 00:00:00-05:00                                      Broadcom Inc.   \n",
      "\n",
      "                                 Open  \n",
      "2023-03-01 00:00:00-05:00  146.830002  \n",
      "2023-03-01 00:00:00-05:00  250.759995  \n",
      "2023-03-01 00:00:00-05:00  231.880616  \n",
      "2023-03-01 00:00:00-05:00   88.578881  \n",
      "2023-03-01 00:00:00-05:00  589.755228  \n"
     ]
    }
   ],
   "source": [
    "#Information Technology Sector\n",
    "#request etflist ticker data from yfinance dated 3-1-2023\n",
    "tickers = ['AAPL', 'MSFT', 'NVDA', 'TSM', 'AVGO']\n",
    "\n",
    "data = {}\n",
    "\n",
    "for ticker in tickers:\n",
    "    try:\n",
    "        stock = yf.Ticker(ticker)\n",
    "        hist20 = stock.history(period='4y')\n",
    "        data[ticker] = pd.DataFrame({'Symbol': [ticker],\n",
    "                                      'Name': [stock.info['longName']],\n",
    "                                      'Open': [hist20.iloc[-33]['Open']]},\n",
    "                                      index=[hist20.index[-33]])\n",
    "    except IndexError:\n",
    "        data[ticker] = pd.DataFrame({'Symbol': [ticker],\n",
    "                                      'Name': [None],\n",
    "                                      'Open': [None]},\n",
    "                                      index=[None])\n",
    "\n",
    "df60 = pd.concat(data.values())\n",
    "print(df60)"
   ]
  },
  {
   "cell_type": "code",
   "execution_count": null,
   "id": "92a04d8d",
   "metadata": {},
   "outputs": [],
   "source": []
  },
  {
   "cell_type": "code",
   "execution_count": null,
   "id": "51906442",
   "metadata": {},
   "outputs": [],
   "source": [
    "#Financial Sector\n",
    "brk-b\n",
    "\tbrk-a\n",
    "\tv\n",
    "\tjpm\n",
    "\tma\n"
   ]
  },
  {
   "cell_type": "code",
   "execution_count": 181,
   "id": "66192bf3",
   "metadata": {},
   "outputs": [
    {
     "name": "stdout",
     "output_type": "stream",
     "text": [
      "                          Symbol                     Name           Open\n",
      "2020-01-03 00:00:00-05:00  BRK-B  Berkshire Hathaway Inc.     225.690002\n",
      "2020-01-03 00:00:00-05:00  BRK-A  Berkshire Hathaway Inc.  338207.000000\n",
      "2020-01-03 00:00:00-05:00      V                Visa Inc.     184.355761\n",
      "2020-01-03 00:00:00-05:00    JPM     JPMorgan Chase & Co.     124.374617\n",
      "2020-01-03 00:00:00-05:00     MA  Mastercard Incorporated     293.735492\n"
     ]
    }
   ],
   "source": [
    "#Financial Sector\n",
    "#request etflist ticker data from yfinance dated 1-3,2020\n",
    "tickers = ['BRK-B', 'BRK-A', 'V', 'JPM', 'MA']\n",
    "\n",
    "data = {}\n",
    "\n",
    "for ticker in tickers:\n",
    "    try:\n",
    "        stock = yf.Ticker(ticker)\n",
    "        hist1 = stock.history(period='4y')\n",
    "        data[ticker] = pd.DataFrame({'Symbol': [ticker],\n",
    "                                      'Name': [stock.info['longName']],\n",
    "                                      'Open': [hist1.iloc[-827]['Open']]},\n",
    "                                      index=[hist1.index[-827]])\n",
    "    except IndexError:\n",
    "        data[ticker] = pd.DataFrame({'Symbol': [ticker],\n",
    "                                      'Name': [None],\n",
    "                                      'Open': [None]},\n",
    "                                      index=[None])\n",
    "\n",
    "df61 = pd.concat(data.values())\n",
    "print(df61)"
   ]
  },
  {
   "cell_type": "code",
   "execution_count": 182,
   "id": "2737d498",
   "metadata": {},
   "outputs": [
    {
     "name": "stdout",
     "output_type": "stream",
     "text": [
      "                          Symbol                     Name           Open\n",
      "2020-03-02 00:00:00-05:00  BRK-B  Berkshire Hathaway Inc.     207.250000\n",
      "2020-03-02 00:00:00-05:00  BRK-A  Berkshire Hathaway Inc.  314000.000000\n",
      "2020-03-02 00:00:00-05:00      V                Visa Inc.     182.574772\n",
      "2020-03-02 00:00:00-05:00    JPM     JPMorgan Chase & Co.     105.496801\n",
      "2020-03-02 00:00:00-05:00     MA  Mastercard Incorporated     293.567523\n"
     ]
    }
   ],
   "source": [
    "#Financial Sector\n",
    "#request etflist ticker data from yfinance dated 3-2,2020\n",
    "tickers = ['BRK-B', 'BRK-A', 'V', 'JPM', 'MA']\n",
    "\n",
    "data = {}\n",
    "\n",
    "for ticker in tickers:\n",
    "    try:\n",
    "        stock = yf.Ticker(ticker)\n",
    "        hist2 = stock.history(period='4y')\n",
    "        data[ticker] = pd.DataFrame({'Symbol': [ticker],\n",
    "                                      'Name': [stock.info['longName']],\n",
    "                                      'Open': [hist2.iloc[-788]['Open']]},\n",
    "                                      index=[hist2.index[-788]])\n",
    "    except IndexError:\n",
    "        data[ticker] = pd.DataFrame({'Symbol': [ticker],\n",
    "                                      'Name': [None],\n",
    "                                      'Open': [None]},\n",
    "                                      index=[None])\n",
    "\n",
    "df62 = pd.concat(data.values())\n",
    "print(df62)"
   ]
  },
  {
   "cell_type": "code",
   "execution_count": 183,
   "id": "8228424e",
   "metadata": {},
   "outputs": [
    {
     "name": "stdout",
     "output_type": "stream",
     "text": [
      "                          Symbol                     Name           Open\n",
      "2020-05-01 00:00:00-04:00  BRK-B  Berkshire Hathaway Inc.     185.210007\n",
      "2020-05-01 00:00:00-04:00  BRK-A  Berkshire Hathaway Inc.  278121.000000\n",
      "2020-05-01 00:00:00-04:00      V                Visa Inc.     170.943396\n",
      "2020-05-01 00:00:00-04:00    JPM     JPMorgan Chase & Co.      85.453583\n",
      "2020-05-01 00:00:00-04:00     MA  Mastercard Incorporated     264.323283\n"
     ]
    }
   ],
   "source": [
    "#Financial Sector\n",
    "#request etflist ticker data from yfinance dated 5-1,2020\n",
    "tickers = ['BRK-B', 'BRK-A', 'V', 'JPM', 'MA']\n",
    "\n",
    "data = {}\n",
    "\n",
    "for ticker in tickers:\n",
    "    try:\n",
    "        stock = yf.Ticker(ticker)\n",
    "        hist3 = stock.history(period='4y')\n",
    "        data[ticker] = pd.DataFrame({'Symbol': [ticker],\n",
    "                                      'Name': [stock.info['longName']],\n",
    "                                      'Open': [hist3.iloc[-745]['Open']]},\n",
    "                                      index=[hist3.index[-745]])\n",
    "    except IndexError:\n",
    "        data[ticker] = pd.DataFrame({'Symbol': [ticker],\n",
    "                                      'Name': [None],\n",
    "                                      'Open': [None]},\n",
    "                                      index=[None])\n",
    "\n",
    "df63 = pd.concat(data.values())\n",
    "print(df63)"
   ]
  },
  {
   "cell_type": "code",
   "execution_count": 185,
   "id": "5fdf9bc7",
   "metadata": {},
   "outputs": [
    {
     "name": "stdout",
     "output_type": "stream",
     "text": [
      "                          Symbol                     Name           Open\n",
      "2020-07-01 00:00:00-04:00  BRK-B  Berkshire Hathaway Inc.     178.410004\n",
      "2020-07-01 00:00:00-04:00  BRK-A  Berkshire Hathaway Inc.  267600.000000\n",
      "2020-07-01 00:00:00-04:00      V                Visa Inc.     190.271458\n",
      "2020-07-01 00:00:00-04:00    JPM     JPMorgan Chase & Co.      86.723961\n",
      "2020-07-01 00:00:00-04:00     MA  Mastercard Incorporated     291.139186\n"
     ]
    }
   ],
   "source": [
    "#Financial Sector\n",
    "#request etflist ticker data from yfinance dated 7-1,2020\n",
    "tickers = ['BRK-B', 'BRK-A', 'V', 'JPM', 'MA']\n",
    "\n",
    "data = {}\n",
    "\n",
    "for ticker in tickers:\n",
    "    try:\n",
    "        stock = yf.Ticker(ticker)\n",
    "        hist4 = stock.history(period='4y')\n",
    "        data[ticker] = pd.DataFrame({'Symbol': [ticker],\n",
    "                                      'Name': [stock.info['longName']],\n",
    "                                      'Open': [hist4.iloc[-703]['Open']]},\n",
    "                                      index=[hist4.index[-703]])\n",
    "    except IndexError:\n",
    "        data[ticker] = pd.DataFrame({'Symbol': [ticker],\n",
    "                                      'Name': [None],\n",
    "                                      'Open': [None]},\n",
    "                                      index=[None])\n",
    "\n",
    "df64 = pd.concat(data.values())\n",
    "print(df64)"
   ]
  },
  {
   "cell_type": "code",
   "execution_count": 186,
   "id": "7f8e9c33",
   "metadata": {},
   "outputs": [
    {
     "name": "stdout",
     "output_type": "stream",
     "text": [
      "                          Symbol                     Name           Open\n",
      "2020-09-01 00:00:00-04:00  BRK-B  Berkshire Hathaway Inc.     216.919998\n",
      "2020-09-01 00:00:00-04:00  BRK-A  Berkshire Hathaway Inc.  325500.000000\n",
      "2020-09-01 00:00:00-04:00      V                Visa Inc.     208.607442\n",
      "2020-09-01 00:00:00-04:00    JPM     JPMorgan Chase & Co.      91.869525\n",
      "2020-09-01 00:00:00-04:00     MA  Mastercard Incorporated     352.353257\n"
     ]
    }
   ],
   "source": [
    "#Financial Sector\n",
    "#request etflist ticker data from yfinance dated 9-1,2020\n",
    "tickers = ['BRK-B', 'BRK-A', 'V', 'JPM', 'MA']\n",
    "\n",
    "data = {}\n",
    "\n",
    "for ticker in tickers:\n",
    "    try:\n",
    "        stock = yf.Ticker(ticker)\n",
    "        hist5 = stock.history(period='4y')\n",
    "        data[ticker] = pd.DataFrame({'Symbol': [ticker],\n",
    "                                      'Name': [stock.info['longName']],\n",
    "                                      'Open': [hist5.iloc[-660]['Open']]},\n",
    "                                      index=[hist5.index[-660]])\n",
    "    except IndexError:\n",
    "        data[ticker] = pd.DataFrame({'Symbol': [ticker],\n",
    "                                      'Name': [None],\n",
    "                                      'Open': [None]},\n",
    "                                      index=[None])\n",
    "\n",
    "df65 = pd.concat(data.values())\n",
    "print(df65)"
   ]
  },
  {
   "cell_type": "code",
   "execution_count": 187,
   "id": "ca0d7c3a",
   "metadata": {},
   "outputs": [
    {
     "name": "stdout",
     "output_type": "stream",
     "text": [
      "                          Symbol                     Name           Open\n",
      "2020-11-02 00:00:00-05:00  BRK-B  Berkshire Hathaway Inc.     204.839996\n",
      "2020-11-02 00:00:00-05:00  BRK-A  Berkshire Hathaway Inc.  307500.000000\n",
      "2020-11-02 00:00:00-05:00      V                Visa Inc.     181.377669\n",
      "2020-11-02 00:00:00-05:00    JPM     JPMorgan Chase & Co.      92.572971\n",
      "2020-11-02 00:00:00-05:00     MA  Mastercard Incorporated     290.171240\n"
     ]
    }
   ],
   "source": [
    "#Financial Sector\n",
    "#request etflist ticker data from yfinance dated 11-2,2020\n",
    "tickers = tickers = ['BRK-B', 'BRK-A', 'V', 'JPM', 'MA']\n",
    "\n",
    "data = {}\n",
    "\n",
    "for ticker in tickers:\n",
    "    try:\n",
    "        stock = yf.Ticker(ticker)\n",
    "        hist6 = stock.history(period='4y')\n",
    "        data[ticker] = pd.DataFrame({'Symbol': [ticker],\n",
    "                                      'Name': [stock.info['longName']],\n",
    "                                      'Open': [hist6.iloc[-617]['Open']]},\n",
    "                                      index=[hist6.index[-617]])\n",
    "    except IndexError:\n",
    "        data[ticker] = pd.DataFrame({'Symbol': [ticker],\n",
    "                                      'Name': [None],\n",
    "                                      'Open': [None]},\n",
    "                                      index=[None])\n",
    "\n",
    "df66 = pd.concat(data.values())\n",
    "print(df66)"
   ]
  },
  {
   "cell_type": "code",
   "execution_count": 188,
   "id": "363fa10a",
   "metadata": {},
   "outputs": [
    {
     "name": "stdout",
     "output_type": "stream",
     "text": [
      "                          Symbol                     Name           Open\n",
      "2021-01-04 00:00:00-05:00  BRK-B  Berkshire Hathaway Inc.     231.729996\n",
      "2021-01-04 00:00:00-05:00  BRK-A  Berkshire Hathaway Inc.  347825.000000\n",
      "2021-01-04 00:00:00-05:00      V                Visa Inc.     216.837164\n",
      "2021-01-04 00:00:00-05:00    JPM     JPMorgan Chase & Co.     118.754938\n",
      "2021-01-04 00:00:00-05:00     MA  Mastercard Incorporated     353.049598\n"
     ]
    }
   ],
   "source": [
    "#Financial Sector\n",
    "#request etflist ticker data from yfinance dated 1-4,2021\n",
    "tickers = ['BRK-B', 'BRK-A', 'V', 'JPM', 'MA']\n",
    "\n",
    "data = {}\n",
    "\n",
    "for ticker in tickers:\n",
    "    try:\n",
    "        stock = yf.Ticker(ticker)\n",
    "        hist7 = stock.history(period='4y')\n",
    "        data[ticker] = pd.DataFrame({'Symbol': [ticker],\n",
    "                                      'Name': [stock.info['longName']],\n",
    "                                      'Open': [hist7.iloc[-575]['Open']]},\n",
    "                                      index=[hist7.index[-575]])\n",
    "    except IndexError:\n",
    "        data[ticker] = pd.DataFrame({'Symbol': [ticker],\n",
    "                                      'Name': [None],\n",
    "                                      'Open': [None]},\n",
    "                                      index=[None])\n",
    "\n",
    "df67 = pd.concat(data.values())\n",
    "print(df67)"
   ]
  },
  {
   "cell_type": "code",
   "execution_count": 189,
   "id": "656cf453",
   "metadata": {},
   "outputs": [
    {
     "name": "stdout",
     "output_type": "stream",
     "text": [
      "                          Symbol                     Name       Open\n",
      "2021-03-01 00:00:00-05:00  BRK-B  Berkshire Hathaway Inc.  64.858601\n",
      "2021-03-01 00:00:00-05:00  BRK-A  Berkshire Hathaway Inc.  64.858601\n",
      "2021-03-01 00:00:00-05:00      V                Visa Inc.  64.858601\n",
      "2021-03-01 00:00:00-05:00    JPM     JPMorgan Chase & Co.  64.858601\n",
      "2021-03-01 00:00:00-05:00     MA  Mastercard Incorporated  64.858601\n"
     ]
    }
   ],
   "source": [
    "#Financial Sector\n",
    "#request etflist ticker data from yfinance dated 3-2021\n",
    "tickers = ['BRK-B', 'BRK-A', 'V', 'JPM', 'MA']\n",
    "\n",
    "data = {}\n",
    "\n",
    "for ticker in tickers:\n",
    "    try:\n",
    "        stock = yf.Ticker(ticker)\n",
    "        hist7 = stock.history(period='4y')\n",
    "        data[ticker] = pd.DataFrame({'Symbol': [ticker],\n",
    "                                      'Name': [stock.info['longName']],\n",
    "                                      'Open': [hist8.iloc[-537]['Open']]},\n",
    "                                      index=[hist8.index[-537]])\n",
    "    except IndexError:\n",
    "        data[ticker] = pd.DataFrame({'Symbol': [ticker],\n",
    "                                      'Name': [None],\n",
    "                                      'Open': [None]},\n",
    "                                      index=[None])\n",
    "\n",
    "df68 = pd.concat(data.values())\n",
    "print(df68)"
   ]
  },
  {
   "cell_type": "code",
   "execution_count": 191,
   "id": "5b8af495",
   "metadata": {},
   "outputs": [
    {
     "name": "stdout",
     "output_type": "stream",
     "text": [
      "                          Symbol                     Name           Open\n",
      "2021-05-03 00:00:00-04:00  BRK-B  Berkshire Hathaway Inc.     278.549988\n",
      "2021-05-03 00:00:00-04:00  BRK-A  Berkshire Hathaway Inc.  418962.000000\n",
      "2021-05-03 00:00:00-04:00      V                Visa Inc.     230.781066\n",
      "2021-05-03 00:00:00-04:00    JPM     JPMorgan Chase & Co.     146.123320\n",
      "2021-05-03 00:00:00-04:00     MA  Mastercard Incorporated     381.073437\n"
     ]
    }
   ],
   "source": [
    "#Financial Sector\n",
    "#request etflist ticker data from yfinance dated 5-3-2021\n",
    "tickers = ['BRK-B', 'BRK-A', 'V', 'JPM', 'MA']\n",
    "\n",
    "data = {}\n",
    "\n",
    "for ticker in tickers:\n",
    "    try:\n",
    "        stock = yf.Ticker(ticker)\n",
    "        hist9 = stock.history(period='4y')\n",
    "        data[ticker] = pd.DataFrame({'Symbol': [ticker],\n",
    "                                      'Name': [stock.info['longName']],\n",
    "                                      'Open': [hist9.iloc[-493]['Open']]},\n",
    "                                      index=[hist9.index[-493]])\n",
    "    except IndexError:\n",
    "        data[ticker] = pd.DataFrame({'Symbol': [ticker],\n",
    "                                      'Name': [None],\n",
    "                                      'Open': [None]},\n",
    "                                      index=[None])\n",
    "\n",
    "df69 = pd.concat(data.values())\n",
    "print(df69)"
   ]
  },
  {
   "cell_type": "code",
   "execution_count": 192,
   "id": "5da6e488",
   "metadata": {},
   "outputs": [
    {
     "name": "stdout",
     "output_type": "stream",
     "text": [
      "                          Symbol                     Name           Open\n",
      "2021-07-01 00:00:00-04:00  BRK-B  Berkshire Hathaway Inc.     278.200012\n",
      "2021-07-01 00:00:00-04:00  BRK-A  Berkshire Hathaway Inc.  418708.000000\n",
      "2021-07-01 00:00:00-04:00      V                Visa Inc.     231.264395\n",
      "2021-07-01 00:00:00-04:00    JPM     JPMorgan Chase & Co.     147.453866\n",
      "2021-07-01 00:00:00-04:00     MA  Mastercard Incorporated     361.874898\n"
     ]
    }
   ],
   "source": [
    "#Financial Sector\n",
    "#request etflist ticker data from yfinance dated 7-1-2021\n",
    "tickers = ['BRK-B', 'BRK-A', 'V', 'JPM', 'MA']\n",
    "\n",
    "data = {}\n",
    "\n",
    "for ticker in tickers:\n",
    "    try:\n",
    "        stock = yf.Ticker(ticker)\n",
    "        hist10 = stock.history(period='4y')\n",
    "        data[ticker] = pd.DataFrame({'Symbol': [ticker],\n",
    "                                      'Name': [stock.info['longName']],\n",
    "                                      'Open': [hist10.iloc[-451]['Open']]},\n",
    "                                      index=[hist10.index[-451]])\n",
    "    except IndexError:\n",
    "        data[ticker] = pd.DataFrame({'Symbol': [ticker],\n",
    "                                      'Name': [None],\n",
    "                                      'Open': [None]},\n",
    "                                      index=[None])\n",
    "\n",
    "df70 = pd.concat(data.values())\n",
    "print(df70)"
   ]
  },
  {
   "cell_type": "code",
   "execution_count": 193,
   "id": "b706792a",
   "metadata": {},
   "outputs": [
    {
     "name": "stdout",
     "output_type": "stream",
     "text": [
      "                          Symbol                     Name           Open\n",
      "2021-09-01 00:00:00-04:00  BRK-B  Berkshire Hathaway Inc.     286.589996\n",
      "2021-09-01 00:00:00-04:00  BRK-A  Berkshire Hathaway Inc.  431181.000000\n",
      "2021-09-01 00:00:00-04:00      V                Visa Inc.     226.536711\n",
      "2021-09-01 00:00:00-04:00    JPM     JPMorgan Chase & Co.     152.061943\n",
      "2021-09-01 00:00:00-04:00     MA  Mastercard Incorporated     343.822446\n"
     ]
    }
   ],
   "source": [
    "#Financial Sector\n",
    "#request etflist ticker data from yfinance dated 9-1-2021\n",
    "tickers = ['BRK-B', 'BRK-A', 'V', 'JPM', 'MA']\n",
    "\n",
    "data = {}\n",
    "\n",
    "for ticker in tickers:\n",
    "    try:\n",
    "        stock = yf.Ticker(ticker)\n",
    "        hist11 = stock.history(period='4y')\n",
    "        data[ticker] = pd.DataFrame({'Symbol': [ticker],\n",
    "                                      'Name': [stock.info['longName']],\n",
    "                                      'Open': [hist11.iloc[-408]['Open']]},\n",
    "                                      index=[hist11.index[-408]])\n",
    "    except IndexError:\n",
    "        data[ticker] = pd.DataFrame({'Symbol': [ticker],\n",
    "                                      'Name': [None],\n",
    "                                      'Open': [None]},\n",
    "                                      index=[None])\n",
    "\n",
    "df71 = pd.concat(data.values())\n",
    "print(df71)"
   ]
  },
  {
   "cell_type": "code",
   "execution_count": 194,
   "id": "32b3ca91",
   "metadata": {},
   "outputs": [
    {
     "name": "stdout",
     "output_type": "stream",
     "text": [
      "                          Symbol                     Name           Open\n",
      "2021-11-01 00:00:00-04:00  BRK-B  Berkshire Hathaway Inc.     288.049988\n",
      "2021-11-01 00:00:00-04:00  BRK-A  Berkshire Hathaway Inc.  434513.000000\n",
      "2021-11-01 00:00:00-04:00      V                Visa Inc.     211.101376\n",
      "2021-11-01 00:00:00-04:00    JPM     JPMorgan Chase & Co.     164.264005\n",
      "2021-11-01 00:00:00-04:00     MA  Mastercard Incorporated     332.235946\n"
     ]
    }
   ],
   "source": [
    "#Financial Sector\n",
    "#request etflist ticker data from yfinance dated 11-1-1021\n",
    "tickers = ['BRK-B', 'BRK-A', 'V', 'JPM', 'MA']\n",
    "\n",
    "data = {}\n",
    "\n",
    "for ticker in tickers:\n",
    "    try:\n",
    "        stock = yf.Ticker(ticker)\n",
    "        hist12 = stock.history(period='4y')\n",
    "        data[ticker] = pd.DataFrame({'Symbol': [ticker],\n",
    "                                      'Name': [stock.info['longName']],\n",
    "                                      'Open': [hist12.iloc[-366]['Open']]},\n",
    "                                      index=[hist12.index[-366]])\n",
    "    except IndexError:\n",
    "        data[ticker] = pd.DataFrame({'Symbol': [ticker],\n",
    "                                      'Name': [None],\n",
    "                                      'Open': [None]},\n",
    "                                      index=[None])\n",
    "\n",
    "df72 = pd.concat(data.values())\n",
    "print(df72)"
   ]
  },
  {
   "cell_type": "code",
   "execution_count": 195,
   "id": "5eed24c6",
   "metadata": {},
   "outputs": [
    {
     "name": "stdout",
     "output_type": "stream",
     "text": [
      "                          Symbol                     Name           Open\n",
      "2022-01-03 00:00:00-05:00  BRK-B  Berkshire Hathaway Inc.     300.100006\n",
      "2022-01-03 00:00:00-05:00  BRK-A  Berkshire Hathaway Inc.  452005.000000\n",
      "2022-01-03 00:00:00-05:00      V                Visa Inc.     215.464919\n",
      "2022-01-03 00:00:00-05:00    JPM     JPMorgan Chase & Co.     152.634527\n",
      "2022-01-03 00:00:00-05:00     MA  Mastercard Incorporated     356.555320\n"
     ]
    }
   ],
   "source": [
    "#Financial Sector\n",
    "#request etflist ticker data from yfinance dated 1-3-2022\n",
    "tickers = ['BRK-B', 'BRK-A', 'V', 'JPM', 'MA']\n",
    "\n",
    "data = {}\n",
    "\n",
    "for ticker in tickers:\n",
    "    try:\n",
    "        stock = yf.Ticker(ticker)\n",
    "        hist13 = stock.history(period='4y')\n",
    "        data[ticker] = pd.DataFrame({'Symbol': [ticker],\n",
    "                                      'Name': [stock.info['longName']],\n",
    "                                      'Open': [hist13.iloc[-323]['Open']]},\n",
    "                                      index=[hist13.index[-323]])\n",
    "    except IndexError:\n",
    "        data[ticker] = pd.DataFrame({'Symbol': [ticker],\n",
    "                                      'Name': [None],\n",
    "                                      'Open': [None]},\n",
    "                                      index=[None])\n",
    "\n",
    "df73 = pd.concat(data.values())\n",
    "print(df73)"
   ]
  },
  {
   "cell_type": "code",
   "execution_count": 196,
   "id": "ba40f33e",
   "metadata": {},
   "outputs": [
    {
     "name": "stdout",
     "output_type": "stream",
     "text": [
      "                          Symbol                     Name           Open\n",
      "2022-03-01 00:00:00-05:00  BRK-B  Berkshire Hathaway Inc.     320.260010\n",
      "2022-03-01 00:00:00-05:00  BRK-A  Berkshire Hathaway Inc.  482000.000000\n",
      "2022-03-01 00:00:00-05:00      V                Visa Inc.     212.799275\n",
      "2022-03-01 00:00:00-05:00    JPM     JPMorgan Chase & Co.     134.511832\n",
      "2022-03-01 00:00:00-05:00     MA  Mastercard Incorporated     355.098175\n"
     ]
    }
   ],
   "source": [
    "#Financial Sector\n",
    "#request etflist ticker data from yfinance dated 3-1-2022\n",
    "tickers = ['BRK-B', 'BRK-A', 'V', 'JPM', 'MA']\n",
    "\n",
    "data = {}\n",
    "\n",
    "for ticker in tickers:\n",
    "    try:\n",
    "        stock = yf.Ticker(ticker)\n",
    "        hist14 = stock.history(period='4y')\n",
    "        data[ticker] = pd.DataFrame({'Symbol': [ticker],\n",
    "                                      'Name': [stock.info['longName']],\n",
    "                                      'Open': [hist14.iloc[-284]['Open']]},\n",
    "                                      index=[hist14.index[-284]])\n",
    "    except IndexError:\n",
    "        data[ticker] = pd.DataFrame({'Symbol': [ticker],\n",
    "                                      'Name': [None],\n",
    "                                      'Open': [None]},\n",
    "                                      index=[None])\n",
    "\n",
    "df74 = pd.concat(data.values())\n",
    "print(df74)"
   ]
  },
  {
   "cell_type": "code",
   "execution_count": 197,
   "id": "727d8785",
   "metadata": {},
   "outputs": [
    {
     "name": "stdout",
     "output_type": "stream",
     "text": [
      "                          Symbol                     Name           Open\n",
      "2022-05-02 00:00:00-04:00  BRK-B  Berkshire Hathaway Inc.     324.109985\n",
      "2022-05-02 00:00:00-04:00  BRK-A  Berkshire Hathaway Inc.  485921.000000\n",
      "2022-05-02 00:00:00-04:00      V                Visa Inc.     210.110531\n",
      "2022-05-02 00:00:00-04:00    JPM     JPMorgan Chase & Co.     116.001193\n",
      "2022-05-02 00:00:00-04:00     MA  Mastercard Incorporated     360.708430\n"
     ]
    }
   ],
   "source": [
    "#Financial Sector\n",
    "#request etflist ticker data from yfinance dated 5-2-2022\n",
    "tickers = ['BRK-B', 'BRK-A', 'V', 'JPM', 'MA']\n",
    "\n",
    "data = {}\n",
    "\n",
    "for ticker in tickers:\n",
    "    try:\n",
    "        stock = yf.Ticker(ticker)\n",
    "        hist15 = stock.history(period='4y')\n",
    "        data[ticker] = pd.DataFrame({'Symbol': [ticker],\n",
    "                                      'Name': [stock.info['longName']],\n",
    "                                      'Open': [hist15.iloc[-241]['Open']]},\n",
    "                                      index=[hist15.index[-241]])\n",
    "    except IndexError:\n",
    "        data[ticker] = pd.DataFrame({'Symbol': [ticker],\n",
    "                                      'Name': [None],\n",
    "                                      'Open': [None]},\n",
    "                                      index=[None])\n",
    "\n",
    "df75 = pd.concat(data.values())\n",
    "print(df75)"
   ]
  },
  {
   "cell_type": "code",
   "execution_count": 198,
   "id": "73650688",
   "metadata": {},
   "outputs": [
    {
     "name": "stdout",
     "output_type": "stream",
     "text": [
      "                          Symbol                     Name           Open\n",
      "2022-07-01 00:00:00-04:00  BRK-B  Berkshire Hathaway Inc.     272.500000\n",
      "2022-07-01 00:00:00-04:00  BRK-A  Berkshire Hathaway Inc.  407700.000000\n",
      "2022-07-01 00:00:00-04:00      V                Visa Inc.     195.620813\n",
      "2022-07-01 00:00:00-04:00    JPM     JPMorgan Chase & Co.     109.005122\n",
      "2022-07-01 00:00:00-04:00     MA  Mastercard Incorporated     312.117139\n"
     ]
    }
   ],
   "source": [
    "#Financial Sector\n",
    "#request etflist ticker data from yfinance dated 7-1-2022\n",
    "tickers = ['BRK-B', 'BRK-A', 'V', 'JPM', 'MA']\n",
    "\n",
    "data = {}\n",
    "\n",
    "for ticker in tickers:\n",
    "    try:\n",
    "        stock = yf.Ticker(ticker)\n",
    "        hist16 = stock.history(period='4y')\n",
    "        data[ticker] = pd.DataFrame({'Symbol': [ticker],\n",
    "                                      'Name': [stock.info['longName']],\n",
    "                                      'Open': [hist16.iloc[-199]['Open']]},\n",
    "                                      index=[hist16.index[-199]])\n",
    "    except IndexError:\n",
    "        data[ticker] = pd.DataFrame({'Symbol': [ticker],\n",
    "                                      'Name': [None],\n",
    "                                      'Open': [None]},\n",
    "                                      index=[None])\n",
    "\n",
    "df76 = pd.concat(data.values())\n",
    "print(df76)"
   ]
  },
  {
   "cell_type": "code",
   "execution_count": 199,
   "id": "61ebecc6",
   "metadata": {},
   "outputs": [
    {
     "name": "stdout",
     "output_type": "stream",
     "text": [
      "                          Symbol                     Name           Open\n",
      "2022-09-01 00:00:00-04:00  BRK-B  Berkshire Hathaway Inc.     279.950012\n",
      "2022-09-01 00:00:00-04:00  BRK-A  Berkshire Hathaway Inc.  421000.000000\n",
      "2022-09-01 00:00:00-04:00      V                Visa Inc.     197.889226\n",
      "2022-09-01 00:00:00-04:00    JPM     JPMorgan Chase & Co.     110.594110\n",
      "2022-09-01 00:00:00-04:00     MA  Mastercard Incorporated     322.259033\n"
     ]
    }
   ],
   "source": [
    "#Financial Sector\n",
    "#request etflist ticker data from yfinance dated 9-1-2022\n",
    "tickers = ['BRK-B', 'BRK-A', 'V', 'JPM', 'MA']\n",
    "\n",
    "data = {}\n",
    "\n",
    "for ticker in tickers:\n",
    "    try:\n",
    "        stock = yf.Ticker(ticker)\n",
    "        hist17 = stock.history(period='4y')\n",
    "        data[ticker] = pd.DataFrame({'Symbol': [ticker],\n",
    "                                      'Name': [stock.info['longName']],\n",
    "                                      'Open': [hist17.iloc[-156]['Open']]},\n",
    "                                      index=[hist17.index[-156]])\n",
    "    except IndexError:\n",
    "        data[ticker] = pd.DataFrame({'Symbol': [ticker],\n",
    "                                      'Name': [None],\n",
    "                                      'Open': [None]},\n",
    "                                      index=[None])\n",
    "\n",
    "df77= pd.concat(data.values())\n",
    "print(df77)"
   ]
  },
  {
   "cell_type": "code",
   "execution_count": 200,
   "id": "f5c3f129",
   "metadata": {},
   "outputs": [
    {
     "name": "stdout",
     "output_type": "stream",
     "text": [
      "                          Symbol                     Name           Open\n",
      "2022-11-01 00:00:00-04:00  BRK-B  Berkshire Hathaway Inc.     298.450012\n",
      "2022-11-01 00:00:00-04:00  BRK-A  Berkshire Hathaway Inc.  450141.000000\n",
      "2022-11-01 00:00:00-04:00      V                Visa Inc.     208.036629\n",
      "2022-11-01 00:00:00-04:00    JPM     JPMorgan Chase & Co.     124.959053\n",
      "2022-11-01 00:00:00-04:00     MA  Mastercard Incorporated     331.162177\n"
     ]
    }
   ],
   "source": [
    "#Financial Sector\n",
    "#request etflist ticker data from yfinance dated 11-1-2022\n",
    "tickers = ['BRK-B', 'BRK-A', 'V', 'JPM', 'MA']\n",
    "\n",
    "data = {}\n",
    "\n",
    "for ticker in tickers:\n",
    "    try:\n",
    "        stock = yf.Ticker(ticker)\n",
    "        hist18 = stock.history(period='4y')\n",
    "        data[ticker] = pd.DataFrame({'Symbol': [ticker],\n",
    "                                      'Name': [stock.info['longName']],\n",
    "                                      'Open': [hist18.iloc[-114]['Open']]},\n",
    "                                      index=[hist18.index[-114]])\n",
    "    except IndexError:\n",
    "        data[ticker] = pd.DataFrame({'Symbol': [ticker],\n",
    "                                      'Name': [None],\n",
    "                                      'Open': [None]},\n",
    "                                      index=[None])\n",
    "\n",
    "df78 = pd.concat(data.values())\n",
    "print(df78)"
   ]
  },
  {
   "cell_type": "code",
   "execution_count": 203,
   "id": "76f54743",
   "metadata": {},
   "outputs": [
    {
     "name": "stdout",
     "output_type": "stream",
     "text": [
      "                          Symbol                     Name           Open\n",
      "2023-01-03 00:00:00-05:00  BRK-B  Berkshire Hathaway Inc.     310.070007\n",
      "2023-01-03 00:00:00-05:00  BRK-A  Berkshire Hathaway Inc.  472950.000000\n",
      "2023-01-03 00:00:00-05:00      V                Visa Inc.     208.870893\n",
      "2023-01-03 00:00:00-05:00    JPM     JPMorgan Chase & Co.     133.202996\n",
      "2023-01-03 00:00:00-05:00     MA  Mastercard Incorporated     348.845651\n"
     ]
    }
   ],
   "source": [
    "#Financial Sector\n",
    "#request etflist ticker data from yfinance dated 1-3-2023\n",
    "tickers = ['BRK-B', 'BRK-A', 'V', 'JPM', 'MA']\n",
    "\n",
    "data = {}\n",
    "\n",
    "for ticker in tickers:\n",
    "    try:\n",
    "        stock = yf.Ticker(ticker)\n",
    "        hist19 = stock.history(period='4y')\n",
    "        data[ticker] = pd.DataFrame({'Symbol': [ticker],\n",
    "                                      'Name': [stock.info['longName']],\n",
    "                                      'Open': [hist19.iloc[-72]['Open']]},\n",
    "                                      index=[hist19.index[-72]])\n",
    "    except IndexError:\n",
    "        data[ticker] = pd.DataFrame({'Symbol': [ticker],\n",
    "                                      'Name': [None],\n",
    "                                      'Open': [None]},\n",
    "                                      index=[None])\n",
    "\n",
    "df79 = pd.concat(data.values())\n",
    "print(df79)"
   ]
  },
  {
   "cell_type": "code",
   "execution_count": 201,
   "id": "e77cbc50",
   "metadata": {},
   "outputs": [
    {
     "name": "stdout",
     "output_type": "stream",
     "text": [
      "                          Symbol                     Name           Open\n",
      "2023-03-01 00:00:00-05:00  BRK-B  Berkshire Hathaway Inc.     304.019989\n",
      "2023-03-01 00:00:00-05:00  BRK-A  Berkshire Hathaway Inc.  460829.000000\n",
      "2023-03-01 00:00:00-05:00      V                Visa Inc.     219.460007\n",
      "2023-03-01 00:00:00-05:00    JPM     JPMorgan Chase & Co.     140.993479\n",
      "2023-03-01 00:00:00-05:00     MA  Mastercard Incorporated     353.445506\n"
     ]
    }
   ],
   "source": [
    "#Financial Sector\n",
    "#request etflist ticker data from yfinance dated 3-1-2023\n",
    "tickers = ['BRK-B', 'BRK-A', 'V', 'JPM', 'MA']\n",
    "\n",
    "data = {}\n",
    "\n",
    "for ticker in tickers:\n",
    "    try:\n",
    "        stock = yf.Ticker(ticker)\n",
    "        hist20 = stock.history(period='4y')\n",
    "        data[ticker] = pd.DataFrame({'Symbol': [ticker],\n",
    "                                      'Name': [stock.info['longName']],\n",
    "                                      'Open': [hist20.iloc[-33]['Open']]},\n",
    "                                      index=[hist20.index[-33]])\n",
    "    except IndexError:\n",
    "        data[ticker] = pd.DataFrame({'Symbol': [ticker],\n",
    "                                      'Name': [None],\n",
    "                                      'Open': [None]},\n",
    "                                      index=[None])\n",
    "\n",
    "df80 = pd.concat(data.values())\n",
    "print(df80)"
   ]
  },
  {
   "cell_type": "code",
   "execution_count": null,
   "id": "d2865d63",
   "metadata": {},
   "outputs": [],
   "source": []
  },
  {
   "cell_type": "code",
   "execution_count": null,
   "id": "9c8bdb53",
   "metadata": {},
   "outputs": [],
   "source": [
    "#Energy Sector\n",
    "xom\n",
    "\tcvx\n",
    "\tshel\n",
    "\ttte\n",
    "\tcop"
   ]
  },
  {
   "cell_type": "code",
   "execution_count": 204,
   "id": "346febd2",
   "metadata": {},
   "outputs": [
    {
     "name": "stdout",
     "output_type": "stream",
     "text": [
      "                          Symbol                     Name        Open\n",
      "2020-01-03 00:00:00-05:00    XOM  Exxon Mobil Corporation   59.405071\n",
      "2020-01-03 00:00:00-05:00    CVX      Chevron Corporation  104.776024\n",
      "2020-01-03 00:00:00-05:00   SHEL                Shell plc   52.890482\n",
      "2020-01-03 00:00:00-05:00    TTE         TotalEnergies SE   43.872675\n",
      "2020-01-03 00:00:00-05:00    COP           ConocoPhillips   58.734003\n"
     ]
    }
   ],
   "source": [
    "#Energy Sector\n",
    "#request etflist ticker data from yfinance dated 1-3,2020\n",
    "tickers = ['XOM', 'CVX', 'SHEL', 'TTE', 'COP']\n",
    "\n",
    "data = {}\n",
    "\n",
    "for ticker in tickers:\n",
    "    try:\n",
    "        stock = yf.Ticker(ticker)\n",
    "        hist1 = stock.history(period='4y')\n",
    "        data[ticker] = pd.DataFrame({'Symbol': [ticker],\n",
    "                                      'Name': [stock.info['longName']],\n",
    "                                      'Open': [hist1.iloc[-827]['Open']]},\n",
    "                                      index=[hist1.index[-827]])\n",
    "    except IndexError:\n",
    "        data[ticker] = pd.DataFrame({'Symbol': [ticker],\n",
    "                                      'Name': [None],\n",
    "                                      'Open': [None]},\n",
    "                                      index=[None])\n",
    "\n",
    "df81 = pd.concat(data.values())\n",
    "print(df81)"
   ]
  },
  {
   "cell_type": "code",
   "execution_count": 205,
   "id": "f308d802",
   "metadata": {},
   "outputs": [
    {
     "name": "stdout",
     "output_type": "stream",
     "text": [
      "                          Symbol                     Name       Open\n",
      "2020-03-02 00:00:00-05:00    XOM  Exxon Mobil Corporation  44.420579\n",
      "2020-03-02 00:00:00-05:00    CVX      Chevron Corporation  81.837579\n",
      "2020-03-02 00:00:00-05:00   SHEL                Shell plc  39.624527\n",
      "2020-03-02 00:00:00-05:00    TTE         TotalEnergies SE  34.347220\n",
      "2020-03-02 00:00:00-05:00    COP           ConocoPhillips  43.515275\n"
     ]
    }
   ],
   "source": [
    "#Energy Sector\n",
    "#request etflist ticker data from yfinance dated 3-2,2020\n",
    "tickers = ['XOM', 'CVX', 'SHEL', 'TTE', 'COP']\n",
    "\n",
    "data = {}\n",
    "\n",
    "for ticker in tickers:\n",
    "    try:\n",
    "        stock = yf.Ticker(ticker)\n",
    "        hist2 = stock.history(period='4y')\n",
    "        data[ticker] = pd.DataFrame({'Symbol': [ticker],\n",
    "                                      'Name': [stock.info['longName']],\n",
    "                                      'Open': [hist2.iloc[-788]['Open']]},\n",
    "                                      index=[hist2.index[-788]])\n",
    "    except IndexError:\n",
    "        data[ticker] = pd.DataFrame({'Symbol': [ticker],\n",
    "                                      'Name': [None],\n",
    "                                      'Open': [None]},\n",
    "                                      index=[None])\n",
    "\n",
    "df82 = pd.concat(data.values())\n",
    "print(df82)"
   ]
  },
  {
   "cell_type": "code",
   "execution_count": 206,
   "id": "25450992",
   "metadata": {},
   "outputs": [
    {
     "name": "stdout",
     "output_type": "stream",
     "text": [
      "                          Symbol                     Name       Open\n",
      "2020-05-01 00:00:00-04:00    XOM  Exxon Mobil Corporation  38.541753\n",
      "2020-05-01 00:00:00-04:00    CVX      Chevron Corporation  79.652805\n",
      "2020-05-01 00:00:00-04:00   SHEL                Shell plc  28.643691\n",
      "2020-05-01 00:00:00-04:00    TTE         TotalEnergies SE  27.739151\n",
      "2020-05-01 00:00:00-04:00    COP           ConocoPhillips  35.768633\n"
     ]
    }
   ],
   "source": [
    "#Energy Sector\n",
    "#request etflist ticker data from yfinance dated 5-1,2020\n",
    "tickers = ['XOM', 'CVX', 'SHEL', 'TTE', 'COP']\n",
    "\n",
    "data = {}\n",
    "\n",
    "for ticker in tickers:\n",
    "    try:\n",
    "        stock = yf.Ticker(ticker)\n",
    "        hist3 = stock.history(period='4y')\n",
    "        data[ticker] = pd.DataFrame({'Symbol': [ticker],\n",
    "                                      'Name': [stock.info['longName']],\n",
    "                                      'Open': [hist3.iloc[-745]['Open']]},\n",
    "                                      index=[hist3.index[-745]])\n",
    "    except IndexError:\n",
    "        data[ticker] = pd.DataFrame({'Symbol': [ticker],\n",
    "                                      'Name': [None],\n",
    "                                      'Open': [None]},\n",
    "                                      index=[None])\n",
    "\n",
    "df83 = pd.concat(data.values())\n",
    "print(df83)"
   ]
  },
  {
   "cell_type": "code",
   "execution_count": 207,
   "id": "65f14b2b",
   "metadata": {},
   "outputs": [
    {
     "name": "stdout",
     "output_type": "stream",
     "text": [
      "                          Symbol                     Name       Open\n",
      "2020-07-01 00:00:00-04:00    XOM  Exxon Mobil Corporation  38.307478\n",
      "2020-07-01 00:00:00-04:00    CVX      Chevron Corporation  78.852631\n",
      "2020-07-01 00:00:00-04:00   SHEL                Shell plc  29.823503\n",
      "2020-07-01 00:00:00-04:00    TTE         TotalEnergies SE  31.637699\n",
      "2020-07-01 00:00:00-04:00    COP           ConocoPhillips  37.739259\n"
     ]
    }
   ],
   "source": [
    "#Energy Sector\n",
    "#request etflist ticker data from yfinance dated 7-1,2020\n",
    "tickers = ['XOM', 'CVX', 'SHEL', 'TTE', 'COP']\n",
    "\n",
    "data = {}\n",
    "\n",
    "for ticker in tickers:\n",
    "    try:\n",
    "        stock = yf.Ticker(ticker)\n",
    "        hist4 = stock.history(period='4y')\n",
    "        data[ticker] = pd.DataFrame({'Symbol': [ticker],\n",
    "                                      'Name': [stock.info['longName']],\n",
    "                                      'Open': [hist4.iloc[-703]['Open']]},\n",
    "                                      index=[hist4.index[-703]])\n",
    "    except IndexError:\n",
    "        data[ticker] = pd.DataFrame({'Symbol': [ticker],\n",
    "                                      'Name': [None],\n",
    "                                      'Open': [None]},\n",
    "                                      index=[None])\n",
    "\n",
    "df84 = pd.concat(data.values())\n",
    "print(df84)"
   ]
  },
  {
   "cell_type": "code",
   "execution_count": 208,
   "id": "a0663fea",
   "metadata": {},
   "outputs": [
    {
     "name": "stdout",
     "output_type": "stream",
     "text": [
      "                          Symbol                     Name       Open\n",
      "2020-09-01 00:00:00-04:00    XOM  Exxon Mobil Corporation  34.901374\n",
      "2020-09-01 00:00:00-04:00    CVX      Chevron Corporation  74.595870\n",
      "2020-09-01 00:00:00-04:00   SHEL                Shell plc  26.794872\n",
      "2020-09-01 00:00:00-04:00    TTE         TotalEnergies SE  32.572360\n",
      "2020-09-01 00:00:00-04:00    COP           ConocoPhillips  33.686181\n"
     ]
    }
   ],
   "source": [
    "#Energy Sector\n",
    "#request etflist ticker data from yfinance dated 9-1,2020\n",
    "tickers = ['XOM', 'CVX', 'SHEL', 'TTE', 'COP']\n",
    "\n",
    "data = {}\n",
    "\n",
    "for ticker in tickers:\n",
    "    try:\n",
    "        stock = yf.Ticker(ticker)\n",
    "        hist5 = stock.history(period='4y')\n",
    "        data[ticker] = pd.DataFrame({'Symbol': [ticker],\n",
    "                                      'Name': [stock.info['longName']],\n",
    "                                      'Open': [hist5.iloc[-660]['Open']]},\n",
    "                                      index=[hist5.index[-660]])\n",
    "    except IndexError:\n",
    "        data[ticker] = pd.DataFrame({'Symbol': [ticker],\n",
    "                                      'Name': [None],\n",
    "                                      'Open': [None]},\n",
    "                                      index=[None])\n",
    "\n",
    "df85 = pd.concat(data.values())\n",
    "print(df85)"
   ]
  },
  {
   "cell_type": "code",
   "execution_count": 209,
   "id": "ba152a2f",
   "metadata": {},
   "outputs": [
    {
     "name": "stdout",
     "output_type": "stream",
     "text": [
      "                          Symbol                     Name       Open\n",
      "2020-11-02 00:00:00-05:00    XOM  Exxon Mobil Corporation  29.097652\n",
      "2020-11-02 00:00:00-05:00    CVX      Chevron Corporation  63.342860\n",
      "2020-11-02 00:00:00-05:00   SHEL                Shell plc  24.161264\n",
      "2020-11-02 00:00:00-05:00    TTE         TotalEnergies SE  26.533846\n",
      "2020-11-02 00:00:00-05:00    COP           ConocoPhillips  26.810098\n"
     ]
    }
   ],
   "source": [
    "#Energy Sector\n",
    "#request etflist ticker data from yfinance dated 11-2,2020\n",
    "tickers = tickers = ['XOM', 'CVX', 'SHEL', 'TTE', 'COP']\n",
    "\n",
    "data = {}\n",
    "\n",
    "for ticker in tickers:\n",
    "    try:\n",
    "        stock = yf.Ticker(ticker)\n",
    "        hist6 = stock.history(period='4y')\n",
    "        data[ticker] = pd.DataFrame({'Symbol': [ticker],\n",
    "                                      'Name': [stock.info['longName']],\n",
    "                                      'Open': [hist6.iloc[-617]['Open']]},\n",
    "                                      index=[hist6.index[-617]])\n",
    "    except IndexError:\n",
    "        data[ticker] = pd.DataFrame({'Symbol': [ticker],\n",
    "                                      'Name': [None],\n",
    "                                      'Open': [None]},\n",
    "                                      index=[None])\n",
    "\n",
    "df86 = pd.concat(data.values())\n",
    "print(df86)"
   ]
  },
  {
   "cell_type": "code",
   "execution_count": 210,
   "id": "32c807bb",
   "metadata": {},
   "outputs": [
    {
     "name": "stdout",
     "output_type": "stream",
     "text": [
      "                          Symbol                     Name       Open\n",
      "2021-01-04 00:00:00-05:00    XOM  Exxon Mobil Corporation  37.272076\n",
      "2021-01-04 00:00:00-05:00    CVX      Chevron Corporation  77.411727\n",
      "2021-01-04 00:00:00-05:00   SHEL                Shell plc  33.620843\n",
      "2021-01-04 00:00:00-05:00    TTE         TotalEnergies SE  37.091242\n",
      "2021-01-04 00:00:00-05:00    COP           ConocoPhillips  36.907172\n"
     ]
    }
   ],
   "source": [
    "#Energy Sector\n",
    "#request etflist ticker data from yfinance dated 1-4,2021\n",
    "tickers = ['XOM', 'CVX', 'SHEL', 'TTE', 'COP']\n",
    "\n",
    "data = {}\n",
    "\n",
    "for ticker in tickers:\n",
    "    try:\n",
    "        stock = yf.Ticker(ticker)\n",
    "        hist7 = stock.history(period='4y')\n",
    "        data[ticker] = pd.DataFrame({'Symbol': [ticker],\n",
    "                                      'Name': [stock.info['longName']],\n",
    "                                      'Open': [hist7.iloc[-575]['Open']]},\n",
    "                                      index=[hist7.index[-575]])\n",
    "    except IndexError:\n",
    "        data[ticker] = pd.DataFrame({'Symbol': [ticker],\n",
    "                                      'Name': [None],\n",
    "                                      'Open': [None]},\n",
    "                                      index=[None])\n",
    "\n",
    "df87 = pd.concat(data.values())\n",
    "print(df87)"
   ]
  },
  {
   "cell_type": "code",
   "execution_count": 211,
   "id": "8647a8a8",
   "metadata": {},
   "outputs": [
    {
     "name": "stdout",
     "output_type": "stream",
     "text": [
      "                          Symbol                     Name       Open\n",
      "2021-03-01 00:00:00-05:00    XOM  Exxon Mobil Corporation  64.858601\n",
      "2021-03-01 00:00:00-05:00    CVX      Chevron Corporation  64.858601\n",
      "2021-03-01 00:00:00-05:00   SHEL                Shell plc  64.858601\n",
      "2021-03-01 00:00:00-05:00    TTE         TotalEnergies SE  64.858601\n",
      "2021-03-01 00:00:00-05:00    COP           ConocoPhillips  64.858601\n"
     ]
    }
   ],
   "source": [
    "#Energy Sector\n",
    "#request etflist ticker data from yfinance dated 3-2021\n",
    "tickers = ['XOM', 'CVX', 'SHEL', 'TTE', 'COP']\n",
    "\n",
    "data = {}\n",
    "\n",
    "for ticker in tickers:\n",
    "    try:\n",
    "        stock = yf.Ticker(ticker)\n",
    "        hist7 = stock.history(period='4y')\n",
    "        data[ticker] = pd.DataFrame({'Symbol': [ticker],\n",
    "                                      'Name': [stock.info['longName']],\n",
    "                                      'Open': [hist8.iloc[-537]['Open']]},\n",
    "                                      index=[hist8.index[-537]])\n",
    "    except IndexError:\n",
    "        data[ticker] = pd.DataFrame({'Symbol': [ticker],\n",
    "                                      'Name': [None],\n",
    "                                      'Open': [None]},\n",
    "                                      index=[None])\n",
    "\n",
    "df88 = pd.concat(data.values())\n",
    "print(df88)"
   ]
  },
  {
   "cell_type": "code",
   "execution_count": 212,
   "id": "44da97a0",
   "metadata": {},
   "outputs": [
    {
     "name": "stdout",
     "output_type": "stream",
     "text": [
      "                          Symbol                     Name       Open\n",
      "2021-05-03 00:00:00-04:00    XOM  Exxon Mobil Corporation  53.021333\n",
      "2021-05-03 00:00:00-04:00    CVX      Chevron Corporation  95.866723\n",
      "2021-05-03 00:00:00-04:00   SHEL                Shell plc  35.573079\n",
      "2021-05-03 00:00:00-04:00    TTE         TotalEnergies SE  39.194172\n",
      "2021-05-03 00:00:00-04:00    COP           ConocoPhillips  47.748613\n"
     ]
    }
   ],
   "source": [
    "#Energy Sector\n",
    "#request etflist ticker data from yfinance dated 5-3-2021\n",
    "tickers = ['XOM', 'CVX', 'SHEL', 'TTE', 'COP']\n",
    "\n",
    "data = {}\n",
    "\n",
    "for ticker in tickers:\n",
    "    try:\n",
    "        stock = yf.Ticker(ticker)\n",
    "        hist9 = stock.history(period='4y')\n",
    "        data[ticker] = pd.DataFrame({'Symbol': [ticker],\n",
    "                                      'Name': [stock.info['longName']],\n",
    "                                      'Open': [hist9.iloc[-493]['Open']]},\n",
    "                                      index=[hist9.index[-493]])\n",
    "    except IndexError:\n",
    "        data[ticker] = pd.DataFrame({'Symbol': [ticker],\n",
    "                                      'Name': [None],\n",
    "                                      'Open': [None]},\n",
    "                                      index=[None])\n",
    "\n",
    "df89 = pd.concat(data.values())\n",
    "print(df89)"
   ]
  },
  {
   "cell_type": "code",
   "execution_count": 213,
   "id": "200ab48b",
   "metadata": {},
   "outputs": [
    {
     "name": "stdout",
     "output_type": "stream",
     "text": [
      "                          Symbol                     Name       Open\n",
      "2021-07-01 00:00:00-04:00    XOM  Exxon Mobil Corporation  59.685260\n",
      "2021-07-01 00:00:00-04:00    CVX      Chevron Corporation  99.811970\n",
      "2021-07-01 00:00:00-04:00   SHEL                Shell plc  39.000817\n",
      "2021-07-01 00:00:00-04:00    TTE         TotalEnergies SE  41.305617\n",
      "2021-07-01 00:00:00-04:00    COP           ConocoPhillips  58.101941\n"
     ]
    }
   ],
   "source": [
    "#Energy Sector\n",
    "#request etflist ticker data from yfinance dated 7-1-2021\n",
    "tickers = ['XOM', 'CVX', 'SHEL', 'TTE', 'COP']\n",
    "\n",
    "data = {}\n",
    "\n",
    "for ticker in tickers:\n",
    "    try:\n",
    "        stock = yf.Ticker(ticker)\n",
    "        hist10 = stock.history(period='4y')\n",
    "        data[ticker] = pd.DataFrame({'Symbol': [ticker],\n",
    "                                      'Name': [stock.info['longName']],\n",
    "                                      'Open': [hist10.iloc[-451]['Open']]},\n",
    "                                      index=[hist10.index[-451]])\n",
    "    except IndexError:\n",
    "        data[ticker] = pd.DataFrame({'Symbol': [ticker],\n",
    "                                      'Name': [None],\n",
    "                                      'Open': [None]},\n",
    "                                      index=[None])\n",
    "\n",
    "df90 = pd.concat(data.values())\n",
    "print(df90)"
   ]
  },
  {
   "cell_type": "code",
   "execution_count": 214,
   "id": "3a3b1551",
   "metadata": {},
   "outputs": [
    {
     "name": "stdout",
     "output_type": "stream",
     "text": [
      "                          Symbol                     Name       Open\n",
      "2021-09-01 00:00:00-04:00    XOM  Exxon Mobil Corporation  51.320926\n",
      "2021-09-01 00:00:00-04:00    CVX      Chevron Corporation  91.614139\n",
      "2021-09-01 00:00:00-04:00   SHEL                Shell plc  38.145753\n",
      "2021-09-01 00:00:00-04:00    TTE         TotalEnergies SE  39.469021\n",
      "2021-09-01 00:00:00-04:00    COP           ConocoPhillips  51.887485\n"
     ]
    }
   ],
   "source": [
    "#Energy Sector\n",
    "#request etflist ticker data from yfinance dated 9-1-2021\n",
    "tickers = ['XOM', 'CVX', 'SHEL', 'TTE', 'COP']\n",
    "\n",
    "data = {}\n",
    "\n",
    "for ticker in tickers:\n",
    "    try:\n",
    "        stock = yf.Ticker(ticker)\n",
    "        hist11 = stock.history(period='4y')\n",
    "        data[ticker] = pd.DataFrame({'Symbol': [ticker],\n",
    "                                      'Name': [stock.info['longName']],\n",
    "                                      'Open': [hist11.iloc[-408]['Open']]},\n",
    "                                      index=[hist11.index[-408]])\n",
    "    except IndexError:\n",
    "        data[ticker] = pd.DataFrame({'Symbol': [ticker],\n",
    "                                      'Name': [None],\n",
    "                                      'Open': [None]},\n",
    "                                      index=[None])\n",
    "\n",
    "df91 = pd.concat(data.values())\n",
    "print(df91)"
   ]
  },
  {
   "cell_type": "code",
   "execution_count": 215,
   "id": "875e2be1",
   "metadata": {},
   "outputs": [
    {
     "name": "stdout",
     "output_type": "stream",
     "text": [
      "                          Symbol                     Name        Open\n",
      "2021-11-01 00:00:00-04:00    XOM  Exxon Mobil Corporation   61.285609\n",
      "2021-11-01 00:00:00-04:00    CVX      Chevron Corporation  108.800054\n",
      "2021-11-01 00:00:00-04:00   SHEL                Shell plc   44.253649\n",
      "2021-11-01 00:00:00-04:00    TTE         TotalEnergies SE   45.792076\n",
      "2021-11-01 00:00:00-04:00    COP           ConocoPhillips   70.416296\n"
     ]
    }
   ],
   "source": [
    "#Energy Sector\n",
    "#request etflist ticker data from yfinance dated 11-1-1021\n",
    "tickers = ['XOM', 'CVX', 'SHEL', 'TTE', 'COP']\n",
    "\n",
    "data = {}\n",
    "\n",
    "for ticker in tickers:\n",
    "    try:\n",
    "        stock = yf.Ticker(ticker)\n",
    "        hist12 = stock.history(period='4y')\n",
    "        data[ticker] = pd.DataFrame({'Symbol': [ticker],\n",
    "                                      'Name': [stock.info['longName']],\n",
    "                                      'Open': [hist12.iloc[-366]['Open']]},\n",
    "                                      index=[hist12.index[-366]])\n",
    "    except IndexError:\n",
    "        data[ticker] = pd.DataFrame({'Symbol': [ticker],\n",
    "                                      'Name': [None],\n",
    "                                      'Open': [None]},\n",
    "                                      index=[None])\n",
    "\n",
    "df92 = pd.concat(data.values())\n",
    "print(df92)"
   ]
  },
  {
   "cell_type": "code",
   "execution_count": 216,
   "id": "ebdb8319",
   "metadata": {},
   "outputs": [
    {
     "name": "stdout",
     "output_type": "stream",
     "text": [
      "                          Symbol                     Name        Open\n",
      "2022-01-03 00:00:00-05:00    XOM  Exxon Mobil Corporation   58.453507\n",
      "2022-01-03 00:00:00-05:00    CVX      Chevron Corporation  112.344233\n",
      "2022-01-03 00:00:00-05:00   SHEL                Shell plc   42.472802\n",
      "2022-01-03 00:00:00-05:00    TTE         TotalEnergies SE   46.685799\n",
      "2022-01-03 00:00:00-05:00    COP           ConocoPhillips   67.860710\n"
     ]
    }
   ],
   "source": [
    "#Energy Sector\n",
    "#request etflist ticker data from yfinance dated 1-3-2022\n",
    "tickers = ['XOM', 'CVX', 'SHEL', 'TTE', 'COP']\n",
    "\n",
    "data = {}\n",
    "\n",
    "for ticker in tickers:\n",
    "    try:\n",
    "        stock = yf.Ticker(ticker)\n",
    "        hist13 = stock.history(period='4y')\n",
    "        data[ticker] = pd.DataFrame({'Symbol': [ticker],\n",
    "                                      'Name': [stock.info['longName']],\n",
    "                                      'Open': [hist13.iloc[-323]['Open']]},\n",
    "                                      index=[hist13.index[-323]])\n",
    "    except IndexError:\n",
    "        data[ticker] = pd.DataFrame({'Symbol': [ticker],\n",
    "                                      'Name': [None],\n",
    "                                      'Open': [None]},\n",
    "                                      index=[None])\n",
    "\n",
    "df93 = pd.concat(data.values())\n",
    "print(df93)"
   ]
  },
  {
   "cell_type": "code",
   "execution_count": 217,
   "id": "c707b0bf",
   "metadata": {},
   "outputs": [
    {
     "name": "stdout",
     "output_type": "stream",
     "text": [
      "                          Symbol                     Name        Open\n",
      "2022-03-01 00:00:00-05:00    XOM  Exxon Mobil Corporation   76.019370\n",
      "2022-03-01 00:00:00-05:00    CVX      Chevron Corporation  140.198235\n",
      "2022-03-01 00:00:00-05:00   SHEL                Shell plc   50.342421\n",
      "2022-03-01 00:00:00-05:00    TTE         TotalEnergies SE   46.115113\n",
      "2022-03-01 00:00:00-05:00    COP           ConocoPhillips   90.756156\n"
     ]
    }
   ],
   "source": [
    "#Energy Sector\n",
    "#request etflist ticker data from yfinance dated 3-1-2022\n",
    "tickers = ['XOM', 'CVX', 'SHEL', 'TTE', 'COP']\n",
    "\n",
    "data = {}\n",
    "\n",
    "for ticker in tickers:\n",
    "    try:\n",
    "        stock = yf.Ticker(ticker)\n",
    "        hist14 = stock.history(period='4y')\n",
    "        data[ticker] = pd.DataFrame({'Symbol': [ticker],\n",
    "                                      'Name': [stock.info['longName']],\n",
    "                                      'Open': [hist14.iloc[-284]['Open']]},\n",
    "                                      index=[hist14.index[-284]])\n",
    "    except IndexError:\n",
    "        data[ticker] = pd.DataFrame({'Symbol': [ticker],\n",
    "                                      'Name': [None],\n",
    "                                      'Open': [None]},\n",
    "                                      index=[None])\n",
    "\n",
    "df94 = pd.concat(data.values())\n",
    "print(df94)"
   ]
  },
  {
   "cell_type": "code",
   "execution_count": 218,
   "id": "163276bd",
   "metadata": {},
   "outputs": [
    {
     "name": "stdout",
     "output_type": "stream",
     "text": [
      "                          Symbol                     Name        Open\n",
      "2022-05-02 00:00:00-04:00    XOM  Exxon Mobil Corporation   82.041472\n",
      "2022-05-02 00:00:00-04:00    CVX      Chevron Corporation  151.123272\n",
      "2022-05-02 00:00:00-04:00   SHEL                Shell plc   50.901776\n",
      "2022-05-02 00:00:00-04:00    TTE         TotalEnergies SE   45.946009\n",
      "2022-05-02 00:00:00-04:00    COP           ConocoPhillips   89.526866\n"
     ]
    }
   ],
   "source": [
    "#Energy Sector\n",
    "#request etflist ticker data from yfinance dated 5-2-2022\n",
    "tickers = ['XOM', 'CVX', 'SHEL', 'TTE', 'COP']\n",
    "\n",
    "data = {}\n",
    "\n",
    "for ticker in tickers:\n",
    "    try:\n",
    "        stock = yf.Ticker(ticker)\n",
    "        hist15 = stock.history(period='4y')\n",
    "        data[ticker] = pd.DataFrame({'Symbol': [ticker],\n",
    "                                      'Name': [stock.info['longName']],\n",
    "                                      'Open': [hist15.iloc[-241]['Open']]},\n",
    "                                      index=[hist15.index[-241]])\n",
    "    except IndexError:\n",
    "        data[ticker] = pd.DataFrame({'Symbol': [ticker],\n",
    "                                      'Name': [None],\n",
    "                                      'Open': [None]},\n",
    "                                      index=[None])\n",
    "\n",
    "df95 = pd.concat(data.values())\n",
    "print(df95)"
   ]
  },
  {
   "cell_type": "code",
   "execution_count": 219,
   "id": "9076eb12",
   "metadata": {},
   "outputs": [
    {
     "name": "stdout",
     "output_type": "stream",
     "text": [
      "                          Symbol                     Name        Open\n",
      "2022-07-01 00:00:00-04:00    XOM  Exxon Mobil Corporation   84.568541\n",
      "2022-07-01 00:00:00-04:00    CVX      Chevron Corporation  142.901507\n",
      "2022-07-01 00:00:00-04:00   SHEL                Shell plc   50.164178\n",
      "2022-07-01 00:00:00-04:00    TTE         TotalEnergies SE   49.699898\n",
      "2022-07-01 00:00:00-04:00    COP           ConocoPhillips   88.377095\n"
     ]
    }
   ],
   "source": [
    "#Energy Sector\n",
    "#request etflist ticker data from yfinance dated 7-1-2022\n",
    "tickers = ['XOM', 'CVX', 'SHEL', 'TTE', 'COP']\n",
    "\n",
    "data = {}\n",
    "\n",
    "for ticker in tickers:\n",
    "    try:\n",
    "        stock = yf.Ticker(ticker)\n",
    "        hist16 = stock.history(period='4y')\n",
    "        data[ticker] = pd.DataFrame({'Symbol': [ticker],\n",
    "                                      'Name': [stock.info['longName']],\n",
    "                                      'Open': [hist16.iloc[-199]['Open']]},\n",
    "                                      index=[hist16.index[-199]])\n",
    "    except IndexError:\n",
    "        data[ticker] = pd.DataFrame({'Symbol': [ticker],\n",
    "                                      'Name': [None],\n",
    "                                      'Open': [None]},\n",
    "                                      index=[None])\n",
    "\n",
    "df96 = pd.concat(data.values())\n",
    "print(df96)"
   ]
  },
  {
   "cell_type": "code",
   "execution_count": 220,
   "id": "beae6049",
   "metadata": {},
   "outputs": [
    {
     "name": "stdout",
     "output_type": "stream",
     "text": [
      "                          Symbol                     Name        Open\n",
      "2022-09-01 00:00:00-04:00    XOM  Exxon Mobil Corporation   92.950716\n",
      "2022-09-01 00:00:00-04:00    CVX      Chevron Corporation  153.918174\n",
      "2022-09-01 00:00:00-04:00   SHEL                Shell plc   51.848585\n",
      "2022-09-01 00:00:00-04:00    TTE         TotalEnergies SE   47.411155\n",
      "2022-09-01 00:00:00-04:00    COP           ConocoPhillips  104.080477\n"
     ]
    }
   ],
   "source": [
    "#Energy Sector\n",
    "#request etflist ticker data from yfinance dated 9-1-2022\n",
    "tickers = ['XOM', 'CVX', 'SHEL', 'TTE', 'COP']\n",
    "\n",
    "data = {}\n",
    "\n",
    "for ticker in tickers:\n",
    "    try:\n",
    "        stock = yf.Ticker(ticker)\n",
    "        hist17 = stock.history(period='4y')\n",
    "        data[ticker] = pd.DataFrame({'Symbol': [ticker],\n",
    "                                      'Name': [stock.info['longName']],\n",
    "                                      'Open': [hist17.iloc[-156]['Open']]},\n",
    "                                      index=[hist17.index[-156]])\n",
    "    except IndexError:\n",
    "        data[ticker] = pd.DataFrame({'Symbol': [ticker],\n",
    "                                      'Name': [None],\n",
    "                                      'Open': [None]},\n",
    "                                      index=[None])\n",
    "\n",
    "df97= pd.concat(data.values())\n",
    "print(df97)"
   ]
  },
  {
   "cell_type": "code",
   "execution_count": 221,
   "id": "4acdf10c",
   "metadata": {},
   "outputs": [
    {
     "name": "stdout",
     "output_type": "stream",
     "text": [
      "                          Symbol                     Name        Open\n",
      "2022-11-01 00:00:00-04:00    XOM  Exxon Mobil Corporation  110.621397\n",
      "2022-11-01 00:00:00-04:00    CVX      Chevron Corporation  180.859752\n",
      "2022-11-01 00:00:00-04:00   SHEL                Shell plc   55.894346\n",
      "2022-11-01 00:00:00-04:00    TTE         TotalEnergies SE   53.727015\n",
      "2022-11-01 00:00:00-04:00    COP           ConocoPhillips  126.108736\n"
     ]
    }
   ],
   "source": [
    "#Energy Sector\n",
    "#request etflist ticker data from yfinance dated 11-1-2022\n",
    "tickers = ['XOM', 'CVX', 'SHEL', 'TTE', 'COP']\n",
    "\n",
    "data = {}\n",
    "\n",
    "for ticker in tickers:\n",
    "    try:\n",
    "        stock = yf.Ticker(ticker)\n",
    "        hist18 = stock.history(period='4y')\n",
    "        data[ticker] = pd.DataFrame({'Symbol': [ticker],\n",
    "                                      'Name': [stock.info['longName']],\n",
    "                                      'Open': [hist18.iloc[-114]['Open']]},\n",
    "                                      index=[hist18.index[-114]])\n",
    "    except IndexError:\n",
    "        data[ticker] = pd.DataFrame({'Symbol': [ticker],\n",
    "                                      'Name': [None],\n",
    "                                      'Open': [None]},\n",
    "                                      index=[None])\n",
    "\n",
    "df98 = pd.concat(data.values())\n",
    "print(df98)"
   ]
  },
  {
   "cell_type": "code",
   "execution_count": 222,
   "id": "6eda8321",
   "metadata": {},
   "outputs": [
    {
     "name": "stdout",
     "output_type": "stream",
     "text": [
      "                          Symbol                     Name        Open\n",
      "2023-01-03 00:00:00-05:00    XOM  Exxon Mobil Corporation  108.941705\n",
      "2023-01-03 00:00:00-05:00    CVX      Chevron Corporation  176.479861\n",
      "2023-01-03 00:00:00-05:00   SHEL                Shell plc   56.940938\n",
      "2023-01-03 00:00:00-05:00    TTE         TotalEnergies SE   62.053663\n",
      "2023-01-03 00:00:00-05:00    COP           ConocoPhillips  115.329082\n"
     ]
    }
   ],
   "source": [
    "#Energy Sector\n",
    "#request etflist ticker data from yfinance dated 1-3-2023\n",
    "tickers = ['XOM', 'CVX', 'SHEL', 'TTE', 'COP']\n",
    "\n",
    "data = {}\n",
    "\n",
    "for ticker in tickers:\n",
    "    try:\n",
    "        stock = yf.Ticker(ticker)\n",
    "        hist19 = stock.history(period='4y')\n",
    "        data[ticker] = pd.DataFrame({'Symbol': [ticker],\n",
    "                                      'Name': [stock.info['longName']],\n",
    "                                      'Open': [hist19.iloc[-72]['Open']]},\n",
    "                                      index=[hist19.index[-72]])\n",
    "    except IndexError:\n",
    "        data[ticker] = pd.DataFrame({'Symbol': [ticker],\n",
    "                                      'Name': [None],\n",
    "                                      'Open': [None]},\n",
    "                                      index=[None])\n",
    "\n",
    "df99 = pd.concat(data.values())\n",
    "print(df99)"
   ]
  },
  {
   "cell_type": "code",
   "execution_count": null,
   "id": "8201f127",
   "metadata": {},
   "outputs": [],
   "source": [
    "#Energy Sector\n",
    "#request etflist ticker data from yfinance dated 3-1-2023\n",
    "tickers = ['XOM', 'CVX', 'SHEL', 'TTE', 'COP']\n",
    "\n",
    "data = {}\n",
    "\n",
    "for ticker in tickers:\n",
    "    try:\n",
    "        stock = yf.Ticker(ticker)\n",
    "        hist20 = stock.history(period='4y')\n",
    "        data[ticker] = pd.DataFrame({'Symbol': [ticker],\n",
    "                                      'Name': [stock.info['longName']],\n",
    "                                      'Open': [hist20.iloc[-33]['Open']]},\n",
    "                                      index=[hist20.index[-33]])\n",
    "    except IndexError:\n",
    "        data[ticker] = pd.DataFrame({'Symbol': [ticker],\n",
    "                                      'Name': [None],\n",
    "                                      'Open': [None]},\n",
    "                                      index=[None])\n",
    "\n",
    "df100 = pd.concat(data.values())\n",
    "print(df100)"
   ]
  },
  {
   "cell_type": "code",
   "execution_count": null,
   "id": "f73176d6",
   "metadata": {},
   "outputs": [],
   "source": []
  }
 ],
 "metadata": {
  "kernelspec": {
   "display_name": "Python 3 (ipykernel)",
   "language": "python",
   "name": "python3"
  },
  "language_info": {
   "codemirror_mode": {
    "name": "ipython",
    "version": 3
   },
   "file_extension": ".py",
   "mimetype": "text/x-python",
   "name": "python",
   "nbconvert_exporter": "python",
   "pygments_lexer": "ipython3",
   "version": "3.9.13"
  }
 },
 "nbformat": 4,
 "nbformat_minor": 5
}

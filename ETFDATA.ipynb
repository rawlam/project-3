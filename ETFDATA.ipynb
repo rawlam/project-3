{
 "cells": [
  {
   "cell_type": "code",
   "execution_count": 1,
   "id": "cefbfc6d",
   "metadata": {},
   "outputs": [],
   "source": [
    "#Dependencies\n",
    "import pandas as pd\n",
    "import numpy as np\n",
    "import requests\n",
    "import json\n",
    "import yfinance as yf"
   ]
  },
  {
   "cell_type": "code",
   "execution_count": null,
   "id": "b51ea6fd",
   "metadata": {},
   "outputs": [],
   "source": []
  },
  {
   "cell_type": "code",
   "execution_count": 3,
   "id": "c524b69d",
   "metadata": {},
   "outputs": [
    {
     "name": "stdout",
     "output_type": "stream",
     "text": [
      "                          Symbol                             Name        Open\n",
      "2020-01-03 00:00:00-05:00    JNJ                Johnson & Johnson  131.831127\n",
      "2020-01-03 00:00:00-05:00    UNH  UnitedHealth Group Incorporated  274.199445\n",
      "2020-01-03 00:00:00-05:00    NVO                 Novo Nordisk A/S   54.118358\n",
      "2020-01-03 00:00:00-05:00    LLY            Eli Lilly and Company  123.734523\n",
      "2020-01-03 00:00:00-05:00    MRK                Merck & Co., Inc.   77.863454\n"
     ]
    }
   ],
   "source": [
    "#Healthcare Sector\n",
    "#request etflist ticker data from yfinance dated 1-3,2020\n",
    "tickers = ['JNJ', 'UNH', 'NVO', 'LLY', 'MRK']\n",
    "\n",
    "data = {}\n",
    "\n",
    "for ticker in tickers:\n",
    "    try:\n",
    "        stock = yf.Ticker(ticker)\n",
    "        hist1 = stock.history(period='4y')\n",
    "        data[ticker] = pd.DataFrame({'Symbol': [ticker],\n",
    "                                      'Name': [stock.info['longName']],\n",
    "                                      'Open': [hist1.iloc[-827]['Open']]},\n",
    "                                      index=[hist1.index[-827]])\n",
    "    except IndexError:\n",
    "        data[ticker] = pd.DataFrame({'Symbol': [ticker],\n",
    "                                      'Name': [None],\n",
    "                                      'Open': [None]},\n",
    "                                      index=[None])\n",
    "\n",
    "df1 = pd.concat(data.values())\n",
    "print(df1)"
   ]
  },
  {
   "cell_type": "code",
   "execution_count": 37,
   "id": "a99c1a9d",
   "metadata": {},
   "outputs": [
    {
     "name": "stdout",
     "output_type": "stream",
     "text": [
      "                          Symbol                             Name        Open\n",
      "2020-03-02 00:00:00-05:00    JNJ                Johnson & Johnson  124.609742\n",
      "2020-03-02 00:00:00-05:00    UNH  UnitedHealth Group Incorporated  245.631305\n",
      "2020-03-02 00:00:00-05:00    NVO                 Novo Nordisk A/S   57.161391\n",
      "2020-03-02 00:00:00-05:00    LLY            Eli Lilly and Company  121.932244\n",
      "2020-03-02 00:00:00-05:00    MRK                Merck & Co., Inc.   66.228606\n"
     ]
    }
   ],
   "source": [
    "#Healthcare Sector\n",
    "#request etflist ticker data from yfinance dated 3-2,2020\n",
    "tickers = ['JNJ', 'UNH', 'NVO', 'LLY', 'MRK']\n",
    "\n",
    "data = {}\n",
    "\n",
    "for ticker in tickers:\n",
    "    try:\n",
    "        stock = yf.Ticker(ticker)\n",
    "        hist2 = stock.history(period='4y')\n",
    "        data[ticker] = pd.DataFrame({'Symbol': [ticker],\n",
    "                                      'Name': [stock.info['longName']],\n",
    "                                      'Open': [hist2.iloc[-788]['Open']]},\n",
    "                                      index=[hist2.index[-788]])\n",
    "    except IndexError:\n",
    "        data[ticker] = pd.DataFrame({'Symbol': [ticker],\n",
    "                                      'Name': [None],\n",
    "                                      'Open': [None]},\n",
    "                                      index=[None])\n",
    "\n",
    "df2 = pd.concat(data.values())\n",
    "print(df2)"
   ]
  },
  {
   "cell_type": "code",
   "execution_count": 14,
   "id": "f585cd6a",
   "metadata": {},
   "outputs": [
    {
     "name": "stdout",
     "output_type": "stream",
     "text": [
      "                          Symbol                             Name        Open\n",
      "2020-05-01 00:00:00-04:00    JNJ                Johnson & Johnson  138.329954\n",
      "2020-05-01 00:00:00-04:00    UNH  UnitedHealth Group Incorporated  276.460904\n",
      "2020-05-01 00:00:00-04:00    NVO                 Novo Nordisk A/S   60.860574\n",
      "2020-05-01 00:00:00-04:00    LLY            Eli Lilly and Company  146.731031\n",
      "2020-05-01 00:00:00-04:00    MRK                Merck & Co., Inc.   68.273476\n"
     ]
    }
   ],
   "source": [
    "#Healthcare Sector\n",
    "#request etflist ticker data from yfinance dated 5-1,2020\n",
    "tickers = ['JNJ', 'UNH', 'NVO', 'LLY', 'MRK']\n",
    "\n",
    "data = {}\n",
    "\n",
    "for ticker in tickers:\n",
    "    try:\n",
    "        stock = yf.Ticker(ticker)\n",
    "        hist1 = stock.history(period='4y')\n",
    "        data[ticker] = pd.DataFrame({'Symbol': [ticker],\n",
    "                                      'Name': [stock.info['longName']],\n",
    "                                      'Open': [hist1.iloc[-745]['Open']]},\n",
    "                                      index=[hist1.index[-745]])\n",
    "    except IndexError:\n",
    "        data[ticker] = pd.DataFrame({'Symbol': [ticker],\n",
    "                                      'Name': [None],\n",
    "                                      'Open': [None]},\n",
    "                                      index=[None])\n",
    "\n",
    "df3 = pd.concat(data.values())\n",
    "print(df3)"
   ]
  },
  {
   "cell_type": "code",
   "execution_count": 19,
   "id": "6f3bbc1c",
   "metadata": {},
   "outputs": [
    {
     "name": "stdout",
     "output_type": "stream",
     "text": [
      "                          Symbol                             Name        Open\n",
      "2020-07-01 00:00:00-04:00    JNJ                Johnson & Johnson  130.975497\n",
      "2020-07-01 00:00:00-04:00    UNH  UnitedHealth Group Incorporated  284.814523\n",
      "2020-07-01 00:00:00-04:00    NVO                 Novo Nordisk A/S   61.621330\n",
      "2020-07-01 00:00:00-04:00    LLY            Eli Lilly and Company  157.587527\n",
      "2020-07-01 00:00:00-04:00    MRK                Merck & Co., Inc.   67.568309\n"
     ]
    }
   ],
   "source": [
    "#Healthcare Sector\n",
    "#request etflist ticker data from yfinance dated 7-1,2020\n",
    "tickers = ['JNJ', 'UNH', 'NVO', 'LLY', 'MRK']\n",
    "\n",
    "data = {}\n",
    "\n",
    "for ticker in tickers:\n",
    "    try:\n",
    "        stock = yf.Ticker(ticker)\n",
    "        hist1 = stock.history(period='4y')\n",
    "        data[ticker] = pd.DataFrame({'Symbol': [ticker],\n",
    "                                      'Name': [stock.info['longName']],\n",
    "                                      'Open': [hist1.iloc[-703]['Open']]},\n",
    "                                      index=[hist1.index[-703]])\n",
    "    except IndexError:\n",
    "        data[ticker] = pd.DataFrame({'Symbol': [ticker],\n",
    "                                      'Name': [None],\n",
    "                                      'Open': [None]},\n",
    "                                      index=[None])\n",
    "\n",
    "df4 = pd.concat(data.values())\n",
    "print(df4)"
   ]
  },
  {
   "cell_type": "code",
   "execution_count": 27,
   "id": "7481c6c0",
   "metadata": {},
   "outputs": [
    {
     "name": "stdout",
     "output_type": "stream",
     "text": [
      "                          Symbol                             Name        Open\n",
      "2020-09-01 00:00:00-04:00    JNJ                Johnson & Johnson  144.198823\n",
      "2020-09-01 00:00:00-04:00    UNH  UnitedHealth Group Incorporated  298.610924\n",
      "2020-09-01 00:00:00-04:00    NVO                 Novo Nordisk A/S   64.115056\n",
      "2020-09-01 00:00:00-04:00    LLY            Eli Lilly and Company  143.215894\n",
      "2020-09-01 00:00:00-04:00    MRK                Merck & Co., Inc.   74.479590\n"
     ]
    }
   ],
   "source": [
    "#Healthcare Sector\n",
    "#request etflist ticker data from yfinance dated 9-1,2020\n",
    "tickers = ['JNJ', 'UNH', 'NVO', 'LLY', 'MRK']\n",
    "\n",
    "data = {}\n",
    "\n",
    "for ticker in tickers:\n",
    "    try:\n",
    "        stock = yf.Ticker(ticker)\n",
    "        hist1 = stock.history(period='4y')\n",
    "        data[ticker] = pd.DataFrame({'Symbol': [ticker],\n",
    "                                      'Name': [stock.info['longName']],\n",
    "                                      'Open': [hist1.iloc[-660]['Open']]},\n",
    "                                      index=[hist1.index[-660]])\n",
    "    except IndexError:\n",
    "        data[ticker] = pd.DataFrame({'Symbol': [ticker],\n",
    "                                      'Name': [None],\n",
    "                                      'Open': [None]},\n",
    "                                      index=[None])\n",
    "\n",
    "df5 = pd.concat(data.values())\n",
    "print(df5)"
   ]
  },
  {
   "cell_type": "code",
   "execution_count": 35,
   "id": "f85919c4",
   "metadata": {},
   "outputs": [
    {
     "name": "stdout",
     "output_type": "stream",
     "text": [
      "                          Symbol                             Name        Open\n",
      "2020-11-02 00:00:00-05:00    JNJ                Johnson & Johnson  130.244667\n",
      "2020-11-02 00:00:00-05:00    UNH  UnitedHealth Group Incorporated  302.238901\n",
      "2020-11-02 00:00:00-05:00    NVO                 Novo Nordisk A/S   62.006631\n",
      "2020-11-02 00:00:00-05:00    LLY            Eli Lilly and Company  127.729162\n",
      "2020-11-02 00:00:00-05:00    MRK                Merck & Co., Inc.   67.198335\n"
     ]
    }
   ],
   "source": [
    "#Healthcare Sector\n",
    "#request etflist ticker data from yfinance dated 11-2,2020\n",
    "tickers = ['JNJ', 'UNH', 'NVO', 'LLY', 'MRK']\n",
    "\n",
    "data = {}\n",
    "\n",
    "for ticker in tickers:\n",
    "    try:\n",
    "        stock = yf.Ticker(ticker)\n",
    "        hist1 = stock.history(period='4y')\n",
    "        data[ticker] = pd.DataFrame({'Symbol': [ticker],\n",
    "                                      'Name': [stock.info['longName']],\n",
    "                                      'Open': [hist1.iloc[-617]['Open']]},\n",
    "                                      index=[hist1.index[-617]])\n",
    "    except IndexError:\n",
    "        data[ticker] = pd.DataFrame({'Symbol': [ticker],\n",
    "                                      'Name': [None],\n",
    "                                      'Open': [None]},\n",
    "                                      index=[None])\n",
    "\n",
    "df6 = pd.concat(data.values())\n",
    "print(df6)"
   ]
  },
  {
   "cell_type": "code",
   "execution_count": null,
   "id": "b1775801",
   "metadata": {},
   "outputs": [],
   "source": []
  },
  {
   "cell_type": "code",
   "execution_count": null,
   "id": "c54252bc",
   "metadata": {},
   "outputs": [],
   "source": []
  },
  {
   "cell_type": "code",
   "execution_count": null,
   "id": "8ee3002d",
   "metadata": {},
   "outputs": [],
   "source": [
    "#Real Estate Sector"
   ]
  },
  {
   "cell_type": "code",
   "execution_count": null,
   "id": "005df715",
   "metadata": {},
   "outputs": [],
   "source": [
    "#Information Technology Sector"
   ]
  },
  {
   "cell_type": "code",
   "execution_count": null,
   "id": "ef2f0718",
   "metadata": {},
   "outputs": [],
   "source": [
    "#Financial Sector"
   ]
  },
  {
   "cell_type": "code",
   "execution_count": null,
   "id": "15e5dcd2",
   "metadata": {},
   "outputs": [],
   "source": [
    "#Energy Sector"
   ]
  },
  {
   "cell_type": "code",
   "execution_count": 555,
   "id": "b641e18b",
   "metadata": {
    "scrolled": false
   },
   "outputs": [
    {
     "name": "stdout",
     "output_type": "stream",
     "text": [
      "                          Symbol  \\\n",
      "2020-01-02 00:00:00-05:00    SPY   \n",
      "2020-01-02 00:00:00-05:00    IVV   \n",
      "2020-01-02 00:00:00-05:00    VOO   \n",
      "2020-01-02 00:00:00-05:00    VTI   \n",
      "2020-01-02 00:00:00-05:00    QQQ   \n",
      "...                          ...   \n",
      "2020-01-02 00:00:00-05:00   ESGU   \n",
      "2020-01-02 00:00:00-05:00    VXF   \n",
      "2020-01-02 00:00:00-05:00    HYG   \n",
      "2020-01-02 00:00:00-05:00   SCHA   \n",
      "2020-01-02 00:00:00-05:00   SCHO   \n",
      "\n",
      "                                                                    Name  \\\n",
      "2020-01-02 00:00:00-05:00                         SPDR S&P 500 ETF Trust   \n",
      "2020-01-02 00:00:00-05:00                       iShares Core S&P 500 ETF   \n",
      "2020-01-02 00:00:00-05:00                        Vanguard 500 Index Fund   \n",
      "2020-01-02 00:00:00-05:00         Vanguard Total Stock Market Index Fund   \n",
      "2020-01-02 00:00:00-05:00                              Invesco QQQ Trust   \n",
      "...                                                                  ...   \n",
      "2020-01-02 00:00:00-05:00                 iShares ESG Aware MSCI USA ETF   \n",
      "2020-01-02 00:00:00-05:00            Vanguard Extended Market Index Fund   \n",
      "2020-01-02 00:00:00-05:00  iShares iBoxx $ High Yield Corporate Bond ETF   \n",
      "2020-01-02 00:00:00-05:00                      Schwab U.S. Small-Cap ETF   \n",
      "2020-01-02 00:00:00-05:00            Schwab Short-Term U.S. Treasury ETF   \n",
      "\n",
      "                                 Open  \n",
      "2020-01-02 00:00:00-05:00  307.254385  \n",
      "2020-01-02 00:00:00-05:00  308.326572  \n",
      "2020-01-02 00:00:00-05:00  282.008768  \n",
      "2020-01-02 00:00:00-05:00  156.503924  \n",
      "2020-01-02 00:00:00-05:00  210.286423  \n",
      "...                               ...  \n",
      "2020-01-02 00:00:00-05:00   68.315645  \n",
      "2020-01-02 00:00:00-05:00  121.810057  \n",
      "2020-01-02 00:00:00-05:00   75.279354  \n",
      "2020-01-02 00:00:00-05:00   36.448256  \n",
      "2020-01-02 00:00:00-05:00   48.743573  \n",
      "\n",
      "[100 rows x 3 columns]\n"
     ]
    }
   ],
   "source": [
    "#request etflist ticker data from yfinance dated 1-2,2020\n",
    "tickers = ['SPY', 'IVV', 'VOO', 'VTI', 'QQQ', 'VEA', 'VTV', 'IEFA', 'BND', 'AGG', 'VUG', 'VWO', 'IEMG', 'IJH', 'IJR', 'VIG', 'IWF', 'GLD', 'VXUS', 'VO', 'IWD', 'IWM', 'VYM', 'EFA', 'BNDX', 'SCHD', 'VGT', 'XLK', 'VB', 'ITOT', 'XLE', 'VCIT', 'XLV', 'BSV', 'VCSH', 'LQD', 'TLT', 'VEU', 'RSP', 'VNQ', 'MUB', 'IXUS', 'SCHX', 'SCHF', 'IEF', 'XLF', 'IVW', 'BIL', 'USMV', 'IAU', 'IWB', 'DIA', 'SHY', 'IWR', 'QUAL', 'VTEB', 'VT', 'MBB', 'VV', 'GOVT', 'EEM', 'JPST', 'IVE', 'IGSB', 'VBR', 'EFG', 'SHV', 'DGRO', 'TIP', 'SDY', 'IUSB', 'DVY', 'SCHB', 'VGSH', 'MDY', 'ACWI', 'VGK', 'PFF', 'XLP', 'VHT', 'XLU', 'SCHG', 'SPYG', 'SPLG', 'VOE', 'VMBS', 'SPDW', 'EFV', 'USFR', 'VTIP', 'EMB', 'GDX', 'SPYV', 'BIV', 'XLY', 'ESGU', 'VXF', 'HYG', 'SCHA', 'SCHO']\n",
    "\n",
    "data = {}\n",
    "\n",
    "for ticker in tickers:\n",
    "    try:\n",
    "        stock = yf.Ticker(ticker)\n",
    "        hist1 = stock.history(period='4y')\n",
    "        data[ticker] = pd.DataFrame({'Symbol': [ticker],\n",
    "                                      'Name': [stock.info['longName']],\n",
    "                                      'Open': [hist1.iloc[-827]['Open']]},\n",
    "                                      index=[hist1.index[-827]])\n",
    "    except IndexError:\n",
    "        data[ticker] = pd.DataFrame({'Symbol': [ticker],\n",
    "                                      'Name': [None],\n",
    "                                      'Open': [None]},\n",
    "                                      index=[None])\n",
    "\n",
    "df1 = pd.concat(data.values())\n",
    "print(df1)"
   ]
  },
  {
   "cell_type": "code",
   "execution_count": 556,
   "id": "426cec0b",
   "metadata": {},
   "outputs": [],
   "source": [
    "df1.to_csv('stock_data.csv', index=True)"
   ]
  },
  {
   "cell_type": "code",
   "execution_count": null,
   "id": "f8580b86",
   "metadata": {},
   "outputs": [],
   "source": []
  },
  {
   "cell_type": "code",
   "execution_count": 557,
   "id": "599f2c59",
   "metadata": {
    "scrolled": true
   },
   "outputs": [
    {
     "name": "stdout",
     "output_type": "stream",
     "text": [
      "                          Symbol  \\\n",
      "2023-04-14 00:00:00-04:00    SPY   \n",
      "2023-04-14 00:00:00-04:00    IVV   \n",
      "2023-04-14 00:00:00-04:00    VOO   \n",
      "2023-04-14 00:00:00-04:00    VTI   \n",
      "2023-04-14 00:00:00-04:00    QQQ   \n",
      "...                          ...   \n",
      "2023-04-14 00:00:00-04:00   ESGU   \n",
      "2023-04-14 00:00:00-04:00    VXF   \n",
      "2023-04-14 00:00:00-04:00    HYG   \n",
      "2023-04-14 00:00:00-04:00   SCHA   \n",
      "2023-04-14 00:00:00-04:00   SCHO   \n",
      "\n",
      "                                                                    Name  \\\n",
      "2023-04-14 00:00:00-04:00                         SPDR S&P 500 ETF Trust   \n",
      "2023-04-14 00:00:00-04:00                       iShares Core S&P 500 ETF   \n",
      "2023-04-14 00:00:00-04:00                        Vanguard 500 Index Fund   \n",
      "2023-04-14 00:00:00-04:00         Vanguard Total Stock Market Index Fund   \n",
      "2023-04-14 00:00:00-04:00                              Invesco QQQ Trust   \n",
      "...                                                                  ...   \n",
      "2023-04-14 00:00:00-04:00                 iShares ESG Aware MSCI USA ETF   \n",
      "2023-04-14 00:00:00-04:00            Vanguard Extended Market Index Fund   \n",
      "2023-04-14 00:00:00-04:00  iShares iBoxx $ High Yield Corporate Bond ETF   \n",
      "2023-04-14 00:00:00-04:00                      Schwab U.S. Small-Cap ETF   \n",
      "2023-04-14 00:00:00-04:00            Schwab Short-Term U.S. Treasury ETF   \n",
      "\n",
      "                                Close  \n",
      "2023-04-14 00:00:00-04:00  412.459991  \n",
      "2023-04-14 00:00:00-04:00  414.250000  \n",
      "2023-04-14 00:00:00-04:00  378.989990  \n",
      "2023-04-14 00:00:00-04:00  205.080002  \n",
      "2023-04-14 00:00:00-04:00  318.570007  \n",
      "...                               ...  \n",
      "2023-04-14 00:00:00-04:00   90.830002  \n",
      "2023-04-14 00:00:00-04:00  138.229996  \n",
      "2023-04-14 00:00:00-04:00   75.279999  \n",
      "2023-04-14 00:00:00-04:00   41.419998  \n",
      "2023-04-14 00:00:00-04:00   48.660000  \n",
      "\n",
      "[100 rows x 3 columns]\n"
     ]
    }
   ],
   "source": [
    "#request etflist ticker data from yfinance dated 4-14,2023\n",
    "tickers = ['SPY','IVV', 'VOO', 'VTI', 'QQQ', 'VEA', 'VTV', 'IEFA', 'BND', 'AGG', 'VUG', 'VWO', 'IEMG', 'IJH', 'IJR', 'VIG', 'IWF', 'GLD', 'VXUS', 'VO', 'IWD', 'IWM', 'VYM', 'EFA', 'BNDX', 'SCHD', 'VGT', 'XLK', 'VB', 'ITOT', 'XLE', 'VCIT', 'XLV', 'BSV', 'VCSH', 'LQD', 'TLT', 'VEU', 'RSP', 'VNQ', 'MUB', 'IXUS', 'SCHX', 'SCHF', 'IEF', 'XLF', 'IVW', 'BIL', 'USMV', 'IAU', 'IWB', 'DIA', 'SHY', 'IWR', 'QUAL', 'VTEB', 'VT', 'MBB', 'VV', 'GOVT', 'EEM', 'JPST', 'IVE', 'IGSB', 'VBR', 'JEPI', 'SHV', 'DGRO', 'TIP', 'SDY', 'IUSB', 'DVY', 'SCHB', 'VGSH', 'MDY', 'ACWI', 'VGK', 'DFAC', 'XLP', 'VHT', 'XLU', 'SCHG', 'SPYG', 'SPLG', 'VOE', 'VMBS', 'SPDW', 'EFV', 'USFR', 'VTIP', 'EMB', 'GDX', 'SPYV', 'BIV', 'XLY', 'ESGU', 'VXF', 'HYG', 'SCHA', 'SCHO']\n",
    "\n",
    "data = {}\n",
    "\n",
    "for ticker in tickers:\n",
    "    stock = yf.Ticker(ticker)\n",
    "    hist2 = stock.history(period='4y')\n",
    "    data[ticker] = pd.DataFrame({'Symbol': [ticker],\n",
    "                                  'Name': [stock.info['longName']],\n",
    "                                  'Close': [hist2.iloc[-1]['Close']]},\n",
    "                                  index=[hist2.index[-1]])\n",
    "\n",
    "df2 = pd.concat(data.values())\n",
    "print(df2)"
   ]
  },
  {
   "cell_type": "code",
   "execution_count": 558,
   "id": "2bfa1e1f",
   "metadata": {},
   "outputs": [],
   "source": [
    "df2.to_csv('stock_data2.csv', index=True)"
   ]
  },
  {
   "cell_type": "code",
   "execution_count": null,
   "id": "346febd2",
   "metadata": {},
   "outputs": [],
   "source": []
  },
  {
   "cell_type": "code",
   "execution_count": null,
   "id": "f308d802",
   "metadata": {},
   "outputs": [],
   "source": []
  }
 ],
 "metadata": {
  "kernelspec": {
   "display_name": "Python 3 (ipykernel)",
   "language": "python",
   "name": "python3"
  },
  "language_info": {
   "codemirror_mode": {
    "name": "ipython",
    "version": 3
   },
   "file_extension": ".py",
   "mimetype": "text/x-python",
   "name": "python",
   "nbconvert_exporter": "python",
   "pygments_lexer": "ipython3",
   "version": "3.9.13"
  }
 },
 "nbformat": 4,
 "nbformat_minor": 5
}

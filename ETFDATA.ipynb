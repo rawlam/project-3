{
 "cells": [
  {
   "cell_type": "code",
   "execution_count": 282,
   "id": "cefbfc6d",
   "metadata": {},
   "outputs": [],
   "source": [
    "#Dependencies\n",
    "import pandas as pd\n",
    "import numpy as np\n",
    "import requests\n",
    "import json\n",
    "import yfinance as yf"
   ]
  },
  {
   "cell_type": "code",
   "execution_count": 559,
   "id": "b51ea6fd",
   "metadata": {},
   "outputs": [
    {
     "name": "stdout",
     "output_type": "stream",
     "text": [
      "   Symbol                                           Name\n",
      "0     SPY                         SPDR S&P 500 ETF Trust\n",
      "1     IVV                       iShares Core S&P 500 ETF\n",
      "2     VOO                           Vanguard S&P 500 ETF\n",
      "3     VTI                Vanguard Total Stock Market ETF\n",
      "4     QQQ                              Invesco QQQ Trust\n",
      "..    ...                                            ...\n",
      "95   ESGU                 iShares ESG Aware MSCI USA ETF\n",
      "96    VXF                   Vanguard Extended Market ETF\n",
      "97    HYG  iShares iBoxx $ High Yield Corporate Bond ETF\n",
      "98   SCHA                      Schwab U.S. Small-Cap ETF\n",
      "99   SCHO            Schwab Short-Term U.S. Treasury ETF\n",
      "\n",
      "[100 rows x 2 columns]\n"
     ]
    }
   ],
   "source": [
    "#load ETF list from https://etfdb.com/compare/market-cap/\n",
    "etflist = \"ETFLIST.csv\"\n",
    "data = pd.read_csv(etflist)\n",
    "print(data)"
   ]
  },
  {
   "cell_type": "code",
   "execution_count": null,
   "id": "c524b69d",
   "metadata": {},
   "outputs": [],
   "source": []
  },
  {
   "cell_type": "code",
   "execution_count": 555,
   "id": "b641e18b",
   "metadata": {
    "scrolled": false
   },
   "outputs": [
    {
     "name": "stdout",
     "output_type": "stream",
     "text": [
      "                          Symbol  \\\n",
      "2020-01-02 00:00:00-05:00    SPY   \n",
      "2020-01-02 00:00:00-05:00    IVV   \n",
      "2020-01-02 00:00:00-05:00    VOO   \n",
      "2020-01-02 00:00:00-05:00    VTI   \n",
      "2020-01-02 00:00:00-05:00    QQQ   \n",
      "...                          ...   \n",
      "2020-01-02 00:00:00-05:00   ESGU   \n",
      "2020-01-02 00:00:00-05:00    VXF   \n",
      "2020-01-02 00:00:00-05:00    HYG   \n",
      "2020-01-02 00:00:00-05:00   SCHA   \n",
      "2020-01-02 00:00:00-05:00   SCHO   \n",
      "\n",
      "                                                                    Name  \\\n",
      "2020-01-02 00:00:00-05:00                         SPDR S&P 500 ETF Trust   \n",
      "2020-01-02 00:00:00-05:00                       iShares Core S&P 500 ETF   \n",
      "2020-01-02 00:00:00-05:00                        Vanguard 500 Index Fund   \n",
      "2020-01-02 00:00:00-05:00         Vanguard Total Stock Market Index Fund   \n",
      "2020-01-02 00:00:00-05:00                              Invesco QQQ Trust   \n",
      "...                                                                  ...   \n",
      "2020-01-02 00:00:00-05:00                 iShares ESG Aware MSCI USA ETF   \n",
      "2020-01-02 00:00:00-05:00            Vanguard Extended Market Index Fund   \n",
      "2020-01-02 00:00:00-05:00  iShares iBoxx $ High Yield Corporate Bond ETF   \n",
      "2020-01-02 00:00:00-05:00                      Schwab U.S. Small-Cap ETF   \n",
      "2020-01-02 00:00:00-05:00            Schwab Short-Term U.S. Treasury ETF   \n",
      "\n",
      "                                 Open  \n",
      "2020-01-02 00:00:00-05:00  307.254385  \n",
      "2020-01-02 00:00:00-05:00  308.326572  \n",
      "2020-01-02 00:00:00-05:00  282.008768  \n",
      "2020-01-02 00:00:00-05:00  156.503924  \n",
      "2020-01-02 00:00:00-05:00  210.286423  \n",
      "...                               ...  \n",
      "2020-01-02 00:00:00-05:00   68.315645  \n",
      "2020-01-02 00:00:00-05:00  121.810057  \n",
      "2020-01-02 00:00:00-05:00   75.279354  \n",
      "2020-01-02 00:00:00-05:00   36.448256  \n",
      "2020-01-02 00:00:00-05:00   48.743573  \n",
      "\n",
      "[100 rows x 3 columns]\n"
     ]
    }
   ],
   "source": [
    "#request etflist ticker data from yfinance dated 1-2,2020\n",
    "tickers = ['SPY', 'IVV', 'VOO', 'VTI', 'QQQ', 'VEA', 'VTV', 'IEFA', 'BND', 'AGG', 'VUG', 'VWO', 'IEMG', 'IJH', 'IJR', 'VIG', 'IWF', 'GLD', 'VXUS', 'VO', 'IWD', 'IWM', 'VYM', 'EFA', 'BNDX', 'SCHD', 'VGT', 'XLK', 'VB', 'ITOT', 'XLE', 'VCIT', 'XLV', 'BSV', 'VCSH', 'LQD', 'TLT', 'VEU', 'RSP', 'VNQ', 'MUB', 'IXUS', 'SCHX', 'SCHF', 'IEF', 'XLF', 'IVW', 'BIL', 'USMV', 'IAU', 'IWB', 'DIA', 'SHY', 'IWR', 'QUAL', 'VTEB', 'VT', 'MBB', 'VV', 'GOVT', 'EEM', 'JPST', 'IVE', 'IGSB', 'VBR', 'EFG', 'SHV', 'DGRO', 'TIP', 'SDY', 'IUSB', 'DVY', 'SCHB', 'VGSH', 'MDY', 'ACWI', 'VGK', 'PFF', 'XLP', 'VHT', 'XLU', 'SCHG', 'SPYG', 'SPLG', 'VOE', 'VMBS', 'SPDW', 'EFV', 'USFR', 'VTIP', 'EMB', 'GDX', 'SPYV', 'BIV', 'XLY', 'ESGU', 'VXF', 'HYG', 'SCHA', 'SCHO']\n",
    "\n",
    "data = {}\n",
    "\n",
    "for ticker in tickers:\n",
    "    try:\n",
    "        stock = yf.Ticker(ticker)\n",
    "        hist1 = stock.history(period='4y')\n",
    "        data[ticker] = pd.DataFrame({'Symbol': [ticker],\n",
    "                                      'Name': [stock.info['longName']],\n",
    "                                      'Open': [hist1.iloc[-827]['Open']]},\n",
    "                                      index=[hist1.index[-827]])\n",
    "    except IndexError:\n",
    "        data[ticker] = pd.DataFrame({'Symbol': [ticker],\n",
    "                                      'Name': [None],\n",
    "                                      'Open': [None]},\n",
    "                                      index=[None])\n",
    "\n",
    "df1 = pd.concat(data.values())\n",
    "print(df1)"
   ]
  },
  {
   "cell_type": "code",
   "execution_count": 556,
   "id": "426cec0b",
   "metadata": {},
   "outputs": [],
   "source": [
    "df1.to_csv('stock_data.csv', index=True)"
   ]
  },
  {
   "cell_type": "code",
   "execution_count": null,
   "id": "f8580b86",
   "metadata": {},
   "outputs": [],
   "source": []
  },
  {
   "cell_type": "code",
   "execution_count": 557,
   "id": "599f2c59",
   "metadata": {
    "scrolled": true
   },
   "outputs": [
    {
     "name": "stdout",
     "output_type": "stream",
     "text": [
      "                          Symbol  \\\n",
      "2023-04-14 00:00:00-04:00    SPY   \n",
      "2023-04-14 00:00:00-04:00    IVV   \n",
      "2023-04-14 00:00:00-04:00    VOO   \n",
      "2023-04-14 00:00:00-04:00    VTI   \n",
      "2023-04-14 00:00:00-04:00    QQQ   \n",
      "...                          ...   \n",
      "2023-04-14 00:00:00-04:00   ESGU   \n",
      "2023-04-14 00:00:00-04:00    VXF   \n",
      "2023-04-14 00:00:00-04:00    HYG   \n",
      "2023-04-14 00:00:00-04:00   SCHA   \n",
      "2023-04-14 00:00:00-04:00   SCHO   \n",
      "\n",
      "                                                                    Name  \\\n",
      "2023-04-14 00:00:00-04:00                         SPDR S&P 500 ETF Trust   \n",
      "2023-04-14 00:00:00-04:00                       iShares Core S&P 500 ETF   \n",
      "2023-04-14 00:00:00-04:00                        Vanguard 500 Index Fund   \n",
      "2023-04-14 00:00:00-04:00         Vanguard Total Stock Market Index Fund   \n",
      "2023-04-14 00:00:00-04:00                              Invesco QQQ Trust   \n",
      "...                                                                  ...   \n",
      "2023-04-14 00:00:00-04:00                 iShares ESG Aware MSCI USA ETF   \n",
      "2023-04-14 00:00:00-04:00            Vanguard Extended Market Index Fund   \n",
      "2023-04-14 00:00:00-04:00  iShares iBoxx $ High Yield Corporate Bond ETF   \n",
      "2023-04-14 00:00:00-04:00                      Schwab U.S. Small-Cap ETF   \n",
      "2023-04-14 00:00:00-04:00            Schwab Short-Term U.S. Treasury ETF   \n",
      "\n",
      "                                Close  \n",
      "2023-04-14 00:00:00-04:00  412.459991  \n",
      "2023-04-14 00:00:00-04:00  414.250000  \n",
      "2023-04-14 00:00:00-04:00  378.989990  \n",
      "2023-04-14 00:00:00-04:00  205.080002  \n",
      "2023-04-14 00:00:00-04:00  318.570007  \n",
      "...                               ...  \n",
      "2023-04-14 00:00:00-04:00   90.830002  \n",
      "2023-04-14 00:00:00-04:00  138.229996  \n",
      "2023-04-14 00:00:00-04:00   75.279999  \n",
      "2023-04-14 00:00:00-04:00   41.419998  \n",
      "2023-04-14 00:00:00-04:00   48.660000  \n",
      "\n",
      "[100 rows x 3 columns]\n"
     ]
    }
   ],
   "source": [
    "#request etflist ticker data from yfinance dated 4-14,2023\n",
    "tickers = ['SPY','IVV', 'VOO', 'VTI', 'QQQ', 'VEA', 'VTV', 'IEFA', 'BND', 'AGG', 'VUG', 'VWO', 'IEMG', 'IJH', 'IJR', 'VIG', 'IWF', 'GLD', 'VXUS', 'VO', 'IWD', 'IWM', 'VYM', 'EFA', 'BNDX', 'SCHD', 'VGT', 'XLK', 'VB', 'ITOT', 'XLE', 'VCIT', 'XLV', 'BSV', 'VCSH', 'LQD', 'TLT', 'VEU', 'RSP', 'VNQ', 'MUB', 'IXUS', 'SCHX', 'SCHF', 'IEF', 'XLF', 'IVW', 'BIL', 'USMV', 'IAU', 'IWB', 'DIA', 'SHY', 'IWR', 'QUAL', 'VTEB', 'VT', 'MBB', 'VV', 'GOVT', 'EEM', 'JPST', 'IVE', 'IGSB', 'VBR', 'JEPI', 'SHV', 'DGRO', 'TIP', 'SDY', 'IUSB', 'DVY', 'SCHB', 'VGSH', 'MDY', 'ACWI', 'VGK', 'DFAC', 'XLP', 'VHT', 'XLU', 'SCHG', 'SPYG', 'SPLG', 'VOE', 'VMBS', 'SPDW', 'EFV', 'USFR', 'VTIP', 'EMB', 'GDX', 'SPYV', 'BIV', 'XLY', 'ESGU', 'VXF', 'HYG', 'SCHA', 'SCHO']\n",
    "\n",
    "data = {}\n",
    "\n",
    "for ticker in tickers:\n",
    "    stock = yf.Ticker(ticker)\n",
    "    hist2 = stock.history(period='4y')\n",
    "    data[ticker] = pd.DataFrame({'Symbol': [ticker],\n",
    "                                  'Name': [stock.info['longName']],\n",
    "                                  'Close': [hist2.iloc[-1]['Close']]},\n",
    "                                  index=[hist2.index[-1]])\n",
    "\n",
    "df2 = pd.concat(data.values())\n",
    "print(df2)"
   ]
  },
  {
   "cell_type": "code",
   "execution_count": 558,
   "id": "2bfa1e1f",
   "metadata": {},
   "outputs": [],
   "source": [
    "df2.to_csv('stock_data2.csv', index=True)"
   ]
  },
  {
   "cell_type": "code",
   "execution_count": null,
   "id": "346febd2",
   "metadata": {},
   "outputs": [],
   "source": []
  },
  {
   "cell_type": "code",
   "execution_count": null,
   "id": "f308d802",
   "metadata": {},
   "outputs": [],
   "source": []
  }
 ],
 "metadata": {
  "kernelspec": {
   "display_name": "Python 3 (ipykernel)",
   "language": "python",
   "name": "python3"
  },
  "language_info": {
   "codemirror_mode": {
    "name": "ipython",
    "version": 3
   },
   "file_extension": ".py",
   "mimetype": "text/x-python",
   "name": "python",
   "nbconvert_exporter": "python",
   "pygments_lexer": "ipython3",
   "version": "3.9.13"
  }
 },
 "nbformat": 4,
 "nbformat_minor": 5
}

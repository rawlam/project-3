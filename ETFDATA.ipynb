{
 "cells": [
  {
   "cell_type": "code",
   "execution_count": 1,
   "id": "cefbfc6d",
   "metadata": {},
   "outputs": [],
   "source": [
    "#Dependencies\n",
    "import pandas as pd\n",
    "import numpy as np\n",
    "import requests\n",
    "import json\n",
    "import yfinance as yf"
   ]
  },
  {
   "cell_type": "code",
   "execution_count": null,
   "id": "b51ea6fd",
   "metadata": {},
   "outputs": [],
   "source": []
  },
  {
   "cell_type": "code",
   "execution_count": 3,
   "id": "c524b69d",
   "metadata": {},
   "outputs": [
    {
     "name": "stdout",
     "output_type": "stream",
     "text": [
      "                          Symbol                             Name        Open\n",
      "2020-01-03 00:00:00-05:00    JNJ                Johnson & Johnson  131.831127\n",
      "2020-01-03 00:00:00-05:00    UNH  UnitedHealth Group Incorporated  274.199445\n",
      "2020-01-03 00:00:00-05:00    NVO                 Novo Nordisk A/S   54.118358\n",
      "2020-01-03 00:00:00-05:00    LLY            Eli Lilly and Company  123.734523\n",
      "2020-01-03 00:00:00-05:00    MRK                Merck & Co., Inc.   77.863454\n"
     ]
    }
   ],
   "source": [
    "#Healthcare Sector\n",
    "#request etflist ticker data from yfinance dated 1-3,2020\n",
    "tickers = ['JNJ', 'UNH', 'NVO', 'LLY', 'MRK']\n",
    "\n",
    "data = {}\n",
    "\n",
    "for ticker in tickers:\n",
    "    try:\n",
    "        stock = yf.Ticker(ticker)\n",
    "        hist1 = stock.history(period='4y')\n",
    "        data[ticker] = pd.DataFrame({'Symbol': [ticker],\n",
    "                                      'Name': [stock.info['longName']],\n",
    "                                      'Open': [hist1.iloc[-827]['Open']]},\n",
    "                                      index=[hist1.index[-827]])\n",
    "    except IndexError:\n",
    "        data[ticker] = pd.DataFrame({'Symbol': [ticker],\n",
    "                                      'Name': [None],\n",
    "                                      'Open': [None]},\n",
    "                                      index=[None])\n",
    "\n",
    "df1 = pd.concat(data.values())\n",
    "print(df1)"
   ]
  },
  {
   "cell_type": "code",
   "execution_count": 37,
   "id": "21ce72e3",
   "metadata": {},
   "outputs": [
    {
     "name": "stdout",
     "output_type": "stream",
     "text": [
      "                          Symbol                             Name        Open\n",
      "2020-03-02 00:00:00-05:00    JNJ                Johnson & Johnson  124.609742\n",
      "2020-03-02 00:00:00-05:00    UNH  UnitedHealth Group Incorporated  245.631305\n",
      "2020-03-02 00:00:00-05:00    NVO                 Novo Nordisk A/S   57.161391\n",
      "2020-03-02 00:00:00-05:00    LLY            Eli Lilly and Company  121.932244\n",
      "2020-03-02 00:00:00-05:00    MRK                Merck & Co., Inc.   66.228606\n"
     ]
    }
   ],
   "source": [
    "#Healthcare Sector\n",
    "#request etflist ticker data from yfinance dated 3-2,2020\n",
    "tickers = ['JNJ', 'UNH', 'NVO', 'LLY', 'MRK']\n",
    "\n",
    "data = {}\n",
    "\n",
    "for ticker in tickers:\n",
    "    try:\n",
    "        stock = yf.Ticker(ticker)\n",
    "        hist2 = stock.history(period='4y')\n",
    "        data[ticker] = pd.DataFrame({'Symbol': [ticker],\n",
    "                                      'Name': [stock.info['longName']],\n",
    "                                      'Open': [hist2.iloc[-788]['Open']]},\n",
    "                                      index=[hist2.index[-788]])\n",
    "    except IndexError:\n",
    "        data[ticker] = pd.DataFrame({'Symbol': [ticker],\n",
    "                                      'Name': [None],\n",
    "                                      'Open': [None]},\n",
    "                                      index=[None])\n",
    "\n",
    "df2 = pd.concat(data.values())\n",
    "print(df2)"
   ]
  },
  {
   "cell_type": "code",
   "execution_count": 40,
   "id": "9309ef42",
   "metadata": {},
   "outputs": [
    {
     "name": "stdout",
     "output_type": "stream",
     "text": [
      "                          Symbol                             Name        Open\n",
      "2020-05-01 00:00:00-04:00    JNJ                Johnson & Johnson  138.329954\n",
      "2020-05-01 00:00:00-04:00    UNH  UnitedHealth Group Incorporated  276.460874\n",
      "2020-05-01 00:00:00-04:00    NVO                 Novo Nordisk A/S   60.860574\n",
      "2020-05-01 00:00:00-04:00    LLY            Eli Lilly and Company  146.731046\n",
      "2020-05-01 00:00:00-04:00    MRK                Merck & Co., Inc.   68.273460\n"
     ]
    }
   ],
   "source": [
    "#Healthcare Sector\n",
    "#request etflist ticker data from yfinance dated 5-1,2020\n",
    "tickers = ['JNJ', 'UNH', 'NVO', 'LLY', 'MRK']\n",
    "\n",
    "data = {}\n",
    "\n",
    "for ticker in tickers:\n",
    "    try:\n",
    "        stock = yf.Ticker(ticker)\n",
    "        hist3 = stock.history(period='4y')\n",
    "        data[ticker] = pd.DataFrame({'Symbol': [ticker],\n",
    "                                      'Name': [stock.info['longName']],\n",
    "                                      'Open': [hist3.iloc[-745]['Open']]},\n",
    "                                      index=[hist3.index[-745]])\n",
    "    except IndexError:\n",
    "        data[ticker] = pd.DataFrame({'Symbol': [ticker],\n",
    "                                      'Name': [None],\n",
    "                                      'Open': [None]},\n",
    "                                      index=[None])\n",
    "\n",
    "df3 = pd.concat(data.values())\n",
    "print(df3)"
   ]
  },
  {
   "cell_type": "code",
   "execution_count": 41,
   "id": "f818d5a7",
   "metadata": {},
   "outputs": [
    {
     "name": "stdout",
     "output_type": "stream",
     "text": [
      "                          Symbol                             Name        Open\n",
      "2020-07-01 00:00:00-04:00    JNJ                Johnson & Johnson  130.975497\n",
      "2020-07-01 00:00:00-04:00    UNH  UnitedHealth Group Incorporated  284.814523\n",
      "2020-07-01 00:00:00-04:00    NVO                 Novo Nordisk A/S   61.621334\n",
      "2020-07-01 00:00:00-04:00    LLY            Eli Lilly and Company  157.587512\n",
      "2020-07-01 00:00:00-04:00    MRK                Merck & Co., Inc.   67.568309\n"
     ]
    }
   ],
   "source": [
    "#Healthcare Sector\n",
    "#request etflist ticker data from yfinance dated 7-1,2020\n",
    "tickers = ['JNJ', 'UNH', 'NVO', 'LLY', 'MRK']\n",
    "\n",
    "data = {}\n",
    "\n",
    "for ticker in tickers:\n",
    "    try:\n",
    "        stock = yf.Ticker(ticker)\n",
    "        hist4 = stock.history(period='4y')\n",
    "        data[ticker] = pd.DataFrame({'Symbol': [ticker],\n",
    "                                      'Name': [stock.info['longName']],\n",
    "                                      'Open': [hist4.iloc[-703]['Open']]},\n",
    "                                      index=[hist4.index[-703]])\n",
    "    except IndexError:\n",
    "        data[ticker] = pd.DataFrame({'Symbol': [ticker],\n",
    "                                      'Name': [None],\n",
    "                                      'Open': [None]},\n",
    "                                      index=[None])\n",
    "\n",
    "df4 = pd.concat(data.values())\n",
    "print(df4)"
   ]
  },
  {
   "cell_type": "code",
   "execution_count": 42,
   "id": "e10da530",
   "metadata": {},
   "outputs": [
    {
     "name": "stdout",
     "output_type": "stream",
     "text": [
      "                          Symbol                             Name        Open\n",
      "2020-09-01 00:00:00-04:00    JNJ                Johnson & Johnson  144.198792\n",
      "2020-09-01 00:00:00-04:00    UNH  UnitedHealth Group Incorporated  298.610955\n",
      "2020-09-01 00:00:00-04:00    NVO                 Novo Nordisk A/S   64.115056\n",
      "2020-09-01 00:00:00-04:00    LLY            Eli Lilly and Company  143.215909\n",
      "2020-09-01 00:00:00-04:00    MRK                Merck & Co., Inc.   74.479598\n"
     ]
    }
   ],
   "source": [
    "#Healthcare Sector\n",
    "#request etflist ticker data from yfinance dated 9-1,2020\n",
    "tickers = ['JNJ', 'UNH', 'NVO', 'LLY', 'MRK']\n",
    "\n",
    "data = {}\n",
    "\n",
    "for ticker in tickers:\n",
    "    try:\n",
    "        stock = yf.Ticker(ticker)\n",
    "        hist5 = stock.history(period='4y')\n",
    "        data[ticker] = pd.DataFrame({'Symbol': [ticker],\n",
    "                                      'Name': [stock.info['longName']],\n",
    "                                      'Open': [hist5.iloc[-660]['Open']]},\n",
    "                                      index=[hist5.index[-660]])\n",
    "    except IndexError:\n",
    "        data[ticker] = pd.DataFrame({'Symbol': [ticker],\n",
    "                                      'Name': [None],\n",
    "                                      'Open': [None]},\n",
    "                                      index=[None])\n",
    "\n",
    "df5 = pd.concat(data.values())\n",
    "print(df5)"
   ]
  },
  {
   "cell_type": "code",
   "execution_count": 44,
   "id": "a812d529",
   "metadata": {},
   "outputs": [
    {
     "name": "stdout",
     "output_type": "stream",
     "text": [
      "                          Symbol                             Name        Open\n",
      "2020-11-02 00:00:00-05:00    JNJ                Johnson & Johnson  130.244682\n",
      "2020-11-02 00:00:00-05:00    UNH  UnitedHealth Group Incorporated  302.238901\n",
      "2020-11-02 00:00:00-05:00    NVO                 Novo Nordisk A/S   62.006635\n",
      "2020-11-02 00:00:00-05:00    LLY            Eli Lilly and Company  127.729192\n",
      "2020-11-02 00:00:00-05:00    MRK                Merck & Co., Inc.   67.198335\n"
     ]
    }
   ],
   "source": [
    "#Healthcare Sector\n",
    "#request etflist ticker data from yfinance dated 11-2,2020\n",
    "tickers = ['JNJ', 'UNH', 'NVO', 'LLY', 'MRK']\n",
    "\n",
    "data = {}\n",
    "\n",
    "for ticker in tickers:\n",
    "    try:\n",
    "        stock = yf.Ticker(ticker)\n",
    "        hist6 = stock.history(period='4y')\n",
    "        data[ticker] = pd.DataFrame({'Symbol': [ticker],\n",
    "                                      'Name': [stock.info['longName']],\n",
    "                                      'Open': [hist6.iloc[-617]['Open']]},\n",
    "                                      index=[hist6.index[-617]])\n",
    "    except IndexError:\n",
    "        data[ticker] = pd.DataFrame({'Symbol': [ticker],\n",
    "                                      'Name': [None],\n",
    "                                      'Open': [None]},\n",
    "                                      index=[None])\n",
    "\n",
    "df6 = pd.concat(data.values())\n",
    "print(df6)"
   ]
  },
  {
   "cell_type": "code",
   "execution_count": 50,
   "id": "46c461f4",
   "metadata": {},
   "outputs": [
    {
     "name": "stdout",
     "output_type": "stream",
     "text": [
      "                          Symbol                             Name        Open\n",
      "2021-01-04 00:00:00-05:00    JNJ                Johnson & Johnson  148.380899\n",
      "2021-01-04 00:00:00-05:00    UNH  UnitedHealth Group Incorporated  340.980116\n",
      "2021-01-04 00:00:00-05:00    NVO                 Novo Nordisk A/S   68.226467\n",
      "2021-01-04 00:00:00-05:00    LLY            Eli Lilly and Company  163.722032\n",
      "2021-01-04 00:00:00-05:00    MRK                Merck & Co., Inc.   72.645884\n"
     ]
    }
   ],
   "source": [
    "#Healthcare Sector\n",
    "#request etflist ticker data from yfinance dated 1-4,2021\n",
    "tickers = ['JNJ', 'UNH', 'NVO', 'LLY', 'MRK']\n",
    "\n",
    "data = {}\n",
    "\n",
    "for ticker in tickers:\n",
    "    try:\n",
    "        stock = yf.Ticker(ticker)\n",
    "        hist7 = stock.history(period='4y')\n",
    "        data[ticker] = pd.DataFrame({'Symbol': [ticker],\n",
    "                                      'Name': [stock.info['longName']],\n",
    "                                      'Open': [hist7.iloc[-575]['Open']]},\n",
    "                                      index=[hist7.index[-575]])\n",
    "    except IndexError:\n",
    "        data[ticker] = pd.DataFrame({'Symbol': [ticker],\n",
    "                                      'Name': [None],\n",
    "                                      'Open': [None]},\n",
    "                                      index=[None])\n",
    "\n",
    "df7 = pd.concat(data.values())\n",
    "print(df7)"
   ]
  },
  {
   "cell_type": "code",
   "execution_count": 66,
   "id": "25e2ffc4",
   "metadata": {},
   "outputs": [
    {
     "name": "stdout",
     "output_type": "stream",
     "text": [
      "                          Symbol                             Name       Open\n",
      "2021-03-01 00:00:00-05:00    JNJ                Johnson & Johnson  64.858601\n",
      "2021-03-01 00:00:00-05:00    UNH  UnitedHealth Group Incorporated  64.858601\n",
      "2021-03-01 00:00:00-05:00    NVO                 Novo Nordisk A/S  64.858601\n",
      "2021-03-01 00:00:00-05:00    LLY            Eli Lilly and Company  64.858601\n",
      "2021-03-01 00:00:00-05:00    MRK                Merck & Co., Inc.  64.858601\n"
     ]
    }
   ],
   "source": [
    "#Healthcare Sector\n",
    "#request etflist ticker data from yfinance dated 3-1021\n",
    "tickers = ['JNJ', 'UNH', 'NVO', 'LLY', 'MRK']\n",
    "\n",
    "data = {}\n",
    "\n",
    "for ticker in tickers:\n",
    "    try:\n",
    "        stock = yf.Ticker(ticker)\n",
    "        hist7 = stock.history(period='4y')\n",
    "        data[ticker] = pd.DataFrame({'Symbol': [ticker],\n",
    "                                      'Name': [stock.info['longName']],\n",
    "                                      'Open': [hist8.iloc[-537]['Open']]},\n",
    "                                      index=[hist8.index[-537]])\n",
    "    except IndexError:\n",
    "        data[ticker] = pd.DataFrame({'Symbol': [ticker],\n",
    "                                      'Name': [None],\n",
    "                                      'Open': [None]},\n",
    "                                      index=[None])\n",
    "\n",
    "df8 = pd.concat(data.values())\n",
    "print(df8)"
   ]
  },
  {
   "cell_type": "code",
   "execution_count": 70,
   "id": "7efb6ab8",
   "metadata": {},
   "outputs": [
    {
     "name": "stdout",
     "output_type": "stream",
     "text": [
      "                          Symbol                             Name        Open\n",
      "2021-05-03 00:00:00-04:00    JNJ                Johnson & Johnson  155.345289\n",
      "2021-05-03 00:00:00-04:00    UNH  UnitedHealth Group Incorporated  390.436212\n",
      "2021-05-03 00:00:00-04:00    NVO                 Novo Nordisk A/S   72.981350\n",
      "2021-05-03 00:00:00-04:00    LLY            Eli Lilly and Company  177.994372\n",
      "2021-05-03 00:00:00-04:00    MRK                Merck & Co., Inc.   66.366851\n"
     ]
    }
   ],
   "source": [
    "#Healthcare Sector\n",
    "#request etflist ticker data from yfinance dated 5-3-1021\n",
    "tickers = ['JNJ', 'UNH', 'NVO', 'LLY', 'MRK']\n",
    "\n",
    "data = {}\n",
    "\n",
    "for ticker in tickers:\n",
    "    try:\n",
    "        stock = yf.Ticker(ticker)\n",
    "        hist9 = stock.history(period='4y')\n",
    "        data[ticker] = pd.DataFrame({'Symbol': [ticker],\n",
    "                                      'Name': [stock.info['longName']],\n",
    "                                      'Open': [hist9.iloc[-493]['Open']]},\n",
    "                                      index=[hist9.index[-493]])\n",
    "    except IndexError:\n",
    "        data[ticker] = pd.DataFrame({'Symbol': [ticker],\n",
    "                                      'Name': [None],\n",
    "                                      'Open': [None]},\n",
    "                                      index=[None])\n",
    "\n",
    "df9 = pd.concat(data.values())\n",
    "print(df9)"
   ]
  },
  {
   "cell_type": "code",
   "execution_count": 76,
   "id": "65e453c3",
   "metadata": {},
   "outputs": [
    {
     "name": "stdout",
     "output_type": "stream",
     "text": [
      "                          Symbol                             Name        Open\n",
      "2021-07-01 00:00:00-04:00    JNJ                Johnson & Johnson  157.403725\n",
      "2021-07-01 00:00:00-04:00    UNH  UnitedHealth Group Incorporated  392.872731\n",
      "2021-07-01 00:00:00-04:00    NVO                 Novo Nordisk A/S   81.836713\n",
      "2021-07-01 00:00:00-04:00    LLY            Eli Lilly and Company  224.230867\n",
      "2021-07-01 00:00:00-04:00    MRK                Merck & Co., Inc.   73.352701\n"
     ]
    }
   ],
   "source": [
    "#Healthcare Sector\n",
    "#request etflist ticker data from yfinance dated 7-1-1021\n",
    "tickers = ['JNJ', 'UNH', 'NVO', 'LLY', 'MRK']\n",
    "\n",
    "data = {}\n",
    "\n",
    "for ticker in tickers:\n",
    "    try:\n",
    "        stock = yf.Ticker(ticker)\n",
    "        hist10 = stock.history(period='4y')\n",
    "        data[ticker] = pd.DataFrame({'Symbol': [ticker],\n",
    "                                      'Name': [stock.info['longName']],\n",
    "                                      'Open': [hist10.iloc[-451]['Open']]},\n",
    "                                      index=[hist10.index[-451]])\n",
    "    except IndexError:\n",
    "        data[ticker] = pd.DataFrame({'Symbol': [ticker],\n",
    "                                      'Name': [None],\n",
    "                                      'Open': [None]},\n",
    "                                      index=[None])\n",
    "\n",
    "df10 = pd.concat(data.values())\n",
    "print(df10)"
   ]
  },
  {
   "cell_type": "code",
   "execution_count": 81,
   "id": "bb0b2674",
   "metadata": {},
   "outputs": [
    {
     "name": "stdout",
     "output_type": "stream",
     "text": [
      "                          Symbol                             Name        Open\n",
      "2021-09-01 00:00:00-04:00    JNJ                Johnson & Johnson  166.182007\n",
      "2021-09-01 00:00:00-04:00    UNH  UnitedHealth Group Incorporated  407.052202\n",
      "2021-09-01 00:00:00-04:00    NVO                 Novo Nordisk A/S   97.666130\n",
      "2021-09-01 00:00:00-04:00    LLY            Eli Lilly and Company  253.408740\n",
      "2021-09-01 00:00:00-04:00    MRK                Merck & Co., Inc.   72.001837\n"
     ]
    }
   ],
   "source": [
    "#Healthcare Sector\n",
    "#request etflist ticker data from yfinance dated 9-1-1021\n",
    "tickers = ['JNJ', 'UNH', 'NVO', 'LLY', 'MRK']\n",
    "\n",
    "data = {}\n",
    "\n",
    "for ticker in tickers:\n",
    "    try:\n",
    "        stock = yf.Ticker(ticker)\n",
    "        hist11 = stock.history(period='4y')\n",
    "        data[ticker] = pd.DataFrame({'Symbol': [ticker],\n",
    "                                      'Name': [stock.info['longName']],\n",
    "                                      'Open': [hist11.iloc[-408]['Open']]},\n",
    "                                      index=[hist11.index[-408]])\n",
    "    except IndexError:\n",
    "        data[ticker] = pd.DataFrame({'Symbol': [ticker],\n",
    "                                      'Name': [None],\n",
    "                                      'Open': [None]},\n",
    "                                      index=[None])\n",
    "\n",
    "df11 = pd.concat(data.values())\n",
    "print(df11)"
   ]
  },
  {
   "cell_type": "code",
   "execution_count": 86,
   "id": "f70ddb02",
   "metadata": {},
   "outputs": [
    {
     "name": "stdout",
     "output_type": "stream",
     "text": [
      "                          Symbol                             Name        Open\n",
      "2021-11-01 00:00:00-04:00    JNJ                Johnson & Johnson  156.820442\n",
      "2021-11-01 00:00:00-04:00    UNH  UnitedHealth Group Incorporated  452.884980\n",
      "2021-11-01 00:00:00-04:00    NVO                 Novo Nordisk A/S  107.097513\n",
      "2021-11-01 00:00:00-04:00    LLY            Eli Lilly and Company  250.046813\n",
      "2021-11-01 00:00:00-04:00    MRK                Merck & Co., Inc.   83.922552\n"
     ]
    }
   ],
   "source": [
    "#Healthcare Sector\n",
    "#request etflist ticker data from yfinance dated 11-1-1021\n",
    "tickers = ['JNJ', 'UNH', 'NVO', 'LLY', 'MRK']\n",
    "\n",
    "data = {}\n",
    "\n",
    "for ticker in tickers:\n",
    "    try:\n",
    "        stock = yf.Ticker(ticker)\n",
    "        hist12 = stock.history(period='4y')\n",
    "        data[ticker] = pd.DataFrame({'Symbol': [ticker],\n",
    "                                      'Name': [stock.info['longName']],\n",
    "                                      'Open': [hist12.iloc[-366]['Open']]},\n",
    "                                      index=[hist12.index[-366]])\n",
    "    except IndexError:\n",
    "        data[ticker] = pd.DataFrame({'Symbol': [ticker],\n",
    "                                      'Name': [None],\n",
    "                                      'Open': [None]},\n",
    "                                      index=[None])\n",
    "\n",
    "df12 = pd.concat(data.values())\n",
    "print(df12)"
   ]
  },
  {
   "cell_type": "code",
   "execution_count": 94,
   "id": "10cd788a",
   "metadata": {},
   "outputs": [
    {
     "name": "stdout",
     "output_type": "stream",
     "text": [
      "                          Symbol                             Name        Open\n",
      "2022-01-03 00:00:00-05:00    JNJ                Johnson & Johnson  164.668090\n",
      "2022-01-03 00:00:00-05:00    UNH  UnitedHealth Group Incorporated  491.925492\n",
      "2022-01-03 00:00:00-05:00    NVO                 Novo Nordisk A/S  107.165934\n",
      "2022-01-03 00:00:00-05:00    LLY            Eli Lilly and Company  269.837084\n",
      "2022-01-03 00:00:00-05:00    MRK                Merck & Co., Inc.   73.682694\n"
     ]
    }
   ],
   "source": [
    "#Healthcare Sector\n",
    "#request etflist ticker data from yfinance dated 1-3-2022\n",
    "tickers = ['JNJ', 'UNH', 'NVO', 'LLY', 'MRK']\n",
    "\n",
    "data = {}\n",
    "\n",
    "for ticker in tickers:\n",
    "    try:\n",
    "        stock = yf.Ticker(ticker)\n",
    "        hist13 = stock.history(period='4y')\n",
    "        data[ticker] = pd.DataFrame({'Symbol': [ticker],\n",
    "                                      'Name': [stock.info['longName']],\n",
    "                                      'Open': [hist13.iloc[-323]['Open']]},\n",
    "                                      index=[hist13.index[-323]])\n",
    "    except IndexError:\n",
    "        data[ticker] = pd.DataFrame({'Symbol': [ticker],\n",
    "                                      'Name': [None],\n",
    "                                      'Open': [None]},\n",
    "                                      index=[None])\n",
    "\n",
    "df13 = pd.concat(data.values())\n",
    "print(df13)"
   ]
  },
  {
   "cell_type": "code",
   "execution_count": 101,
   "id": "e8f8648f",
   "metadata": {},
   "outputs": [
    {
     "name": "stdout",
     "output_type": "stream",
     "text": [
      "                          Symbol                             Name        Open\n",
      "2022-03-01 00:00:00-05:00    JNJ                Johnson & Johnson  158.744045\n",
      "2022-03-01 00:00:00-05:00    UNH  UnitedHealth Group Incorporated  463.285594\n",
      "2022-03-01 00:00:00-05:00    NVO                 Novo Nordisk A/S  101.595060\n",
      "2022-03-01 00:00:00-05:00    LLY            Eli Lilly and Company  244.450742\n",
      "2022-03-01 00:00:00-05:00    MRK                Merck & Co., Inc.   73.605725\n"
     ]
    }
   ],
   "source": [
    "#Healthcare Sector\n",
    "#request etflist ticker data from yfinance dated 3-1-2022\n",
    "tickers = ['JNJ', 'UNH', 'NVO', 'LLY', 'MRK']\n",
    "\n",
    "data = {}\n",
    "\n",
    "for ticker in tickers:\n",
    "    try:\n",
    "        stock = yf.Ticker(ticker)\n",
    "        hist14 = stock.history(period='4y')\n",
    "        data[ticker] = pd.DataFrame({'Symbol': [ticker],\n",
    "                                      'Name': [stock.info['longName']],\n",
    "                                      'Open': [hist14.iloc[-284]['Open']]},\n",
    "                                      index=[hist14.index[-284]])\n",
    "    except IndexError:\n",
    "        data[ticker] = pd.DataFrame({'Symbol': [ticker],\n",
    "                                      'Name': [None],\n",
    "                                      'Open': [None]},\n",
    "                                      index=[None])\n",
    "\n",
    "df14 = pd.concat(data.values())\n",
    "print(df14)"
   ]
  },
  {
   "cell_type": "code",
   "execution_count": 106,
   "id": "02936000",
   "metadata": {},
   "outputs": [
    {
     "name": "stdout",
     "output_type": "stream",
     "text": [
      "                          Symbol                             Name        Open\n",
      "2022-05-02 00:00:00-04:00    JNJ                Johnson & Johnson  175.714797\n",
      "2022-05-02 00:00:00-04:00    UNH  UnitedHealth Group Incorporated  504.048089\n",
      "2022-05-02 00:00:00-04:00    NVO                 Novo Nordisk A/S  112.220309\n",
      "2022-05-02 00:00:00-04:00    LLY            Eli Lilly and Company  287.572256\n",
      "2022-05-02 00:00:00-04:00    MRK                Merck & Co., Inc.   86.122721\n"
     ]
    }
   ],
   "source": [
    "#Healthcare Sector\n",
    "#request etflist ticker data from yfinance dated 5-2-2022\n",
    "tickers = ['JNJ', 'UNH', 'NVO', 'LLY', 'MRK']\n",
    "\n",
    "data = {}\n",
    "\n",
    "for ticker in tickers:\n",
    "    try:\n",
    "        stock = yf.Ticker(ticker)\n",
    "        hist15 = stock.history(period='4y')\n",
    "        data[ticker] = pd.DataFrame({'Symbol': [ticker],\n",
    "                                      'Name': [stock.info['longName']],\n",
    "                                      'Open': [hist15.iloc[-241]['Open']]},\n",
    "                                      index=[hist15.index[-241]])\n",
    "    except IndexError:\n",
    "        data[ticker] = pd.DataFrame({'Symbol': [ticker],\n",
    "                                      'Name': [None],\n",
    "                                      'Open': [None]},\n",
    "                                      index=[None])\n",
    "\n",
    "df15 = pd.concat(data.values())\n",
    "print(df15)"
   ]
  },
  {
   "cell_type": "code",
   "execution_count": 108,
   "id": "0f65e86a",
   "metadata": {},
   "outputs": [
    {
     "name": "stdout",
     "output_type": "stream",
     "text": [
      "                          Symbol                             Name        Open\n",
      "2022-07-01 00:00:00-04:00    JNJ                Johnson & Johnson  173.884594\n",
      "2022-07-01 00:00:00-04:00    UNH  UnitedHealth Group Incorporated  507.340936\n",
      "2022-07-01 00:00:00-04:00    NVO                 Novo Nordisk A/S  108.273401\n",
      "2022-07-01 00:00:00-04:00    LLY            Eli Lilly and Company  320.889895\n",
      "2022-07-01 00:00:00-04:00    MRK                Merck & Co., Inc.   89.352526\n"
     ]
    }
   ],
   "source": [
    "#Healthcare Sector\n",
    "#request etflist ticker data from yfinance dated 7-1-2022\n",
    "tickers = ['JNJ', 'UNH', 'NVO', 'LLY', 'MRK']\n",
    "\n",
    "data = {}\n",
    "\n",
    "for ticker in tickers:\n",
    "    try:\n",
    "        stock = yf.Ticker(ticker)\n",
    "        hist16 = stock.history(period='4y')\n",
    "        data[ticker] = pd.DataFrame({'Symbol': [ticker],\n",
    "                                      'Name': [stock.info['longName']],\n",
    "                                      'Open': [hist16.iloc[-199]['Open']]},\n",
    "                                      index=[hist16.index[-199]])\n",
    "    except IndexError:\n",
    "        data[ticker] = pd.DataFrame({'Symbol': [ticker],\n",
    "                                      'Name': [None],\n",
    "                                      'Open': [None]},\n",
    "                                      index=[None])\n",
    "\n",
    "df16 = pd.concat(data.values())\n",
    "print(df16)"
   ]
  },
  {
   "cell_type": "code",
   "execution_count": 112,
   "id": "b4e505cd",
   "metadata": {},
   "outputs": [
    {
     "name": "stdout",
     "output_type": "stream",
     "text": [
      "                          Symbol                             Name        Open\n",
      "2022-09-01 00:00:00-04:00    JNJ                Johnson & Johnson  159.308538\n",
      "2022-09-01 00:00:00-04:00    UNH  UnitedHealth Group Incorporated  514.282873\n",
      "2022-09-01 00:00:00-04:00    NVO                 Novo Nordisk A/S  104.205045\n",
      "2022-09-01 00:00:00-04:00    LLY            Eli Lilly and Company  299.194696\n",
      "2022-09-01 00:00:00-04:00    MRK                Merck & Co., Inc.   83.813246\n"
     ]
    }
   ],
   "source": [
    "#Healthcare Sector\n",
    "#request etflist ticker data from yfinance dated 9-1-2022\n",
    "tickers = ['JNJ', 'UNH', 'NVO', 'LLY', 'MRK']\n",
    "\n",
    "data = {}\n",
    "\n",
    "for ticker in tickers:\n",
    "    try:\n",
    "        stock = yf.Ticker(ticker)\n",
    "        hist17 = stock.history(period='4y')\n",
    "        data[ticker] = pd.DataFrame({'Symbol': [ticker],\n",
    "                                      'Name': [stock.info['longName']],\n",
    "                                      'Open': [hist17.iloc[-156]['Open']]},\n",
    "                                      index=[hist17.index[-156]])\n",
    "    except IndexError:\n",
    "        data[ticker] = pd.DataFrame({'Symbol': [ticker],\n",
    "                                      'Name': [None],\n",
    "                                      'Open': [None]},\n",
    "                                      index=[None])\n",
    "\n",
    "df17 = pd.concat(data.values())\n",
    "print(df17)"
   ]
  },
  {
   "cell_type": "code",
   "execution_count": 117,
   "id": "dbef4c6b",
   "metadata": {},
   "outputs": [
    {
     "name": "stdout",
     "output_type": "stream",
     "text": [
      "                          Symbol                             Name        Open\n",
      "2022-11-01 00:00:00-04:00    JNJ                Johnson & Johnson  171.708729\n",
      "2022-11-01 00:00:00-04:00    UNH  UnitedHealth Group Incorporated  551.330689\n",
      "2022-11-01 00:00:00-04:00    NVO                 Novo Nordisk A/S  107.568094\n",
      "2022-11-01 00:00:00-04:00    LLY            Eli Lilly and Company  343.755816\n",
      "2022-11-01 00:00:00-04:00    MRK                Merck & Co., Inc.   99.297188\n"
     ]
    }
   ],
   "source": [
    "#Healthcare Sector\n",
    "#request etflist ticker data from yfinance dated 9-1-2022\n",
    "tickers = ['JNJ', 'UNH', 'NVO', 'LLY', 'MRK']\n",
    "\n",
    "data = {}\n",
    "\n",
    "for ticker in tickers:\n",
    "    try:\n",
    "        stock = yf.Ticker(ticker)\n",
    "        hist18 = stock.history(period='4y')\n",
    "        data[ticker] = pd.DataFrame({'Symbol': [ticker],\n",
    "                                      'Name': [stock.info['longName']],\n",
    "                                      'Open': [hist18.iloc[-114]['Open']]},\n",
    "                                      index=[hist18.index[-114]])\n",
    "    except IndexError:\n",
    "        data[ticker] = pd.DataFrame({'Symbol': [ticker],\n",
    "                                      'Name': [None],\n",
    "                                      'Open': [None]},\n",
    "                                      index=[None])\n",
    "\n",
    "df18 = pd.concat(data.values())\n",
    "print(df18)"
   ]
  },
  {
   "cell_type": "code",
   "execution_count": 128,
   "id": "823abe5a",
   "metadata": {},
   "outputs": [
    {
     "name": "stdout",
     "output_type": "stream",
     "text": [
      "                          Symbol                             Name        Open\n",
      "2023-01-03 00:00:00-05:00    JNJ                Johnson & Johnson  174.902039\n",
      "2023-01-03 00:00:00-05:00    UNH  UnitedHealth Group Incorporated  523.266273\n",
      "2023-01-03 00:00:00-05:00    NVO                 Novo Nordisk A/S  136.178856\n",
      "2023-01-03 00:00:00-05:00    LLY            Eli Lilly and Company  365.078851\n",
      "2023-01-03 00:00:00-05:00    MRK                Merck & Co., Inc.  109.647695\n"
     ]
    }
   ],
   "source": [
    "#Healthcare Sector\n",
    "#request etflist ticker data from yfinance dated 1-3-2023\n",
    "tickers = ['JNJ', 'UNH', 'NVO', 'LLY', 'MRK']\n",
    "\n",
    "data = {}\n",
    "\n",
    "for ticker in tickers:\n",
    "    try:\n",
    "        stock = yf.Ticker(ticker)\n",
    "        hist19 = stock.history(period='4y')\n",
    "        data[ticker] = pd.DataFrame({'Symbol': [ticker],\n",
    "                                      'Name': [stock.info['longName']],\n",
    "                                      'Open': [hist19.iloc[-72]['Open']]},\n",
    "                                      index=[hist19.index[-72]])\n",
    "    except IndexError:\n",
    "        data[ticker] = pd.DataFrame({'Symbol': [ticker],\n",
    "                                      'Name': [None],\n",
    "                                      'Open': [None]},\n",
    "                                      index=[None])\n",
    "\n",
    "df19 = pd.concat(data.values())\n",
    "print(df19)"
   ]
  },
  {
   "cell_type": "code",
   "execution_count": 132,
   "id": "27a09996",
   "metadata": {},
   "outputs": [
    {
     "name": "stdout",
     "output_type": "stream",
     "text": [
      "                          Symbol                             Name        Open\n",
      "2023-03-01 00:00:00-05:00    JNJ                Johnson & Johnson  153.009995\n",
      "2023-03-01 00:00:00-05:00    UNH  UnitedHealth Group Incorporated  471.929085\n",
      "2023-03-01 00:00:00-05:00    NVO                 Novo Nordisk A/S  141.476398\n",
      "2023-03-01 00:00:00-05:00    LLY            Eli Lilly and Company  310.000000\n",
      "2023-03-01 00:00:00-05:00    MRK                Merck & Co., Inc.  105.228412\n"
     ]
    }
   ],
   "source": [
    "#Healthcare Sector\n",
    "#request etflist ticker data from yfinance dated 3-1-2023\n",
    "tickers = ['JNJ', 'UNH', 'NVO', 'LLY', 'MRK']\n",
    "\n",
    "data = {}\n",
    "\n",
    "for ticker in tickers:\n",
    "    try:\n",
    "        stock = yf.Ticker(ticker)\n",
    "        hist20 = stock.history(period='4y')\n",
    "        data[ticker] = pd.DataFrame({'Symbol': [ticker],\n",
    "                                      'Name': [stock.info['longName']],\n",
    "                                      'Open': [hist20.iloc[-33]['Open']]},\n",
    "                                      index=[hist20.index[-33]])\n",
    "    except IndexError:\n",
    "        data[ticker] = pd.DataFrame({'Symbol': [ticker],\n",
    "                                      'Name': [None],\n",
    "                                      'Open': [None]},\n",
    "                                      index=[None])\n",
    "\n",
    "df20 = pd.concat(data.values())\n",
    "print(df20)"
   ]
  },
  {
   "cell_type": "code",
   "execution_count": null,
   "id": "97bb62a8",
   "metadata": {},
   "outputs": [],
   "source": []
  },
  {
   "cell_type": "code",
   "execution_count": null,
   "id": "9db4d6e1",
   "metadata": {},
   "outputs": [],
   "source": [
    "#Real Estate Sector\n",
    "pld\n",
    "\tamt\n",
    "\teqix\n",
    "\tcci\n",
    "\tpsa\n"
   ]
  },
  {
   "cell_type": "code",
   "execution_count": null,
   "id": "92548581",
   "metadata": {},
   "outputs": [],
   "source": [
    "#Information Technology Sector\n",
    "aapl\n",
    "\tmfst\n",
    "\tnvda\n",
    "\ttsm\n",
    "\tavgo"
   ]
  },
  {
   "cell_type": "code",
   "execution_count": null,
   "id": "5984a5e4",
   "metadata": {},
   "outputs": [],
   "source": [
    "#Financial Sector\n",
    "brk-b\n",
    "\tbrk-a\n",
    "\tv\n",
    "\tjpm\n",
    "\tma\n"
   ]
  },
  {
   "cell_type": "code",
   "execution_count": null,
   "id": "f3ea10d1",
   "metadata": {},
   "outputs": [],
   "source": [
    "#Energy Sector\n",
    "xom\n",
    "\tcvx\n",
    "\tshel\n",
    "\ttte\n",
    "\tcop"
   ]
  },
  {
   "cell_type": "code",
   "execution_count": 555,
   "id": "b641e18b",
   "metadata": {
    "scrolled": false
   },
   "outputs": [
    {
     "name": "stdout",
     "output_type": "stream",
     "text": [
      "                          Symbol  \\\n",
      "2020-01-02 00:00:00-05:00    SPY   \n",
      "2020-01-02 00:00:00-05:00    IVV   \n",
      "2020-01-02 00:00:00-05:00    VOO   \n",
      "2020-01-02 00:00:00-05:00    VTI   \n",
      "2020-01-02 00:00:00-05:00    QQQ   \n",
      "...                          ...   \n",
      "2020-01-02 00:00:00-05:00   ESGU   \n",
      "2020-01-02 00:00:00-05:00    VXF   \n",
      "2020-01-02 00:00:00-05:00    HYG   \n",
      "2020-01-02 00:00:00-05:00   SCHA   \n",
      "2020-01-02 00:00:00-05:00   SCHO   \n",
      "\n",
      "                                                                    Name  \\\n",
      "2020-01-02 00:00:00-05:00                         SPDR S&P 500 ETF Trust   \n",
      "2020-01-02 00:00:00-05:00                       iShares Core S&P 500 ETF   \n",
      "2020-01-02 00:00:00-05:00                        Vanguard 500 Index Fund   \n",
      "2020-01-02 00:00:00-05:00         Vanguard Total Stock Market Index Fund   \n",
      "2020-01-02 00:00:00-05:00                              Invesco QQQ Trust   \n",
      "...                                                                  ...   \n",
      "2020-01-02 00:00:00-05:00                 iShares ESG Aware MSCI USA ETF   \n",
      "2020-01-02 00:00:00-05:00            Vanguard Extended Market Index Fund   \n",
      "2020-01-02 00:00:00-05:00  iShares iBoxx $ High Yield Corporate Bond ETF   \n",
      "2020-01-02 00:00:00-05:00                      Schwab U.S. Small-Cap ETF   \n",
      "2020-01-02 00:00:00-05:00            Schwab Short-Term U.S. Treasury ETF   \n",
      "\n",
      "                                 Open  \n",
      "2020-01-02 00:00:00-05:00  307.254385  \n",
      "2020-01-02 00:00:00-05:00  308.326572  \n",
      "2020-01-02 00:00:00-05:00  282.008768  \n",
      "2020-01-02 00:00:00-05:00  156.503924  \n",
      "2020-01-02 00:00:00-05:00  210.286423  \n",
      "...                               ...  \n",
      "2020-01-02 00:00:00-05:00   68.315645  \n",
      "2020-01-02 00:00:00-05:00  121.810057  \n",
      "2020-01-02 00:00:00-05:00   75.279354  \n",
      "2020-01-02 00:00:00-05:00   36.448256  \n",
      "2020-01-02 00:00:00-05:00   48.743573  \n",
      "\n",
      "[100 rows x 3 columns]\n"
     ]
    }
   ],
   "source": [
    "#request etflist ticker data from yfinance dated 1-2,2020\n",
    "tickers = ['SPY', 'IVV', 'VOO', 'VTI', 'QQQ', 'VEA', 'VTV', 'IEFA', 'BND', 'AGG', 'VUG', 'VWO', 'IEMG', 'IJH', 'IJR', 'VIG', 'IWF', 'GLD', 'VXUS', 'VO', 'IWD', 'IWM', 'VYM', 'EFA', 'BNDX', 'SCHD', 'VGT', 'XLK', 'VB', 'ITOT', 'XLE', 'VCIT', 'XLV', 'BSV', 'VCSH', 'LQD', 'TLT', 'VEU', 'RSP', 'VNQ', 'MUB', 'IXUS', 'SCHX', 'SCHF', 'IEF', 'XLF', 'IVW', 'BIL', 'USMV', 'IAU', 'IWB', 'DIA', 'SHY', 'IWR', 'QUAL', 'VTEB', 'VT', 'MBB', 'VV', 'GOVT', 'EEM', 'JPST', 'IVE', 'IGSB', 'VBR', 'EFG', 'SHV', 'DGRO', 'TIP', 'SDY', 'IUSB', 'DVY', 'SCHB', 'VGSH', 'MDY', 'ACWI', 'VGK', 'PFF', 'XLP', 'VHT', 'XLU', 'SCHG', 'SPYG', 'SPLG', 'VOE', 'VMBS', 'SPDW', 'EFV', 'USFR', 'VTIP', 'EMB', 'GDX', 'SPYV', 'BIV', 'XLY', 'ESGU', 'VXF', 'HYG', 'SCHA', 'SCHO']\n",
    "\n",
    "data = {}\n",
    "\n",
    "for ticker in tickers:\n",
    "    try:\n",
    "        stock = yf.Ticker(ticker)\n",
    "        hist1 = stock.history(period='4y')\n",
    "        data[ticker] = pd.DataFrame({'Symbol': [ticker],\n",
    "                                      'Name': [stock.info['longName']],\n",
    "                                      'Open': [hist1.iloc[-827]['Open']]},\n",
    "                                      index=[hist1.index[-827]])\n",
    "    except IndexError:\n",
    "        data[ticker] = pd.DataFrame({'Symbol': [ticker],\n",
    "                                      'Name': [None],\n",
    "                                      'Open': [None]},\n",
    "                                      index=[None])\n",
    "\n",
    "df1 = pd.concat(data.values())\n",
    "print(df1)"
   ]
  },
  {
   "cell_type": "code",
   "execution_count": 556,
   "id": "426cec0b",
   "metadata": {},
   "outputs": [],
   "source": [
    "df1.to_csv('stock_data.csv', index=True)"
   ]
  },
  {
   "cell_type": "code",
   "execution_count": null,
   "id": "f8580b86",
   "metadata": {},
   "outputs": [],
   "source": []
  },
  {
   "cell_type": "code",
   "execution_count": 557,
   "id": "599f2c59",
   "metadata": {
    "scrolled": true
   },
   "outputs": [
    {
     "name": "stdout",
     "output_type": "stream",
     "text": [
      "                          Symbol  \\\n",
      "2023-04-14 00:00:00-04:00    SPY   \n",
      "2023-04-14 00:00:00-04:00    IVV   \n",
      "2023-04-14 00:00:00-04:00    VOO   \n",
      "2023-04-14 00:00:00-04:00    VTI   \n",
      "2023-04-14 00:00:00-04:00    QQQ   \n",
      "...                          ...   \n",
      "2023-04-14 00:00:00-04:00   ESGU   \n",
      "2023-04-14 00:00:00-04:00    VXF   \n",
      "2023-04-14 00:00:00-04:00    HYG   \n",
      "2023-04-14 00:00:00-04:00   SCHA   \n",
      "2023-04-14 00:00:00-04:00   SCHO   \n",
      "\n",
      "                                                                    Name  \\\n",
      "2023-04-14 00:00:00-04:00                         SPDR S&P 500 ETF Trust   \n",
      "2023-04-14 00:00:00-04:00                       iShares Core S&P 500 ETF   \n",
      "2023-04-14 00:00:00-04:00                        Vanguard 500 Index Fund   \n",
      "2023-04-14 00:00:00-04:00         Vanguard Total Stock Market Index Fund   \n",
      "2023-04-14 00:00:00-04:00                              Invesco QQQ Trust   \n",
      "...                                                                  ...   \n",
      "2023-04-14 00:00:00-04:00                 iShares ESG Aware MSCI USA ETF   \n",
      "2023-04-14 00:00:00-04:00            Vanguard Extended Market Index Fund   \n",
      "2023-04-14 00:00:00-04:00  iShares iBoxx $ High Yield Corporate Bond ETF   \n",
      "2023-04-14 00:00:00-04:00                      Schwab U.S. Small-Cap ETF   \n",
      "2023-04-14 00:00:00-04:00            Schwab Short-Term U.S. Treasury ETF   \n",
      "\n",
      "                                Close  \n",
      "2023-04-14 00:00:00-04:00  412.459991  \n",
      "2023-04-14 00:00:00-04:00  414.250000  \n",
      "2023-04-14 00:00:00-04:00  378.989990  \n",
      "2023-04-14 00:00:00-04:00  205.080002  \n",
      "2023-04-14 00:00:00-04:00  318.570007  \n",
      "...                               ...  \n",
      "2023-04-14 00:00:00-04:00   90.830002  \n",
      "2023-04-14 00:00:00-04:00  138.229996  \n",
      "2023-04-14 00:00:00-04:00   75.279999  \n",
      "2023-04-14 00:00:00-04:00   41.419998  \n",
      "2023-04-14 00:00:00-04:00   48.660000  \n",
      "\n",
      "[100 rows x 3 columns]\n"
     ]
    }
   ],
   "source": [
    "#request etflist ticker data from yfinance dated 4-14,2023\n",
    "tickers = ['SPY','IVV', 'VOO', 'VTI', 'QQQ', 'VEA', 'VTV', 'IEFA', 'BND', 'AGG', 'VUG', 'VWO', 'IEMG', 'IJH', 'IJR', 'VIG', 'IWF', 'GLD', 'VXUS', 'VO', 'IWD', 'IWM', 'VYM', 'EFA', 'BNDX', 'SCHD', 'VGT', 'XLK', 'VB', 'ITOT', 'XLE', 'VCIT', 'XLV', 'BSV', 'VCSH', 'LQD', 'TLT', 'VEU', 'RSP', 'VNQ', 'MUB', 'IXUS', 'SCHX', 'SCHF', 'IEF', 'XLF', 'IVW', 'BIL', 'USMV', 'IAU', 'IWB', 'DIA', 'SHY', 'IWR', 'QUAL', 'VTEB', 'VT', 'MBB', 'VV', 'GOVT', 'EEM', 'JPST', 'IVE', 'IGSB', 'VBR', 'JEPI', 'SHV', 'DGRO', 'TIP', 'SDY', 'IUSB', 'DVY', 'SCHB', 'VGSH', 'MDY', 'ACWI', 'VGK', 'DFAC', 'XLP', 'VHT', 'XLU', 'SCHG', 'SPYG', 'SPLG', 'VOE', 'VMBS', 'SPDW', 'EFV', 'USFR', 'VTIP', 'EMB', 'GDX', 'SPYV', 'BIV', 'XLY', 'ESGU', 'VXF', 'HYG', 'SCHA', 'SCHO']\n",
    "\n",
    "data = {}\n",
    "\n",
    "for ticker in tickers:\n",
    "    stock = yf.Ticker(ticker)\n",
    "    hist2 = stock.history(period='4y')\n",
    "    data[ticker] = pd.DataFrame({'Symbol': [ticker],\n",
    "                                  'Name': [stock.info['longName']],\n",
    "                                  'Close': [hist2.iloc[-1]['Close']]},\n",
    "                                  index=[hist2.index[-1]])\n",
    "\n",
    "df2 = pd.concat(data.values())\n",
    "print(df2)"
   ]
  },
  {
   "cell_type": "code",
   "execution_count": 558,
   "id": "2bfa1e1f",
   "metadata": {},
   "outputs": [],
   "source": [
    "df2.to_csv('stock_data2.csv', index=True)"
   ]
  },
  {
   "cell_type": "code",
   "execution_count": null,
   "id": "346febd2",
   "metadata": {},
   "outputs": [],
   "source": []
  },
  {
   "cell_type": "code",
   "execution_count": null,
   "id": "f308d802",
   "metadata": {},
   "outputs": [],
   "source": []
  }
 ],
 "metadata": {
  "kernelspec": {
   "display_name": "Python 3 (ipykernel)",
   "language": "python",
   "name": "python3"
  },
  "language_info": {
   "codemirror_mode": {
    "name": "ipython",
    "version": 3
   },
   "file_extension": ".py",
   "mimetype": "text/x-python",
   "name": "python",
   "nbconvert_exporter": "python",
   "pygments_lexer": "ipython3",
   "version": "3.9.13"
  }
 },
 "nbformat": 4,
 "nbformat_minor": 5
}
